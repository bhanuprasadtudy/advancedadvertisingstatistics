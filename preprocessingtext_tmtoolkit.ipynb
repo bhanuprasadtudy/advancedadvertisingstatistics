{
  "nbformat": 4,
  "nbformat_minor": 0,
  "metadata": {
    "colab": {
      "name": "preprocessingtext_tmtoolkit.ipynb",
      "provenance": [],
      "collapsed_sections": []
    },
    "kernelspec": {
      "name": "python3",
      "display_name": "Python 3"
    }
  },
  "cells": [
    {
      "cell_type": "code",
      "metadata": {
        "id": "UoZH5ZUYxXRW",
        "colab_type": "code",
        "outputId": "f6689738-62b5-47c8-fa7c-a01aaae22852",
        "colab": {
          "base_uri": "https://localhost:8080/",
          "height": 1000
        }
      },
      "source": [
        "!pip install tmtoolkit #installing in google colab\n",
        "\n",
        "import nltk\n",
        "nltk.download('stopwords')\n",
        "nltk.download('punkt')\n",
        "nltk.download('averaged_perceptron_tagger')\n",
        "nltk.download('wordnet')"
      ],
      "execution_count": 0,
      "outputs": [
        {
          "output_type": "stream",
          "text": [
            "Collecting tmtoolkit\n",
            "\u001b[?25l  Downloading https://files.pythonhosted.org/packages/78/4b/03d1620dc30f99bb03bbcebcb93795f88a49e5875756ebc3871092f04e82/tmtoolkit-0.9.0-py3-none-any.whl (19.9MB)\n",
            "\u001b[K     |████████████████████████████████| 19.9MB 1.2MB/s \n",
            "\u001b[?25hCollecting germalemma>=0.1.3\n",
            "\u001b[?25l  Downloading https://files.pythonhosted.org/packages/c1/94/b335fa67ec8dd6fca977769c17f657526f66e0bcb3a10f44f890ea16555a/germalemma-0.1.3-py3-none-any.whl (2.3MB)\n",
            "\u001b[K     |████████████████████████████████| 2.3MB 49.7MB/s \n",
            "\u001b[?25hCollecting xlrd>=1.2.0\n",
            "\u001b[?25l  Downloading https://files.pythonhosted.org/packages/b0/16/63576a1a001752e34bf8ea62e367997530dc553b689356b9879339cf45a4/xlrd-1.2.0-py2.py3-none-any.whl (103kB)\n",
            "\u001b[K     |████████████████████████████████| 112kB 46.6MB/s \n",
            "\u001b[?25hRequirement already satisfied: scipy>=1.3.0 in /usr/local/lib/python3.6/dist-packages (from tmtoolkit) (1.4.1)\n",
            "Requirement already satisfied: numpy>=1.17.0 in /usr/local/lib/python3.6/dist-packages (from tmtoolkit) (1.17.5)\n",
            "Requirement already satisfied: pandas>=0.25.0 in /usr/local/lib/python3.6/dist-packages (from tmtoolkit) (0.25.3)\n",
            "Collecting nltk>=3.4.0\n",
            "\u001b[?25l  Downloading https://files.pythonhosted.org/packages/f6/1d/d925cfb4f324ede997f6d47bea4d9babba51b49e87a767c170b77005889d/nltk-3.4.5.zip (1.5MB)\n",
            "\u001b[K     |████████████████████████████████| 1.5MB 45.6MB/s \n",
            "\u001b[?25hCollecting globre>=0.1.5\n",
            "  Downloading https://files.pythonhosted.org/packages/5a/ce/a9e2f3317a458f8c591a1f95d4061d4e241f529ba678292acdcf2d804783/globre-0.1.5.tar.gz\n",
            "Requirement already satisfied: matplotlib>=3.1.0 in /usr/local/lib/python3.6/dist-packages (from tmtoolkit) (3.1.2)\n",
            "Collecting deprecation>=2.0.0\n",
            "  Downloading https://files.pythonhosted.org/packages/b9/2a/d5084a8781398cea745c01237b95d9762c382697c63760a95cc6a814ad3a/deprecation-2.0.7-py2.py3-none-any.whl\n",
            "Collecting Pyphen>=0.9.5\n",
            "\u001b[?25l  Downloading https://files.pythonhosted.org/packages/15/82/08a3629dce8d1f3d91db843bb36d4d7db6b6269d5067259613a0d5c8a9db/Pyphen-0.9.5-py2.py3-none-any.whl (3.0MB)\n",
            "\u001b[K     |████████████████████████████████| 3.0MB 53.2MB/s \n",
            "\u001b[?25hCollecting PatternLite>=3.6\n",
            "\u001b[?25l  Downloading https://files.pythonhosted.org/packages/50/f5/1894eb24102cae0e433c18366ec2a8d945b42cbf128303b67454db8587d8/PatternLite-3.6-py3-none-any.whl (22.1MB)\n",
            "\u001b[K     |████████████████████████████████| 22.1MB 177kB/s \n",
            "\u001b[?25hRequirement already satisfied: pytz>=2017.2 in /usr/local/lib/python3.6/dist-packages (from pandas>=0.25.0->tmtoolkit) (2018.9)\n",
            "Requirement already satisfied: python-dateutil>=2.6.1 in /usr/local/lib/python3.6/dist-packages (from pandas>=0.25.0->tmtoolkit) (2.6.1)\n",
            "Requirement already satisfied: six in /usr/local/lib/python3.6/dist-packages (from nltk>=3.4.0->tmtoolkit) (1.12.0)\n",
            "Requirement already satisfied: cycler>=0.10 in /usr/local/lib/python3.6/dist-packages (from matplotlib>=3.1.0->tmtoolkit) (0.10.0)\n",
            "Requirement already satisfied: kiwisolver>=1.0.1 in /usr/local/lib/python3.6/dist-packages (from matplotlib>=3.1.0->tmtoolkit) (1.1.0)\n",
            "Requirement already satisfied: pyparsing!=2.0.4,!=2.1.2,!=2.1.6,>=2.0.1 in /usr/local/lib/python3.6/dist-packages (from matplotlib>=3.1.0->tmtoolkit) (2.4.6)\n",
            "Requirement already satisfied: packaging in /usr/local/lib/python3.6/dist-packages (from deprecation>=2.0.0->tmtoolkit) (20.0)\n",
            "Requirement already satisfied: setuptools in /usr/local/lib/python3.6/dist-packages (from kiwisolver>=1.0.1->matplotlib>=3.1.0->tmtoolkit) (42.0.2)\n",
            "Building wheels for collected packages: nltk, globre\n",
            "  Building wheel for nltk (setup.py) ... \u001b[?25l\u001b[?25hdone\n",
            "  Created wheel for nltk: filename=nltk-3.4.5-cp36-none-any.whl size=1449908 sha256=890ec03183f725ceb3ef4b73dc39fb11948cced2bfeffaa71ab981138774b21a\n",
            "  Stored in directory: /root/.cache/pip/wheels/96/86/f6/68ab24c23f207c0077381a5e3904b2815136b879538a24b483\n",
            "  Building wheel for globre (setup.py) ... \u001b[?25l\u001b[?25hdone\n",
            "  Created wheel for globre: filename=globre-0.1.5-cp36-none-any.whl size=19528 sha256=d0b69dc27defe1a1b13215ba6ee60e4dc84b89f8a0a55f53e54f2b95c394db23\n",
            "  Stored in directory: /root/.cache/pip/wheels/c4/3f/7f/be546f6d880521a8a7a1fe84cbe135fa859be63084682d3292\n",
            "Successfully built nltk globre\n",
            "Installing collected packages: Pyphen, nltk, PatternLite, germalemma, xlrd, globre, deprecation, tmtoolkit\n",
            "  Found existing installation: nltk 3.2.5\n",
            "    Uninstalling nltk-3.2.5:\n",
            "      Successfully uninstalled nltk-3.2.5\n",
            "  Found existing installation: xlrd 1.1.0\n",
            "    Uninstalling xlrd-1.1.0:\n",
            "      Successfully uninstalled xlrd-1.1.0\n",
            "Successfully installed PatternLite-3.6 Pyphen-0.9.5 deprecation-2.0.7 germalemma-0.1.3 globre-0.1.5 nltk-3.4.5 tmtoolkit-0.9.0 xlrd-1.2.0\n"
          ],
          "name": "stdout"
        },
        {
          "output_type": "stream",
          "text": [
            "[nltk_data] Downloading package stopwords to /root/nltk_data...\n",
            "[nltk_data]   Unzipping corpora/stopwords.zip.\n",
            "[nltk_data] Downloading package punkt to /root/nltk_data...\n",
            "[nltk_data]   Unzipping tokenizers/punkt.zip.\n",
            "[nltk_data] Downloading package averaged_perceptron_tagger to\n",
            "[nltk_data]     /root/nltk_data...\n",
            "[nltk_data]   Unzipping taggers/averaged_perceptron_tagger.zip.\n",
            "[nltk_data] Downloading package wordnet to /root/nltk_data...\n",
            "[nltk_data]   Unzipping corpora/wordnet.zip.\n"
          ],
          "name": "stderr"
        },
        {
          "output_type": "execute_result",
          "data": {
            "text/plain": [
              "True"
            ]
          },
          "metadata": {
            "tags": []
          },
          "execution_count": 1
        }
      ]
    },
    {
      "cell_type": "code",
      "metadata": {
        "id": "Di8jPqZtxY9t",
        "colab_type": "code",
        "colab": {}
      },
      "source": [
        "import random\n",
        "random.seed(20191120)\n",
        "\n",
        "import numpy as np\n",
        "np.set_printoptions(precision=5)\n",
        "\n",
        "from tmtoolkit.corpus import Corpus\n",
        "url = \"https://s3.amazonaws.com/vargo.aprd6342/data/rusdata_utf8.csv\"\n",
        "\n",
        "import codecs\n",
        "import csv\n",
        "import urllib\n",
        "\n",
        "corpus = Corpus() #corpus: set of documents\n",
        "TEXT_FIELD = 8\n",
        "\n",
        "with urllib.request.urlopen(url) as response: #performing a web request to open url \n",
        "  stream = urllib.request.urlopen(url) #opening the url \n",
        "  csvfile= csv.reader(codecs.iterdecode(stream,'utf-8')) \n",
        "  for i, line in enumerate(csvfile):\n",
        "    corpus.add_doc(str(i), line[TEXT_FIELD])"
      ],
      "execution_count": 0,
      "outputs": []
    },
    {
      "cell_type": "code",
      "metadata": {
        "id": "aubvPEQOxhyl",
        "colab_type": "code",
        "outputId": "71f1d63c-cc33-4580-9e36-79ac77605861",
        "colab": {
          "base_uri": "https://localhost:8080/",
          "height": 72
        }
      },
      "source": [
        "print(len(corpus))\n",
        "corpus.doc_labels\n",
        "corpus['91']"
      ],
      "execution_count": 0,
      "outputs": [
        {
          "output_type": "stream",
          "text": [
            "2604\n"
          ],
          "name": "stdout"
        },
        {
          "output_type": "execute_result",
          "data": {
            "text/plain": [
              "'Expecting mother includes late husband in maternity photo shoot Through the struggles and pains of losing a dear husband. Nicole Bennett has built courage to take maternity photos with her 4-year-old son. She added old photos of late husband Deonta  but they were slightly faded to appear as a spirit \\x92¢Î\\x97Î\\x94 a symbol of hope that he watches over them. She also did this as a memorial for her unborn daughter who is due March 25. We commend her for her boldness and we hope that she finds solace in these photos. #NicoleBernett #Maternityphotoswithlatehusband'"
            ]
          },
          "metadata": {
            "tags": []
          },
          "execution_count": 3
        }
      ]
    },
    {
      "cell_type": "code",
      "metadata": {
        "id": "TyfUDw8uxkFm",
        "colab_type": "code",
        "outputId": "951714e3-da19-41bd-f43f-36b7559a4f33",
        "colab": {
          "base_uri": "https://localhost:8080/",
          "height": 351
        }
      },
      "source": [
        "import matplotlib\n",
        "matplotlib.pyplot.hist(corpus.doc_lengths.values())"
      ],
      "execution_count": 0,
      "outputs": [
        {
          "output_type": "execute_result",
          "data": {
            "text/plain": [
              "(array([1759.,  389.,  182.,  130.,   78.,   37.,   18.,    6.,    3.,\n",
              "           2.]),\n",
              " array([   0. ,  239.3,  478.6,  717.9,  957.2, 1196.5, 1435.8, 1675.1,\n",
              "        1914.4, 2153.7, 2393. ]),\n",
              " <a list of 10 Patch objects>)"
            ]
          },
          "metadata": {
            "tags": []
          },
          "execution_count": 4
        },
        {
          "output_type": "display_data",
          "data": {
            "image/png": "[encoded data removed]",
            "text/plain": [
              "<Figure size 432x288 with 1 Axes>"
            ]
          },
          "metadata": {
            "tags": []
          }
        }
      ]
    },
    {
      "cell_type": "code",
      "metadata": {
        "id": "8EBq0Ax2xl_U",
        "colab_type": "code",
        "outputId": "0a6a3f40-fafa-428f-df16-7e918c47ebb8",
        "colab": {
          "base_uri": "https://localhost:8080/",
          "height": 34
        }
      },
      "source": [
        "from tmtoolkit.preprocess import TMPreproc\n",
        "preproc = TMPreproc (corpus)\n",
        "preproc.pos_tag()\n",
        "preproc.lemmatize()\n",
        "preproc.tokens_to_lowercase()\n",
        "preproc.remove_special_chars_in_tokens()\n",
        "preproc.add_stopwords(['http','nt'])"
      ],
      "execution_count": 0,
      "outputs": [
        {
          "output_type": "execute_result",
          "data": {
            "text/plain": [
              "<TMPreproc [2604 documents]>"
            ]
          },
          "metadata": {
            "tags": []
          },
          "execution_count": 5
        }
      ]
    },
    {
      "cell_type": "code",
      "metadata": {
        "id": "6096u_OSxpEL",
        "colab_type": "code",
        "outputId": "db30ac76-9b77-48e6-fb47-840de58328ad",
        "colab": {
          "base_uri": "https://localhost:8080/",
          "height": 54
        }
      },
      "source": [
        "corpus['91']"
      ],
      "execution_count": 0,
      "outputs": [
        {
          "output_type": "execute_result",
          "data": {
            "text/plain": [
              "'Expecting mother includes late husband in maternity photo shoot Through the struggles and pains of losing a dear husband. Nicole Bennett has built courage to take maternity photos with her 4-year-old son. She added old photos of late husband Deonta  but they were slightly faded to appear as a spirit \\x92¢Î\\x97Î\\x94 a symbol of hope that he watches over them. She also did this as a memorial for her unborn daughter who is due March 25. We commend her for her boldness and we hope that she finds solace in these photos. #NicoleBernett #Maternityphotoswithlatehusband'"
            ]
          },
          "metadata": {
            "tags": []
          },
          "execution_count": 6
        }
      ]
    },
    {
      "cell_type": "code",
      "metadata": {
        "id": "R4p5u5LRxsj6",
        "colab_type": "code",
        "outputId": "1147d91a-f5fb-41e1-efb4-1696652cf2cc",
        "colab": {
          "base_uri": "https://localhost:8080/",
          "height": 1000
        }
      },
      "source": [
        "preproc.tokens['91']"
      ],
      "execution_count": 0,
      "outputs": [
        {
          "output_type": "execute_result",
          "data": {
            "text/plain": [
              "['expecting',\n",
              " 'mother',\n",
              " 'include',\n",
              " 'late',\n",
              " 'husband',\n",
              " 'in',\n",
              " 'maternity',\n",
              " 'photo',\n",
              " 'shoot',\n",
              " 'through',\n",
              " 'the',\n",
              " 'struggle',\n",
              " 'and',\n",
              " 'pain',\n",
              " 'of',\n",
              " 'lose',\n",
              " 'a',\n",
              " 'dear',\n",
              " 'husband',\n",
              " '',\n",
              " 'nicole',\n",
              " 'bennett',\n",
              " 'have',\n",
              " 'build',\n",
              " 'courage',\n",
              " 'to',\n",
              " 'take',\n",
              " 'maternity',\n",
              " 'photo',\n",
              " 'with',\n",
              " 'her',\n",
              " '4yearold',\n",
              " 'son',\n",
              " '',\n",
              " 'she',\n",
              " 'add',\n",
              " 'old',\n",
              " 'photo',\n",
              " 'of',\n",
              " 'late',\n",
              " 'husband',\n",
              " 'deonta',\n",
              " 'but',\n",
              " 'they',\n",
              " 'be',\n",
              " 'slightly',\n",
              " 'fade',\n",
              " 'to',\n",
              " 'appear',\n",
              " 'as',\n",
              " 'a',\n",
              " 'spirit',\n",
              " '\\x92¢î\\x97î\\x94',\n",
              " 'a',\n",
              " 'symbol',\n",
              " 'of',\n",
              " 'hope',\n",
              " 'that',\n",
              " 'he',\n",
              " 'watch',\n",
              " 'over',\n",
              " 'them',\n",
              " '',\n",
              " 'she',\n",
              " 'also',\n",
              " 'do',\n",
              " 'this',\n",
              " 'as',\n",
              " 'a',\n",
              " 'memorial',\n",
              " 'for',\n",
              " 'her',\n",
              " 'unborn',\n",
              " 'daughter',\n",
              " 'who',\n",
              " 'be',\n",
              " 'due',\n",
              " 'march',\n",
              " '25',\n",
              " '',\n",
              " 'we',\n",
              " 'commend',\n",
              " 'her',\n",
              " 'for',\n",
              " 'her',\n",
              " 'boldness',\n",
              " 'and',\n",
              " 'we',\n",
              " 'hope',\n",
              " 'that',\n",
              " 'she',\n",
              " 'find',\n",
              " 'solace',\n",
              " 'in',\n",
              " 'these',\n",
              " 'photo',\n",
              " '',\n",
              " '',\n",
              " 'nicolebernett',\n",
              " '',\n",
              " 'maternityphotoswithlatehusband']"
            ]
          },
          "metadata": {
            "tags": []
          },
          "execution_count": 7
        }
      ]
    },
    {
      "cell_type": "code",
      "metadata": {
        "id": "ODYXCzPPxvcT",
        "colab_type": "code",
        "outputId": "d9ad1337-14ba-4e7b-e1e0-76c54ea44181",
        "colab": {
          "base_uri": "https://localhost:8080/",
          "height": 34
        }
      },
      "source": [
        "preproc.vocabulary_size"
      ],
      "execution_count": 0,
      "outputs": [
        {
          "output_type": "execute_result",
          "data": {
            "text/plain": [
              "8952"
            ]
          },
          "metadata": {
            "tags": []
          },
          "execution_count": 8
        }
      ]
    },
    {
      "cell_type": "code",
      "metadata": {
        "id": "HAkXO9MhxzGC",
        "colab_type": "code",
        "outputId": "bba26b05-8f60-4cbc-cd75-204f8a2c0b80",
        "colab": {
          "base_uri": "https://localhost:8080/",
          "height": 34
        }
      },
      "source": [
        "preproc.stem()"
      ],
      "execution_count": 0,
      "outputs": [
        {
          "output_type": "execute_result",
          "data": {
            "text/plain": [
              "<TMPreproc [2604 documents]>"
            ]
          },
          "metadata": {
            "tags": []
          },
          "execution_count": 9
        }
      ]
    },
    {
      "cell_type": "code",
      "metadata": {
        "id": "7sRL91avx1Va",
        "colab_type": "code",
        "outputId": "72f9edea-1830-4804-d787-e9eae9d810ec",
        "colab": {
          "base_uri": "https://localhost:8080/",
          "height": 408
        }
      },
      "source": [
        "preproc.tokens_datatable"
      ],
      "execution_count": 0,
      "outputs": [
        {
          "output_type": "execute_result",
          "data": {
            "text/html": [
              "<div>\n",
              "<style scoped>\n",
              "    .dataframe tbody tr th:only-of-type {\n",
              "        vertical-align: middle;\n",
              "    }\n",
              "\n",
              "    .dataframe tbody tr th {\n",
              "        vertical-align: top;\n",
              "    }\n",
              "\n",
              "    .dataframe thead th {\n",
              "        text-align: right;\n",
              "    }\n",
              "</style>\n",
              "<table border=\"1\" class=\"dataframe\">\n",
              "  <thead>\n",
              "    <tr style=\"text-align: right;\">\n",
              "      <th></th>\n",
              "      <th>doc</th>\n",
              "      <th>position</th>\n",
              "      <th>token</th>\n",
              "      <th>meta_pos</th>\n",
              "    </tr>\n",
              "  </thead>\n",
              "  <tbody>\n",
              "    <tr>\n",
              "      <th>0</th>\n",
              "      <td>0</td>\n",
              "      <td>0</td>\n",
              "      <td>text</td>\n",
              "      <td>NN</td>\n",
              "    </tr>\n",
              "    <tr>\n",
              "      <th>0</th>\n",
              "      <td>1</td>\n",
              "      <td>0</td>\n",
              "      <td>god</td>\n",
              "      <td>NNP</td>\n",
              "    </tr>\n",
              "    <tr>\n",
              "      <th>1</th>\n",
              "      <td>1</td>\n",
              "      <td>1</td>\n",
              "      <td>bless</td>\n",
              "      <td>NNP</td>\n",
              "    </tr>\n",
              "    <tr>\n",
              "      <th>2</th>\n",
              "      <td>1</td>\n",
              "      <td>2</td>\n",
              "      <td>dixi</td>\n",
              "      <td>NNP</td>\n",
              "    </tr>\n",
              "    <tr>\n",
              "      <th>3</th>\n",
              "      <td>1</td>\n",
              "      <td>3</td>\n",
              "      <td></td>\n",
              "      <td>.</td>\n",
              "    </tr>\n",
              "    <tr>\n",
              "      <th>...</th>\n",
              "      <td>...</td>\n",
              "      <td>...</td>\n",
              "      <td>...</td>\n",
              "      <td>...</td>\n",
              "    </tr>\n",
              "    <tr>\n",
              "      <th>7</th>\n",
              "      <td>999</td>\n",
              "      <td>7</td>\n",
              "      <td>a</td>\n",
              "      <td>DT</td>\n",
              "    </tr>\n",
              "    <tr>\n",
              "      <th>8</th>\n",
              "      <td>999</td>\n",
              "      <td>8</td>\n",
              "      <td>black</td>\n",
              "      <td>JJ</td>\n",
              "    </tr>\n",
              "    <tr>\n",
              "      <th>9</th>\n",
              "      <td>999</td>\n",
              "      <td>9</td>\n",
              "      <td>tinker</td>\n",
              "      <td>NNP</td>\n",
              "    </tr>\n",
              "    <tr>\n",
              "      <th>10</th>\n",
              "      <td>999</td>\n",
              "      <td>10</td>\n",
              "      <td>bell</td>\n",
              "      <td>NNP</td>\n",
              "    </tr>\n",
              "    <tr>\n",
              "      <th>11</th>\n",
              "      <td>999</td>\n",
              "      <td>11</td>\n",
              "      <td></td>\n",
              "      <td>.</td>\n",
              "    </tr>\n",
              "  </tbody>\n",
              "</table>\n",
              "<p>124602 rows × 4 columns</p>\n",
              "</div>"
            ],
            "text/plain": [
              "    doc  position   token meta_pos\n",
              "0     0         0    text       NN\n",
              "0     1         0     god      NNP\n",
              "1     1         1   bless      NNP\n",
              "2     1         2    dixi      NNP\n",
              "3     1         3                .\n",
              "..  ...       ...     ...      ...\n",
              "7   999         7       a       DT\n",
              "8   999         8   black       JJ\n",
              "9   999         9  tinker      NNP\n",
              "10  999        10    bell      NNP\n",
              "11  999        11                .\n",
              "\n",
              "[124602 rows x 4 columns]"
            ]
          },
          "metadata": {
            "tags": []
          },
          "execution_count": 10
        }
      ]
    },
    {
      "cell_type": "code",
      "metadata": {
        "id": "eKbWmyWMx4WK",
        "colab_type": "code",
        "outputId": "c8e622d5-fd87-4f81-f283-29813878f323",
        "colab": {
          "base_uri": "https://localhost:8080/",
          "height": 52
        }
      },
      "source": [
        "preproc_smaller = preproc.copy()\n",
        "preproc_smaller.filter_for_pos('N')\n",
        "preproc_smaller.clean_tokens(remove_numbers=True, remove_shorter_than=2)\n",
        "preproc_smaller.remove_uncommon_tokens(df_threshold= 0.01)\n",
        "print(preproc.vocabulary_size)\n",
        "print(preproc_smaller.vocabulary_size)"
      ],
      "execution_count": 0,
      "outputs": [
        {
          "output_type": "stream",
          "text": [
            "7418\n",
            "216\n"
          ],
          "name": "stdout"
        }
      ]
    },
    {
      "cell_type": "code",
      "metadata": {
        "id": "764HAeNyx7Sd",
        "colab_type": "code",
        "outputId": "294ebef9-1e9d-4269-80e5-85cb0ef323e7",
        "colab": {
          "base_uri": "https://localhost:8080/",
          "height": 141
        }
      },
      "source": [
        "print(preproc.tokens['91'])\n",
        "print(preproc_smaller.tokens['91'])\n",
        "print(preproc.tokens['1'])\n",
        "print(preproc_smaller.tokens['1'])\n",
        "print(preproc.tokens['2000'])\n",
        "print(preproc_smaller.tokens['2000'])"
      ],
      "execution_count": 0,
      "outputs": [
        {
          "output_type": "stream",
          "text": [
            "['expect', 'mother', 'includ', 'late', 'husband', 'in', 'matern', 'photo', 'shoot', 'through', 'the', 'struggl', 'and', 'pain', 'of', 'lose', 'a', 'dear', 'husband', '', 'nicol', 'bennett', 'have', 'build', 'courag', 'to', 'take', 'matern', 'photo', 'with', 'her', '4yearold', 'son', '', 'she', 'add', 'old', 'photo', 'of', 'late', 'husband', 'deonta', 'but', 'they', 'be', 'slight', 'fade', 'to', 'appear', 'as', 'a', 'spirit', '\\x92¢î\\x97î\\x94', 'a', 'symbol', 'of', 'hope', 'that', 'he', 'watch', 'over', 'them', '', 'she', 'also', 'do', 'this', 'as', 'a', 'memori', 'for', 'her', 'unborn', 'daughter', 'who', 'be', 'due', 'march', '25', '', 'we', 'commend', 'her', 'for', 'her', 'bold', 'and', 'we', 'hope', 'that', 'she', 'find', 'solac', 'in', 'these', 'photo', '', '', 'nicolebernett', '', 'maternityphotoswithlatehusband']\n",
            "['shoot', 'memori']\n",
            "['god', 'bless', 'dixi', '', 'the', 'south', 'will', 'rise', 'again', '']\n",
            "['god', 'south']\n",
            "['the', 'head', 'of', 'chicago', 's', 'ipra', 'sharon', 'fairley', 'have', 'recommend', 'an', 'onduti', 'offic', 'to', 'be', 'fire', 'for', 'call', 'presid', 'obama', 'a', 'nr', 'accord', 'to', 'chicago', 'suntim', 'the', 'racist', 'remark', 'be', 'make', 'dure', 'a', 'meet', 'to', 'decid', 'on', '', 'who', 'would', 'cover', 'the', 'presid', 's', 'detail', 'for', 'a', 'bull', 'game', '', '', 'the', 'independ', 'chicago', 'cop', 'to', 'be', 'fire', 'for', 'call', 'obama', 'nword', 'i', 'black', 'matter', 'black', 'matter']\n",
            "['offic', 'presid', 'obama', 'racist', 'meet', 'presid', 'cop', 'obama', 'matter', 'black', 'matter']\n"
          ],
          "name": "stdout"
        }
      ]
    },
    {
      "cell_type": "code",
      "metadata": {
        "id": "6R5KRRC1yVql",
        "colab_type": "code",
        "outputId": "adcf6414-662a-42f2-e39a-e2c2d5f1800d",
        "colab": {
          "base_uri": "https://localhost:8080/",
          "height": 52
        }
      },
      "source": [
        "doc_labels = np.array(preproc.doc_labels)\n",
        "doc_labels[:10]"
      ],
      "execution_count": 0,
      "outputs": [
        {
          "output_type": "execute_result",
          "data": {
            "text/plain": [
              "array(['0', '1', '10', '100', '1000', '1001', '1002', '1003', '1004',\n",
              "       '1005'], dtype='<U4')"
            ]
          },
          "metadata": {
            "tags": []
          },
          "execution_count": 13
        }
      ]
    },
    {
      "cell_type": "code",
      "metadata": {
        "id": "hXk7pThDzb1T",
        "colab_type": "code",
        "colab": {}
      },
      "source": [
        "vocab_bg = np.array(preproc.vocabulary)\n",
        "vocab_sm = np.array(preproc_smaller.vocabulary)"
      ],
      "execution_count": 0,
      "outputs": []
    },
    {
      "cell_type": "code",
      "metadata": {
        "id": "-lGDyPDXzmhJ",
        "colab_type": "code",
        "outputId": "94d4e5ee-d8ef-4130-b41e-da4ccc616d8d",
        "colab": {
          "base_uri": "https://localhost:8080/",
          "height": 86
        }
      },
      "source": [
        "dtm_bg = preproc.dtm\n",
        "dtm_sm = preproc_smaller.dtm\n",
        "\n",
        "dtm_bg,dtm_sm"
      ],
      "execution_count": 0,
      "outputs": [
        {
          "output_type": "execute_result",
          "data": {
            "text/plain": [
              "(<2604x7418 sparse matrix of type '<class 'numpy.int32'>'\n",
              " \twith 81355 stored elements in Compressed Sparse Row format>,\n",
              " <2604x216 sparse matrix of type '<class 'numpy.int32'>'\n",
              " \twith 13245 stored elements in Compressed Sparse Row format>)"
            ]
          },
          "metadata": {
            "tags": []
          },
          "execution_count": 16
        }
      ]
    }
  ]
}