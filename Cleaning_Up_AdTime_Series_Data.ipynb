{
  "nbformat": 4,
  "nbformat_minor": 0,
  "metadata": {
    "colab": {
      "name": "Cleaning Up AdTime Series Data.ipynb",
      "provenance": [],
      "include_colab_link": true
    },
    "kernelspec": {
      "name": "python3",
      "display_name": "Python 3"
    }
  },
  "cells": [
    {
      "cell_type": "markdown",
      "metadata": {
        "id": "view-in-github",
        "colab_type": "text"
      },
      "source": [
        "<a href=\"https://colab.research.google.com/github/bhanuprasadtudy/advancedadvertisingstatistics/blob/master/Cleaning_Up_AdTime_Series_Data.ipynb\" target=\"_parent\"><img src=\"https://colab.research.google.com/assets/colab-badge.svg\" alt=\"Open In Colab\"/></a>"
      ]
    },
    {
      "cell_type": "code",
      "metadata": {
        "id": "i6AlV9i1NiPc",
        "colab_type": "code",
        "colab": {}
      },
      "source": [
        "import pandas as pd"
      ],
      "execution_count": 0,
      "outputs": []
    },
    {
      "cell_type": "code",
      "metadata": {
        "id": "vMjIz_XWM8XW",
        "colab_type": "code",
        "colab": {
          "base_uri": "https://localhost:8080/",
          "height": 124
        },
        "outputId": "9234aa64-219b-407d-bed4-a7248e23148a"
      },
      "source": [
        "from google.colab import drive\n",
        "drive.mount('/content/drive')"
      ],
      "execution_count": 1,
      "outputs": [
        {
          "output_type": "stream",
          "text": [
            "Go to this URL in a browser: https://accounts.google.com/o/oauth2/auth?client_id=947318989803-6bn6qk8qdgf4n4g3pfee6491hc0brc4i.apps.googleusercontent.com&redirect_uri=urn%3aietf%3awg%3aoauth%3a2.0%3aoob&response_type=code&scope=email%20https%3a%2f%2fwww.googleapis.com%2fauth%2fdocs.test%20https%3a%2f%2fwww.googleapis.com%2fauth%2fdrive%20https%3a%2f%2fwww.googleapis.com%2fauth%2fdrive.photos.readonly%20https%3a%2f%2fwww.googleapis.com%2fauth%2fpeopleapi.readonly\n",
            "\n",
            "Enter your authorization code:\n",
            "··········\n",
            "Mounted at /content/drive\n"
          ],
          "name": "stdout"
        }
      ]
    },
    {
      "cell_type": "code",
      "metadata": {
        "id": "GHlWi80oKlt_",
        "colab_type": "code",
        "colab": {
          "base_uri": "https://localhost:8080/",
          "height": 527
        },
        "outputId": "c6663e59-6f07-4195-cbfd-e6f60948da6c"
      },
      "source": [
        "csv_file = '/content/drive/My Drive/Colab Notebooks/mercedesbenz.adspend.csv'       \n",
        "df = pd.read_csv(csv_file)\n",
        "df.head()"
      ],
      "execution_count": 6,
      "outputs": [
        {
          "output_type": "execute_result",
          "data": {
            "text/html": [
              "<div>\n",
              "<style scoped>\n",
              "    .dataframe tbody tr th:only-of-type {\n",
              "        vertical-align: middle;\n",
              "    }\n",
              "\n",
              "    .dataframe tbody tr th {\n",
              "        vertical-align: top;\n",
              "    }\n",
              "\n",
              "    .dataframe thead th {\n",
              "        text-align: right;\n",
              "    }\n",
              "</style>\n",
              "<table border=\"1\" class=\"dataframe\">\n",
              "  <thead>\n",
              "    <tr style=\"text-align: right;\">\n",
              "      <th></th>\n",
              "      <th>TIME PERIOD</th>\n",
              "      <th>PRODUCT</th>\n",
              "      <th>TOTAL DOLS (000)</th>\n",
              "      <th>NETWORK TV DOLS (000)</th>\n",
              "      <th>CABLE TV DOLS (000)</th>\n",
              "      <th>SYNDICATION DOLS (000)</th>\n",
              "      <th>SPOT TV DOLS (000)</th>\n",
              "      <th>MAGAZINES DOLS (000)</th>\n",
              "      <th>SUNDAY MAGS DOLS (000)</th>\n",
              "      <th>NATL NEWSP DOLS (000)</th>\n",
              "      <th>NEWSPAPER DOLS (000)</th>\n",
              "      <th>NETWORK RADIO DOLS (000)</th>\n",
              "      <th>NAT SPOT RADIO DOLS (000)</th>\n",
              "      <th>OUTDOOR DOLS (000)</th>\n",
              "    </tr>\n",
              "  </thead>\n",
              "  <tbody>\n",
              "    <tr>\n",
              "      <th>0</th>\n",
              "      <td>WEEK OF OCT 07, 2013 (B)</td>\n",
              "      <td>Mercedes Benz CLA : European Passenger Auto</td>\n",
              "      <td>4464.1</td>\n",
              "      <td>887.6</td>\n",
              "      <td>1161.2</td>\n",
              "      <td>0.0</td>\n",
              "      <td>2129.0</td>\n",
              "      <td>286.4</td>\n",
              "      <td>0.0</td>\n",
              "      <td>0.0</td>\n",
              "      <td>0.0</td>\n",
              "      <td>0.0</td>\n",
              "      <td>0.0</td>\n",
              "      <td>0.0</td>\n",
              "    </tr>\n",
              "    <tr>\n",
              "      <th>1</th>\n",
              "      <td>WEEK OF OCT 07, 2013 (B)</td>\n",
              "      <td>Mercedes Benz CLA250 : European Passenger Auto</td>\n",
              "      <td>1196.5</td>\n",
              "      <td>426.2</td>\n",
              "      <td>770.3</td>\n",
              "      <td>0.0</td>\n",
              "      <td>0.0</td>\n",
              "      <td>0.0</td>\n",
              "      <td>0.0</td>\n",
              "      <td>0.0</td>\n",
              "      <td>0.0</td>\n",
              "      <td>0.0</td>\n",
              "      <td>0.0</td>\n",
              "      <td>0.0</td>\n",
              "    </tr>\n",
              "    <tr>\n",
              "      <th>2</th>\n",
              "      <td>WEEK OF OCT 07, 2013 (B)</td>\n",
              "      <td>Mercedes Benz CLA250 Leasing : European Passen...</td>\n",
              "      <td>0.1</td>\n",
              "      <td>0.0</td>\n",
              "      <td>0.0</td>\n",
              "      <td>0.0</td>\n",
              "      <td>0.1</td>\n",
              "      <td>0.0</td>\n",
              "      <td>0.0</td>\n",
              "      <td>0.0</td>\n",
              "      <td>0.0</td>\n",
              "      <td>0.0</td>\n",
              "      <td>0.0</td>\n",
              "      <td>0.0</td>\n",
              "    </tr>\n",
              "    <tr>\n",
              "      <th>3</th>\n",
              "      <td>WEEK OF OCT 07, 2013 (B)</td>\n",
              "      <td>Mercedes Benz Full Line : Various European Aut...</td>\n",
              "      <td>30.2</td>\n",
              "      <td>0.0</td>\n",
              "      <td>0.0</td>\n",
              "      <td>0.0</td>\n",
              "      <td>1.1</td>\n",
              "      <td>0.0</td>\n",
              "      <td>0.0</td>\n",
              "      <td>0.0</td>\n",
              "      <td>0.0</td>\n",
              "      <td>28.8</td>\n",
              "      <td>0.2</td>\n",
              "      <td>0.0</td>\n",
              "    </tr>\n",
              "    <tr>\n",
              "      <th>4</th>\n",
              "      <td>WEEK OF OCT 07, 2013 (B)</td>\n",
              "      <td>Mercedes Benz Full Line Pre-Owned : Various Eu...</td>\n",
              "      <td>37.1</td>\n",
              "      <td>0.0</td>\n",
              "      <td>0.0</td>\n",
              "      <td>0.0</td>\n",
              "      <td>0.0</td>\n",
              "      <td>0.0</td>\n",
              "      <td>0.0</td>\n",
              "      <td>0.0</td>\n",
              "      <td>0.0</td>\n",
              "      <td>37.1</td>\n",
              "      <td>0.0</td>\n",
              "      <td>0.0</td>\n",
              "    </tr>\n",
              "  </tbody>\n",
              "</table>\n",
              "</div>"
            ],
            "text/plain": [
              "                TIME PERIOD  ... OUTDOOR DOLS (000)\n",
              "0  WEEK OF OCT 07, 2013 (B)  ...                0.0\n",
              "1  WEEK OF OCT 07, 2013 (B)  ...                0.0\n",
              "2  WEEK OF OCT 07, 2013 (B)  ...                0.0\n",
              "3  WEEK OF OCT 07, 2013 (B)  ...                0.0\n",
              "4  WEEK OF OCT 07, 2013 (B)  ...                0.0\n",
              "\n",
              "[5 rows x 14 columns]"
            ]
          },
          "metadata": {
            "tags": []
          },
          "execution_count": 6
        }
      ]
    },
    {
      "cell_type": "code",
      "metadata": {
        "id": "8Tf_18ttUDQX",
        "colab_type": "code",
        "colab": {
          "base_uri": "https://localhost:8080/",
          "height": 527
        },
        "outputId": "064a327b-4989-4689-c5fb-c7525544918e"
      },
      "source": [
        "df[\"TIME PERIOD\"]= df[\"TIME PERIOD\"].str.replace(\"WEEK OF\", \"\", case = False)\n",
        "df.head()  "
      ],
      "execution_count": 7,
      "outputs": [
        {
          "output_type": "execute_result",
          "data": {
            "text/html": [
              "<div>\n",
              "<style scoped>\n",
              "    .dataframe tbody tr th:only-of-type {\n",
              "        vertical-align: middle;\n",
              "    }\n",
              "\n",
              "    .dataframe tbody tr th {\n",
              "        vertical-align: top;\n",
              "    }\n",
              "\n",
              "    .dataframe thead th {\n",
              "        text-align: right;\n",
              "    }\n",
              "</style>\n",
              "<table border=\"1\" class=\"dataframe\">\n",
              "  <thead>\n",
              "    <tr style=\"text-align: right;\">\n",
              "      <th></th>\n",
              "      <th>TIME PERIOD</th>\n",
              "      <th>PRODUCT</th>\n",
              "      <th>TOTAL DOLS (000)</th>\n",
              "      <th>NETWORK TV DOLS (000)</th>\n",
              "      <th>CABLE TV DOLS (000)</th>\n",
              "      <th>SYNDICATION DOLS (000)</th>\n",
              "      <th>SPOT TV DOLS (000)</th>\n",
              "      <th>MAGAZINES DOLS (000)</th>\n",
              "      <th>SUNDAY MAGS DOLS (000)</th>\n",
              "      <th>NATL NEWSP DOLS (000)</th>\n",
              "      <th>NEWSPAPER DOLS (000)</th>\n",
              "      <th>NETWORK RADIO DOLS (000)</th>\n",
              "      <th>NAT SPOT RADIO DOLS (000)</th>\n",
              "      <th>OUTDOOR DOLS (000)</th>\n",
              "    </tr>\n",
              "  </thead>\n",
              "  <tbody>\n",
              "    <tr>\n",
              "      <th>0</th>\n",
              "      <td>OCT 07, 2013 (B)</td>\n",
              "      <td>Mercedes Benz CLA : European Passenger Auto</td>\n",
              "      <td>4464.1</td>\n",
              "      <td>887.6</td>\n",
              "      <td>1161.2</td>\n",
              "      <td>0.0</td>\n",
              "      <td>2129.0</td>\n",
              "      <td>286.4</td>\n",
              "      <td>0.0</td>\n",
              "      <td>0.0</td>\n",
              "      <td>0.0</td>\n",
              "      <td>0.0</td>\n",
              "      <td>0.0</td>\n",
              "      <td>0.0</td>\n",
              "    </tr>\n",
              "    <tr>\n",
              "      <th>1</th>\n",
              "      <td>OCT 07, 2013 (B)</td>\n",
              "      <td>Mercedes Benz CLA250 : European Passenger Auto</td>\n",
              "      <td>1196.5</td>\n",
              "      <td>426.2</td>\n",
              "      <td>770.3</td>\n",
              "      <td>0.0</td>\n",
              "      <td>0.0</td>\n",
              "      <td>0.0</td>\n",
              "      <td>0.0</td>\n",
              "      <td>0.0</td>\n",
              "      <td>0.0</td>\n",
              "      <td>0.0</td>\n",
              "      <td>0.0</td>\n",
              "      <td>0.0</td>\n",
              "    </tr>\n",
              "    <tr>\n",
              "      <th>2</th>\n",
              "      <td>OCT 07, 2013 (B)</td>\n",
              "      <td>Mercedes Benz CLA250 Leasing : European Passen...</td>\n",
              "      <td>0.1</td>\n",
              "      <td>0.0</td>\n",
              "      <td>0.0</td>\n",
              "      <td>0.0</td>\n",
              "      <td>0.1</td>\n",
              "      <td>0.0</td>\n",
              "      <td>0.0</td>\n",
              "      <td>0.0</td>\n",
              "      <td>0.0</td>\n",
              "      <td>0.0</td>\n",
              "      <td>0.0</td>\n",
              "      <td>0.0</td>\n",
              "    </tr>\n",
              "    <tr>\n",
              "      <th>3</th>\n",
              "      <td>OCT 07, 2013 (B)</td>\n",
              "      <td>Mercedes Benz Full Line : Various European Aut...</td>\n",
              "      <td>30.2</td>\n",
              "      <td>0.0</td>\n",
              "      <td>0.0</td>\n",
              "      <td>0.0</td>\n",
              "      <td>1.1</td>\n",
              "      <td>0.0</td>\n",
              "      <td>0.0</td>\n",
              "      <td>0.0</td>\n",
              "      <td>0.0</td>\n",
              "      <td>28.8</td>\n",
              "      <td>0.2</td>\n",
              "      <td>0.0</td>\n",
              "    </tr>\n",
              "    <tr>\n",
              "      <th>4</th>\n",
              "      <td>OCT 07, 2013 (B)</td>\n",
              "      <td>Mercedes Benz Full Line Pre-Owned : Various Eu...</td>\n",
              "      <td>37.1</td>\n",
              "      <td>0.0</td>\n",
              "      <td>0.0</td>\n",
              "      <td>0.0</td>\n",
              "      <td>0.0</td>\n",
              "      <td>0.0</td>\n",
              "      <td>0.0</td>\n",
              "      <td>0.0</td>\n",
              "      <td>0.0</td>\n",
              "      <td>37.1</td>\n",
              "      <td>0.0</td>\n",
              "      <td>0.0</td>\n",
              "    </tr>\n",
              "  </tbody>\n",
              "</table>\n",
              "</div>"
            ],
            "text/plain": [
              "         TIME PERIOD  ... OUTDOOR DOLS (000)\n",
              "0   OCT 07, 2013 (B)  ...                0.0\n",
              "1   OCT 07, 2013 (B)  ...                0.0\n",
              "2   OCT 07, 2013 (B)  ...                0.0\n",
              "3   OCT 07, 2013 (B)  ...                0.0\n",
              "4   OCT 07, 2013 (B)  ...                0.0\n",
              "\n",
              "[5 rows x 14 columns]"
            ]
          },
          "metadata": {
            "tags": []
          },
          "execution_count": 7
        }
      ]
    },
    {
      "cell_type": "markdown",
      "metadata": {
        "id": "aeL688INNjPH",
        "colab_type": "text"
      },
      "source": [
        "# Cleaning\n"
      ]
    },
    {
      "cell_type": "code",
      "metadata": {
        "id": "qRuRHhO2U_nI",
        "colab_type": "code",
        "colab": {
          "base_uri": "https://localhost:8080/",
          "height": 719
        },
        "outputId": "e36d94e0-706f-44c2-f853-34e89757ba5c"
      },
      "source": [
        "df[\"TIME PERIOD\"]= df[\"TIME PERIOD\"].str.replace(\"(B)\", \"\", case = False)\n",
        "df['TIME PERIOD'] = df['TIME PERIOD'].str.replace(r\"\\(.*\\)\",\"\")  \n",
        "df['TIME PERIOD'] = df['TIME PERIOD'].str.replace(r\",\",\"\")  \n",
        "df.head()   "
      ],
      "execution_count": 8,
      "outputs": [
        {
          "output_type": "execute_result",
          "data": {
            "text/html": [
              "<div>\n",
              "<style scoped>\n",
              "    .dataframe tbody tr th:only-of-type {\n",
              "        vertical-align: middle;\n",
              "    }\n",
              "\n",
              "    .dataframe tbody tr th {\n",
              "        vertical-align: top;\n",
              "    }\n",
              "\n",
              "    .dataframe thead th {\n",
              "        text-align: right;\n",
              "    }\n",
              "</style>\n",
              "<table border=\"1\" class=\"dataframe\">\n",
              "  <thead>\n",
              "    <tr style=\"text-align: right;\">\n",
              "      <th></th>\n",
              "      <th>TIME PERIOD</th>\n",
              "      <th>PRODUCT</th>\n",
              "      <th>TOTAL DOLS (000)</th>\n",
              "      <th>NETWORK TV DOLS (000)</th>\n",
              "      <th>CABLE TV DOLS (000)</th>\n",
              "      <th>SYNDICATION DOLS (000)</th>\n",
              "      <th>SPOT TV DOLS (000)</th>\n",
              "      <th>MAGAZINES DOLS (000)</th>\n",
              "      <th>SUNDAY MAGS DOLS (000)</th>\n",
              "      <th>NATL NEWSP DOLS (000)</th>\n",
              "      <th>NEWSPAPER DOLS (000)</th>\n",
              "      <th>NETWORK RADIO DOLS (000)</th>\n",
              "      <th>NAT SPOT RADIO DOLS (000)</th>\n",
              "      <th>OUTDOOR DOLS (000)</th>\n",
              "    </tr>\n",
              "  </thead>\n",
              "  <tbody>\n",
              "    <tr>\n",
              "      <th>0</th>\n",
              "      <td>OCT 07 2013</td>\n",
              "      <td>Mercedes Benz CLA : European Passenger Auto</td>\n",
              "      <td>4464.1</td>\n",
              "      <td>887.6</td>\n",
              "      <td>1161.2</td>\n",
              "      <td>0.0</td>\n",
              "      <td>2129.0</td>\n",
              "      <td>286.4</td>\n",
              "      <td>0.0</td>\n",
              "      <td>0.0</td>\n",
              "      <td>0.0</td>\n",
              "      <td>0.0</td>\n",
              "      <td>0.0</td>\n",
              "      <td>0.0</td>\n",
              "    </tr>\n",
              "    <tr>\n",
              "      <th>1</th>\n",
              "      <td>OCT 07 2013</td>\n",
              "      <td>Mercedes Benz CLA250 : European Passenger Auto</td>\n",
              "      <td>1196.5</td>\n",
              "      <td>426.2</td>\n",
              "      <td>770.3</td>\n",
              "      <td>0.0</td>\n",
              "      <td>0.0</td>\n",
              "      <td>0.0</td>\n",
              "      <td>0.0</td>\n",
              "      <td>0.0</td>\n",
              "      <td>0.0</td>\n",
              "      <td>0.0</td>\n",
              "      <td>0.0</td>\n",
              "      <td>0.0</td>\n",
              "    </tr>\n",
              "    <tr>\n",
              "      <th>2</th>\n",
              "      <td>OCT 07 2013</td>\n",
              "      <td>Mercedes Benz CLA250 Leasing : European Passen...</td>\n",
              "      <td>0.1</td>\n",
              "      <td>0.0</td>\n",
              "      <td>0.0</td>\n",
              "      <td>0.0</td>\n",
              "      <td>0.1</td>\n",
              "      <td>0.0</td>\n",
              "      <td>0.0</td>\n",
              "      <td>0.0</td>\n",
              "      <td>0.0</td>\n",
              "      <td>0.0</td>\n",
              "      <td>0.0</td>\n",
              "      <td>0.0</td>\n",
              "    </tr>\n",
              "    <tr>\n",
              "      <th>3</th>\n",
              "      <td>OCT 07 2013</td>\n",
              "      <td>Mercedes Benz Full Line : Various European Aut...</td>\n",
              "      <td>30.2</td>\n",
              "      <td>0.0</td>\n",
              "      <td>0.0</td>\n",
              "      <td>0.0</td>\n",
              "      <td>1.1</td>\n",
              "      <td>0.0</td>\n",
              "      <td>0.0</td>\n",
              "      <td>0.0</td>\n",
              "      <td>0.0</td>\n",
              "      <td>28.8</td>\n",
              "      <td>0.2</td>\n",
              "      <td>0.0</td>\n",
              "    </tr>\n",
              "    <tr>\n",
              "      <th>4</th>\n",
              "      <td>OCT 07 2013</td>\n",
              "      <td>Mercedes Benz Full Line Pre-Owned : Various Eu...</td>\n",
              "      <td>37.1</td>\n",
              "      <td>0.0</td>\n",
              "      <td>0.0</td>\n",
              "      <td>0.0</td>\n",
              "      <td>0.0</td>\n",
              "      <td>0.0</td>\n",
              "      <td>0.0</td>\n",
              "      <td>0.0</td>\n",
              "      <td>0.0</td>\n",
              "      <td>37.1</td>\n",
              "      <td>0.0</td>\n",
              "      <td>0.0</td>\n",
              "    </tr>\n",
              "  </tbody>\n",
              "</table>\n",
              "</div>"
            ],
            "text/plain": [
              "     TIME PERIOD  ... OUTDOOR DOLS (000)\n",
              "0   OCT 07 2013   ...                0.0\n",
              "1   OCT 07 2013   ...                0.0\n",
              "2   OCT 07 2013   ...                0.0\n",
              "3   OCT 07 2013   ...                0.0\n",
              "4   OCT 07 2013   ...                0.0\n",
              "\n",
              "[5 rows x 14 columns]"
            ]
          },
          "metadata": {
            "tags": []
          },
          "execution_count": 8
        }
      ]
    },
    {
      "cell_type": "markdown",
      "metadata": {
        "id": "q4TSTqerVg5n",
        "colab_type": "text"
      },
      "source": [
        "#Cleaning column names\n"
      ]
    },
    {
      "cell_type": "code",
      "metadata": {
        "id": "Dx4Ev_JTVe_b",
        "colab_type": "code",
        "colab": {}
      },
      "source": [
        "df['TOTAL DOLS (000)'] = df['TOTAL DOLS (000)'] * 1000\n",
        "df['NETWORK TV DOLS (000)'] = df['NETWORK TV DOLS (000)'] * 1000\n",
        "df['CABLE TV DOLS (000)'] = df['CABLE TV DOLS (000)'] * 1000\n",
        "df['SYNDICATION DOLS (000)'] = df['SYNDICATION DOLS (000)'] * 1000\n",
        "df['SPOT TV DOLS (000)'] = df['SPOT TV DOLS (000)'] * 1000\n",
        "df['MAGAZINES DOLS (000)'] = df['MAGAZINES DOLS (000)'] * 1000\n",
        "df['SUNDAY MAGS DOLS (000)'] = df['SPOT TV DOLS (000)'] * 1000\n",
        "df['NATL NEWSP DOLS (000)'] = df['NATL NEWSP DOLS (000)'] * 1000\n",
        "df['NEWSPAPER DOLS (000)'] = df['NEWSPAPER DOLS (000)'] * 1000\n",
        "df['NETWORK RADIO DOLS (000)'] = df['NETWORK RADIO DOLS (000)'] * 1000\n",
        "df['NAT SPOT RADIO DOLS (000)'] = df['NAT SPOT RADIO DOLS (000)'] * 1000\n",
        "df['OUTDOOR DOLS (000)'] = df['OUTDOOR DOLS (000)'] * 1000"
      ],
      "execution_count": 0,
      "outputs": []
    },
    {
      "cell_type": "code",
      "metadata": {
        "id": "pXHBP3ghVgHQ",
        "colab_type": "code",
        "outputId": "2047f52c-ef39-4096-ea5d-50a9ec4f3ff7",
        "colab": {
          "base_uri": "https://localhost:8080/",
          "height": 665
        }
      },
      "source": [
        "df.head()"
      ],
      "execution_count": 10,
      "outputs": [
        {
          "output_type": "execute_result",
          "data": {
            "text/html": [
              "<div>\n",
              "<style scoped>\n",
              "    .dataframe tbody tr th:only-of-type {\n",
              "        vertical-align: middle;\n",
              "    }\n",
              "\n",
              "    .dataframe tbody tr th {\n",
              "        vertical-align: top;\n",
              "    }\n",
              "\n",
              "    .dataframe thead th {\n",
              "        text-align: right;\n",
              "    }\n",
              "</style>\n",
              "<table border=\"1\" class=\"dataframe\">\n",
              "  <thead>\n",
              "    <tr style=\"text-align: right;\">\n",
              "      <th></th>\n",
              "      <th>TIME PERIOD</th>\n",
              "      <th>PRODUCT</th>\n",
              "      <th>TOTAL DOLS (000)</th>\n",
              "      <th>NETWORK TV DOLS (000)</th>\n",
              "      <th>CABLE TV DOLS (000)</th>\n",
              "      <th>SYNDICATION DOLS (000)</th>\n",
              "      <th>SPOT TV DOLS (000)</th>\n",
              "      <th>MAGAZINES DOLS (000)</th>\n",
              "      <th>SUNDAY MAGS DOLS (000)</th>\n",
              "      <th>NATL NEWSP DOLS (000)</th>\n",
              "      <th>NEWSPAPER DOLS (000)</th>\n",
              "      <th>NETWORK RADIO DOLS (000)</th>\n",
              "      <th>NAT SPOT RADIO DOLS (000)</th>\n",
              "      <th>OUTDOOR DOLS (000)</th>\n",
              "    </tr>\n",
              "  </thead>\n",
              "  <tbody>\n",
              "    <tr>\n",
              "      <th>0</th>\n",
              "      <td>OCT 07 2013</td>\n",
              "      <td>Mercedes Benz CLA : European Passenger Auto</td>\n",
              "      <td>4464100.0</td>\n",
              "      <td>887600.0</td>\n",
              "      <td>1161200.0</td>\n",
              "      <td>0.0</td>\n",
              "      <td>2129000.0</td>\n",
              "      <td>286400.0</td>\n",
              "      <td>2.129000e+09</td>\n",
              "      <td>0.0</td>\n",
              "      <td>0.0</td>\n",
              "      <td>0.0</td>\n",
              "      <td>0.0</td>\n",
              "      <td>0.0</td>\n",
              "    </tr>\n",
              "    <tr>\n",
              "      <th>1</th>\n",
              "      <td>OCT 07 2013</td>\n",
              "      <td>Mercedes Benz CLA250 : European Passenger Auto</td>\n",
              "      <td>1196500.0</td>\n",
              "      <td>426200.0</td>\n",
              "      <td>770300.0</td>\n",
              "      <td>0.0</td>\n",
              "      <td>0.0</td>\n",
              "      <td>0.0</td>\n",
              "      <td>0.000000e+00</td>\n",
              "      <td>0.0</td>\n",
              "      <td>0.0</td>\n",
              "      <td>0.0</td>\n",
              "      <td>0.0</td>\n",
              "      <td>0.0</td>\n",
              "    </tr>\n",
              "    <tr>\n",
              "      <th>2</th>\n",
              "      <td>OCT 07 2013</td>\n",
              "      <td>Mercedes Benz CLA250 Leasing : European Passen...</td>\n",
              "      <td>100.0</td>\n",
              "      <td>0.0</td>\n",
              "      <td>0.0</td>\n",
              "      <td>0.0</td>\n",
              "      <td>100.0</td>\n",
              "      <td>0.0</td>\n",
              "      <td>1.000000e+05</td>\n",
              "      <td>0.0</td>\n",
              "      <td>0.0</td>\n",
              "      <td>0.0</td>\n",
              "      <td>0.0</td>\n",
              "      <td>0.0</td>\n",
              "    </tr>\n",
              "    <tr>\n",
              "      <th>3</th>\n",
              "      <td>OCT 07 2013</td>\n",
              "      <td>Mercedes Benz Full Line : Various European Aut...</td>\n",
              "      <td>30200.0</td>\n",
              "      <td>0.0</td>\n",
              "      <td>0.0</td>\n",
              "      <td>0.0</td>\n",
              "      <td>1100.0</td>\n",
              "      <td>0.0</td>\n",
              "      <td>1.100000e+06</td>\n",
              "      <td>0.0</td>\n",
              "      <td>0.0</td>\n",
              "      <td>28800.0</td>\n",
              "      <td>200.0</td>\n",
              "      <td>0.0</td>\n",
              "    </tr>\n",
              "    <tr>\n",
              "      <th>4</th>\n",
              "      <td>OCT 07 2013</td>\n",
              "      <td>Mercedes Benz Full Line Pre-Owned : Various Eu...</td>\n",
              "      <td>37100.0</td>\n",
              "      <td>0.0</td>\n",
              "      <td>0.0</td>\n",
              "      <td>0.0</td>\n",
              "      <td>0.0</td>\n",
              "      <td>0.0</td>\n",
              "      <td>0.000000e+00</td>\n",
              "      <td>0.0</td>\n",
              "      <td>0.0</td>\n",
              "      <td>37100.0</td>\n",
              "      <td>0.0</td>\n",
              "      <td>0.0</td>\n",
              "    </tr>\n",
              "  </tbody>\n",
              "</table>\n",
              "</div>"
            ],
            "text/plain": [
              "     TIME PERIOD  ... OUTDOOR DOLS (000)\n",
              "0   OCT 07 2013   ...                0.0\n",
              "1   OCT 07 2013   ...                0.0\n",
              "2   OCT 07 2013   ...                0.0\n",
              "3   OCT 07 2013   ...                0.0\n",
              "4   OCT 07 2013   ...                0.0\n",
              "\n",
              "[5 rows x 14 columns]"
            ]
          },
          "metadata": {
            "tags": []
          },
          "execution_count": 10
        }
      ]
    },
    {
      "cell_type": "code",
      "metadata": {
        "id": "a-HYYgnybBn-",
        "colab_type": "code",
        "colab": {}
      },
      "source": [
        "df.columns = df.columns.str.replace(\"(000)\", \"\")"
      ],
      "execution_count": 0,
      "outputs": []
    },
    {
      "cell_type": "code",
      "metadata": {
        "id": "-GhoyQYYbQmm",
        "colab_type": "code",
        "colab": {}
      },
      "source": [
        "df.columns = df.columns.str.replace(r\"\\(.*\\)\",\"\")  "
      ],
      "execution_count": 0,
      "outputs": []
    },
    {
      "cell_type": "code",
      "metadata": {
        "id": "lyQ-GILObVBY",
        "colab_type": "code",
        "outputId": "51678b2b-b0a1-4df3-8a89-8c96f9754dcd",
        "colab": {
          "base_uri": "https://localhost:8080/",
          "height": 648
        }
      },
      "source": [
        "df.head()"
      ],
      "execution_count": 13,
      "outputs": [
        {
          "output_type": "execute_result",
          "data": {
            "text/html": [
              "<div>\n",
              "<style scoped>\n",
              "    .dataframe tbody tr th:only-of-type {\n",
              "        vertical-align: middle;\n",
              "    }\n",
              "\n",
              "    .dataframe tbody tr th {\n",
              "        vertical-align: top;\n",
              "    }\n",
              "\n",
              "    .dataframe thead th {\n",
              "        text-align: right;\n",
              "    }\n",
              "</style>\n",
              "<table border=\"1\" class=\"dataframe\">\n",
              "  <thead>\n",
              "    <tr style=\"text-align: right;\">\n",
              "      <th></th>\n",
              "      <th>TIME PERIOD</th>\n",
              "      <th>PRODUCT</th>\n",
              "      <th>TOTAL DOLS</th>\n",
              "      <th>NETWORK TV DOLS</th>\n",
              "      <th>CABLE TV DOLS</th>\n",
              "      <th>SYNDICATION DOLS</th>\n",
              "      <th>SPOT TV DOLS</th>\n",
              "      <th>MAGAZINES DOLS</th>\n",
              "      <th>SUNDAY MAGS DOLS</th>\n",
              "      <th>NATL NEWSP DOLS</th>\n",
              "      <th>NEWSPAPER DOLS</th>\n",
              "      <th>NETWORK RADIO DOLS</th>\n",
              "      <th>NAT SPOT RADIO DOLS</th>\n",
              "      <th>OUTDOOR DOLS</th>\n",
              "    </tr>\n",
              "  </thead>\n",
              "  <tbody>\n",
              "    <tr>\n",
              "      <th>0</th>\n",
              "      <td>OCT 07 2013</td>\n",
              "      <td>Mercedes Benz CLA : European Passenger Auto</td>\n",
              "      <td>4464100.0</td>\n",
              "      <td>887600.0</td>\n",
              "      <td>1161200.0</td>\n",
              "      <td>0.0</td>\n",
              "      <td>2129000.0</td>\n",
              "      <td>286400.0</td>\n",
              "      <td>2.129000e+09</td>\n",
              "      <td>0.0</td>\n",
              "      <td>0.0</td>\n",
              "      <td>0.0</td>\n",
              "      <td>0.0</td>\n",
              "      <td>0.0</td>\n",
              "    </tr>\n",
              "    <tr>\n",
              "      <th>1</th>\n",
              "      <td>OCT 07 2013</td>\n",
              "      <td>Mercedes Benz CLA250 : European Passenger Auto</td>\n",
              "      <td>1196500.0</td>\n",
              "      <td>426200.0</td>\n",
              "      <td>770300.0</td>\n",
              "      <td>0.0</td>\n",
              "      <td>0.0</td>\n",
              "      <td>0.0</td>\n",
              "      <td>0.000000e+00</td>\n",
              "      <td>0.0</td>\n",
              "      <td>0.0</td>\n",
              "      <td>0.0</td>\n",
              "      <td>0.0</td>\n",
              "      <td>0.0</td>\n",
              "    </tr>\n",
              "    <tr>\n",
              "      <th>2</th>\n",
              "      <td>OCT 07 2013</td>\n",
              "      <td>Mercedes Benz CLA250 Leasing : European Passen...</td>\n",
              "      <td>100.0</td>\n",
              "      <td>0.0</td>\n",
              "      <td>0.0</td>\n",
              "      <td>0.0</td>\n",
              "      <td>100.0</td>\n",
              "      <td>0.0</td>\n",
              "      <td>1.000000e+05</td>\n",
              "      <td>0.0</td>\n",
              "      <td>0.0</td>\n",
              "      <td>0.0</td>\n",
              "      <td>0.0</td>\n",
              "      <td>0.0</td>\n",
              "    </tr>\n",
              "    <tr>\n",
              "      <th>3</th>\n",
              "      <td>OCT 07 2013</td>\n",
              "      <td>Mercedes Benz Full Line : Various European Aut...</td>\n",
              "      <td>30200.0</td>\n",
              "      <td>0.0</td>\n",
              "      <td>0.0</td>\n",
              "      <td>0.0</td>\n",
              "      <td>1100.0</td>\n",
              "      <td>0.0</td>\n",
              "      <td>1.100000e+06</td>\n",
              "      <td>0.0</td>\n",
              "      <td>0.0</td>\n",
              "      <td>28800.0</td>\n",
              "      <td>200.0</td>\n",
              "      <td>0.0</td>\n",
              "    </tr>\n",
              "    <tr>\n",
              "      <th>4</th>\n",
              "      <td>OCT 07 2013</td>\n",
              "      <td>Mercedes Benz Full Line Pre-Owned : Various Eu...</td>\n",
              "      <td>37100.0</td>\n",
              "      <td>0.0</td>\n",
              "      <td>0.0</td>\n",
              "      <td>0.0</td>\n",
              "      <td>0.0</td>\n",
              "      <td>0.0</td>\n",
              "      <td>0.000000e+00</td>\n",
              "      <td>0.0</td>\n",
              "      <td>0.0</td>\n",
              "      <td>37100.0</td>\n",
              "      <td>0.0</td>\n",
              "      <td>0.0</td>\n",
              "    </tr>\n",
              "  </tbody>\n",
              "</table>\n",
              "</div>"
            ],
            "text/plain": [
              "     TIME PERIOD  ... OUTDOOR DOLS \n",
              "0   OCT 07 2013   ...           0.0\n",
              "1   OCT 07 2013   ...           0.0\n",
              "2   OCT 07 2013   ...           0.0\n",
              "3   OCT 07 2013   ...           0.0\n",
              "4   OCT 07 2013   ...           0.0\n",
              "\n",
              "[5 rows x 14 columns]"
            ]
          },
          "metadata": {
            "tags": []
          },
          "execution_count": 13
        }
      ]
    },
    {
      "cell_type": "code",
      "metadata": {
        "id": "3J6d-Q5jXjXr",
        "colab_type": "code",
        "outputId": "c309d41e-5ae3-456a-ccac-b57778820560",
        "colab": {
          "base_uri": "https://localhost:8080/",
          "height": 121
        }
      },
      "source": [
        "df.columns"
      ],
      "execution_count": 14,
      "outputs": [
        {
          "output_type": "execute_result",
          "data": {
            "text/plain": [
              "Index(['TIME PERIOD', 'PRODUCT', 'TOTAL DOLS ', 'NETWORK TV DOLS ',\n",
              "       'CABLE TV DOLS ', 'SYNDICATION DOLS ', 'SPOT TV DOLS ',\n",
              "       'MAGAZINES DOLS ', 'SUNDAY MAGS DOLS ', 'NATL NEWSP DOLS ',\n",
              "       'NEWSPAPER DOLS ', 'NETWORK RADIO DOLS ', 'NAT SPOT RADIO DOLS ',\n",
              "       'OUTDOOR DOLS '],\n",
              "      dtype='object')"
            ]
          },
          "metadata": {
            "tags": []
          },
          "execution_count": 14
        }
      ]
    },
    {
      "cell_type": "code",
      "metadata": {
        "id": "S03egav3W8cw",
        "colab_type": "code",
        "colab": {}
      },
      "source": [
        "from datetime import datetime"
      ],
      "execution_count": 0,
      "outputs": []
    },
    {
      "cell_type": "code",
      "metadata": {
        "id": "YGo3dx4RbDcG",
        "colab_type": "code",
        "outputId": "f8f0c00e-9a90-4824-ac20-3cf9832c7946",
        "colab": {
          "base_uri": "https://localhost:8080/",
          "height": 224
        }
      },
      "source": [
        "df['TIME PERIOD']"
      ],
      "execution_count": 16,
      "outputs": [
        {
          "output_type": "execute_result",
          "data": {
            "text/plain": [
              "0        OCT 07 2013 \n",
              "1        OCT 07 2013 \n",
              "2        OCT 07 2013 \n",
              "3        OCT 07 2013 \n",
              "4        OCT 07 2013 \n",
              "            ...      \n",
              "3451     OCT 01 2018 \n",
              "3452     OCT 01 2018 \n",
              "3453     OCT 01 2018 \n",
              "3454     OCT 01 2018 \n",
              "3455     OCT 01 2018 \n",
              "Name: TIME PERIOD, Length: 3456, dtype: object"
            ]
          },
          "metadata": {
            "tags": []
          },
          "execution_count": 16
        }
      ]
    },
    {
      "cell_type": "markdown",
      "metadata": {
        "id": "z7avLtmjbelS",
        "colab_type": "text"
      },
      "source": [
        "#Pivoting data by week "
      ]
    },
    {
      "cell_type": "code",
      "metadata": {
        "id": "nDW3c5OXbi8G",
        "colab_type": "code",
        "outputId": "7fc7c641-9488-47ad-f298-47d2bbb0626d",
        "colab": {
          "base_uri": "https://localhost:8080/",
          "height": 34
        }
      },
      "source": [
        "len(df['TIME PERIOD'].unique()) "
      ],
      "execution_count": 22,
      "outputs": [
        {
          "output_type": "execute_result",
          "data": {
            "text/plain": [
              "261"
            ]
          },
          "metadata": {
            "tags": []
          },
          "execution_count": 22
        }
      ]
    },
    {
      "cell_type": "code",
      "metadata": {
        "id": "mJ7Yvb1euHwB",
        "colab_type": "code",
        "outputId": "897b172c-9d58-455c-bdc7-f9cf359c58d3",
        "colab": {
          "base_uri": "https://localhost:8080/",
          "height": 662
        }
      },
      "source": [
        "table = pd.pivot_table(df, index='TIME PERIOD', aggfunc=sum) \n",
        "table"
      ],
      "execution_count": 23,
      "outputs": [
        {
          "output_type": "execute_result",
          "data": {
            "text/html": [
              "<div>\n",
              "<style scoped>\n",
              "    .dataframe tbody tr th:only-of-type {\n",
              "        vertical-align: middle;\n",
              "    }\n",
              "\n",
              "    .dataframe tbody tr th {\n",
              "        vertical-align: top;\n",
              "    }\n",
              "\n",
              "    .dataframe thead th {\n",
              "        text-align: right;\n",
              "    }\n",
              "</style>\n",
              "<table border=\"1\" class=\"dataframe\">\n",
              "  <thead>\n",
              "    <tr style=\"text-align: right;\">\n",
              "      <th></th>\n",
              "      <th>CABLE TV DOLS</th>\n",
              "      <th>MAGAZINES DOLS</th>\n",
              "      <th>NAT SPOT RADIO DOLS</th>\n",
              "      <th>NATL NEWSP DOLS</th>\n",
              "      <th>NETWORK RADIO DOLS</th>\n",
              "      <th>NETWORK TV DOLS</th>\n",
              "      <th>NEWSPAPER DOLS</th>\n",
              "      <th>OUTDOOR DOLS</th>\n",
              "      <th>SPOT TV DOLS</th>\n",
              "      <th>SUNDAY MAGS DOLS</th>\n",
              "      <th>SYNDICATION DOLS</th>\n",
              "      <th>TOTAL DOLS</th>\n",
              "    </tr>\n",
              "    <tr>\n",
              "      <th>TIME PERIOD</th>\n",
              "      <th></th>\n",
              "      <th></th>\n",
              "      <th></th>\n",
              "      <th></th>\n",
              "      <th></th>\n",
              "      <th></th>\n",
              "      <th></th>\n",
              "      <th></th>\n",
              "      <th></th>\n",
              "      <th></th>\n",
              "      <th></th>\n",
              "      <th></th>\n",
              "    </tr>\n",
              "  </thead>\n",
              "  <tbody>\n",
              "    <tr>\n",
              "      <th>APR 02 2018</th>\n",
              "      <td>1888500.0</td>\n",
              "      <td>0.0</td>\n",
              "      <td>1400.0</td>\n",
              "      <td>0.0</td>\n",
              "      <td>50400.0</td>\n",
              "      <td>7785900.0</td>\n",
              "      <td>0.0</td>\n",
              "      <td>0.0</td>\n",
              "      <td>23500.0</td>\n",
              "      <td>2.350000e+07</td>\n",
              "      <td>0.0</td>\n",
              "      <td>9749700.0</td>\n",
              "    </tr>\n",
              "    <tr>\n",
              "      <th>APR 03 2017</th>\n",
              "      <td>1550900.0</td>\n",
              "      <td>0.0</td>\n",
              "      <td>1700.0</td>\n",
              "      <td>0.0</td>\n",
              "      <td>0.0</td>\n",
              "      <td>7733100.0</td>\n",
              "      <td>5600.0</td>\n",
              "      <td>0.0</td>\n",
              "      <td>62000.0</td>\n",
              "      <td>6.200000e+07</td>\n",
              "      <td>0.0</td>\n",
              "      <td>9353400.0</td>\n",
              "    </tr>\n",
              "    <tr>\n",
              "      <th>APR 04 2016</th>\n",
              "      <td>2338800.0</td>\n",
              "      <td>47300.0</td>\n",
              "      <td>1900.0</td>\n",
              "      <td>0.0</td>\n",
              "      <td>13400.0</td>\n",
              "      <td>7903600.0</td>\n",
              "      <td>0.0</td>\n",
              "      <td>0.0</td>\n",
              "      <td>27400.0</td>\n",
              "      <td>2.740000e+07</td>\n",
              "      <td>0.0</td>\n",
              "      <td>10332600.0</td>\n",
              "    </tr>\n",
              "    <tr>\n",
              "      <th>APR 06 2015</th>\n",
              "      <td>2211000.0</td>\n",
              "      <td>0.0</td>\n",
              "      <td>2400.0</td>\n",
              "      <td>142900.0</td>\n",
              "      <td>0.0</td>\n",
              "      <td>9008900.0</td>\n",
              "      <td>0.0</td>\n",
              "      <td>0.0</td>\n",
              "      <td>70000.0</td>\n",
              "      <td>7.000000e+07</td>\n",
              "      <td>0.0</td>\n",
              "      <td>11435200.0</td>\n",
              "    </tr>\n",
              "    <tr>\n",
              "      <th>APR 07 2014</th>\n",
              "      <td>2714600.0</td>\n",
              "      <td>133600.0</td>\n",
              "      <td>0.0</td>\n",
              "      <td>1117300.0</td>\n",
              "      <td>0.0</td>\n",
              "      <td>10351300.0</td>\n",
              "      <td>0.0</td>\n",
              "      <td>0.0</td>\n",
              "      <td>0.0</td>\n",
              "      <td>0.000000e+00</td>\n",
              "      <td>0.0</td>\n",
              "      <td>14316800.0</td>\n",
              "    </tr>\n",
              "    <tr>\n",
              "      <th>...</th>\n",
              "      <td>...</td>\n",
              "      <td>...</td>\n",
              "      <td>...</td>\n",
              "      <td>...</td>\n",
              "      <td>...</td>\n",
              "      <td>...</td>\n",
              "      <td>...</td>\n",
              "      <td>...</td>\n",
              "      <td>...</td>\n",
              "      <td>...</td>\n",
              "      <td>...</td>\n",
              "      <td>...</td>\n",
              "    </tr>\n",
              "    <tr>\n",
              "      <th>SEP 24 2018</th>\n",
              "      <td>1289500.0</td>\n",
              "      <td>0.0</td>\n",
              "      <td>300.0</td>\n",
              "      <td>0.0</td>\n",
              "      <td>63700.0</td>\n",
              "      <td>8292200.0</td>\n",
              "      <td>0.0</td>\n",
              "      <td>0.0</td>\n",
              "      <td>179400.0</td>\n",
              "      <td>1.794000e+08</td>\n",
              "      <td>0.0</td>\n",
              "      <td>9825100.0</td>\n",
              "    </tr>\n",
              "    <tr>\n",
              "      <th>SEP 25 2017</th>\n",
              "      <td>1556800.0</td>\n",
              "      <td>2755200.0</td>\n",
              "      <td>34200.0</td>\n",
              "      <td>0.0</td>\n",
              "      <td>8100.0</td>\n",
              "      <td>6051200.0</td>\n",
              "      <td>68200.0</td>\n",
              "      <td>54800.0</td>\n",
              "      <td>2176000.0</td>\n",
              "      <td>2.176000e+09</td>\n",
              "      <td>0.0</td>\n",
              "      <td>12704300.0</td>\n",
              "    </tr>\n",
              "    <tr>\n",
              "      <th>SEP 26 2016</th>\n",
              "      <td>2684700.0</td>\n",
              "      <td>2298600.0</td>\n",
              "      <td>27200.0</td>\n",
              "      <td>0.0</td>\n",
              "      <td>52700.0</td>\n",
              "      <td>8572800.0</td>\n",
              "      <td>0.0</td>\n",
              "      <td>42200.0</td>\n",
              "      <td>1488000.0</td>\n",
              "      <td>1.488000e+09</td>\n",
              "      <td>5400.0</td>\n",
              "      <td>15171700.0</td>\n",
              "    </tr>\n",
              "    <tr>\n",
              "      <th>SEP 28 2015</th>\n",
              "      <td>1546700.0</td>\n",
              "      <td>7275500.0</td>\n",
              "      <td>3600.0</td>\n",
              "      <td>0.0</td>\n",
              "      <td>83400.0</td>\n",
              "      <td>8553200.0</td>\n",
              "      <td>0.0</td>\n",
              "      <td>36500.0</td>\n",
              "      <td>2252900.0</td>\n",
              "      <td>2.252900e+09</td>\n",
              "      <td>0.0</td>\n",
              "      <td>19751900.0</td>\n",
              "    </tr>\n",
              "    <tr>\n",
              "      <th>SEP 29 2014</th>\n",
              "      <td>3011100.0</td>\n",
              "      <td>5157200.0</td>\n",
              "      <td>0.0</td>\n",
              "      <td>628000.0</td>\n",
              "      <td>1400.0</td>\n",
              "      <td>3809900.0</td>\n",
              "      <td>0.0</td>\n",
              "      <td>296500.0</td>\n",
              "      <td>2074100.0</td>\n",
              "      <td>2.074100e+09</td>\n",
              "      <td>0.0</td>\n",
              "      <td>14978200.0</td>\n",
              "    </tr>\n",
              "  </tbody>\n",
              "</table>\n",
              "<p>261 rows × 12 columns</p>\n",
              "</div>"
            ],
            "text/plain": [
              "               CABLE TV DOLS   MAGAZINES DOLS   ...  SYNDICATION DOLS   TOTAL DOLS \n",
              "TIME PERIOD                                     ...                                \n",
              " APR 02 2018        1888500.0              0.0  ...                0.0    9749700.0\n",
              " APR 03 2017        1550900.0              0.0  ...                0.0    9353400.0\n",
              " APR 04 2016        2338800.0          47300.0  ...                0.0   10332600.0\n",
              " APR 06 2015        2211000.0              0.0  ...                0.0   11435200.0\n",
              " APR 07 2014        2714600.0         133600.0  ...                0.0   14316800.0\n",
              "...                       ...              ...  ...                ...          ...\n",
              " SEP 24 2018        1289500.0              0.0  ...                0.0    9825100.0\n",
              " SEP 25 2017        1556800.0        2755200.0  ...                0.0   12704300.0\n",
              " SEP 26 2016        2684700.0        2298600.0  ...             5400.0   15171700.0\n",
              " SEP 28 2015        1546700.0        7275500.0  ...                0.0   19751900.0\n",
              " SEP 29 2014        3011100.0        5157200.0  ...                0.0   14978200.0\n",
              "\n",
              "[261 rows x 12 columns]"
            ]
          },
          "metadata": {
            "tags": []
          },
          "execution_count": 23
        }
      ]
    },
    {
      "cell_type": "code",
      "metadata": {
        "id": "GkBFAslsRAuO",
        "colab_type": "code",
        "outputId": "c6dc396b-232d-4725-8a5c-35a81a71dca2",
        "colab": {
          "base_uri": "https://localhost:8080/",
          "height": 155
        }
      },
      "source": [
        "table.index"
      ],
      "execution_count": 24,
      "outputs": [
        {
          "output_type": "execute_result",
          "data": {
            "text/plain": [
              "Index([' APR 02 2018 ', ' APR 03 2017 ', ' APR 04 2016 ', ' APR 06 2015 ',\n",
              "       ' APR 07 2014 ', ' APR 09 2018 ', ' APR 10 2017 ', ' APR 11 2016 ',\n",
              "       ' APR 13 2015 ', ' APR 14 2014 ',\n",
              "       ...\n",
              "       ' SEP 17 2018 ', ' SEP 18 2017 ', ' SEP 19 2016 ', ' SEP 21 2015 ',\n",
              "       ' SEP 22 2014 ', ' SEP 24 2018 ', ' SEP 25 2017 ', ' SEP 26 2016 ',\n",
              "       ' SEP 28 2015 ', ' SEP 29 2014 '],\n",
              "      dtype='object', name='TIME PERIOD', length=261)"
            ]
          },
          "metadata": {
            "tags": []
          },
          "execution_count": 24
        }
      ]
    },
    {
      "cell_type": "code",
      "metadata": {
        "id": "n3Eq1M-g0xth",
        "colab_type": "code",
        "outputId": "e529feff-c40e-4550-deed-f96a3d61f60b",
        "colab": {
          "base_uri": "https://localhost:8080/",
          "height": 34
        }
      },
      "source": [
        "table['TOTAL DOLS '].mean()   "
      ],
      "execution_count": 25,
      "outputs": [
        {
          "output_type": "execute_result",
          "data": {
            "text/plain": [
              "5347106.513409962"
            ]
          },
          "metadata": {
            "tags": []
          },
          "execution_count": 25
        }
      ]
    },
    {
      "cell_type": "markdown",
      "metadata": {
        "id": "DPQ36WdyGmAx",
        "colab_type": "text"
      },
      "source": [
        "#Graphs of different ad spends in subplots \n"
      ]
    },
    {
      "cell_type": "code",
      "metadata": {
        "id": "DOXEaxTI1GEJ",
        "colab_type": "code",
        "colab": {}
      },
      "source": [
        "import matplotlib.pyplot as plt\n",
        "import numpy as np\n",
        "\n",
        "x = table.index\n",
        "y = table['CABLE TV DOLS ']"
      ],
      "execution_count": 0,
      "outputs": []
    },
    {
      "cell_type": "code",
      "metadata": {
        "id": "wRg7yQciIAU0",
        "colab_type": "code",
        "outputId": "5862fee3-5de9-468a-b7aa-3f8126aee190",
        "colab": {
          "base_uri": "https://localhost:8080/",
          "height": 298
        }
      },
      "source": [
        "fig, ax = plt.subplots()\n",
        "ax.plot(x, y)\n",
        "ax.set_title('Chronological ad spend for cable TV')"
      ],
      "execution_count": 27,
      "outputs": [
        {
          "output_type": "execute_result",
          "data": {
            "text/plain": [
              "Text(0.5, 1.0, 'Chronological ad spend for cable TV')"
            ]
          },
          "metadata": {
            "tags": []
          },
          "execution_count": 27
        },
        {
          "output_type": "display_data",
          "data": {
            "image/png": "[encoded data removed]",
            "text/plain": [
              "<Figure size 432x288 with 1 Axes>"
            ]
          },
          "metadata": {
            "tags": []
          }
        }
      ]
    }
  ]
}