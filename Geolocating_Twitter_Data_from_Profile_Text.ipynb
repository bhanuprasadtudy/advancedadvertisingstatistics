{
  "nbformat": 4,
  "nbformat_minor": 0,
  "metadata": {
    "colab": {
      "name": "Geolocating Twitter Data from Profile Text.ipynb",
      "provenance": [],
      "collapsed_sections": [],
      "authorship_tag": "ABX9TyMldz2kL6bIQ9p3ZzvmQMhW",
      "include_colab_link": true
    },
    "kernelspec": {
      "name": "python3",
      "display_name": "Python 3"
    }
  },
  "cells": [
    {
      "cell_type": "markdown",
      "metadata": {
        "id": "view-in-github",
        "colab_type": "text"
      },
      "source": [
        "<a href=\"https://colab.research.google.com/github/bhanuprasadtudy/advancedadvertisingstatistics/blob/master/Geolocating_Twitter_Data_from_Profile_Text.ipynb\" target=\"_parent\"><img src=\"https://colab.research.google.com/assets/colab-badge.svg\" alt=\"Open In Colab\"/></a>"
      ]
    },
    {
      "cell_type": "code",
      "metadata": {
        "id": "6jp1jwcAZPcU",
        "colab_type": "code",
        "outputId": "6fed57e1-0c71-4147-dd63-a9ca41d178a5",
        "colab": {
          "base_uri": "https://localhost:8080/",
          "height": 296
        }
      },
      "source": [
        "!pip install geostring\n",
        "import geostring as geo\n",
        "import glob\n",
        "import os\n",
        "import shutil\n",
        "import json\n",
        "import csv\n",
        "import zipfile"
      ],
      "execution_count": 0,
      "outputs": [
        {
          "output_type": "stream",
          "text": [
            "Collecting geostring\n",
            "\u001b[?25l  Downloading https://files.pythonhosted.org/packages/66/8e/badcd398885e639c65ebf532439f5bc4a007017728de9fb27615ad14e314/geostring-1.0.7-py3-none-any.whl (190kB)\n",
            "\r\u001b[K     |█▊                              | 10kB 14.1MB/s eta 0:00:01\r\u001b[K     |███▍                            | 20kB 1.8MB/s eta 0:00:01\r\u001b[K     |█████▏                          | 30kB 2.6MB/s eta 0:00:01\r\u001b[K     |██████▉                         | 40kB 3.4MB/s eta 0:00:01\r\u001b[K     |████████▋                       | 51kB 2.2MB/s eta 0:00:01\r\u001b[K     |██████████▎                     | 61kB 2.6MB/s eta 0:00:01\r\u001b[K     |████████████                    | 71kB 3.0MB/s eta 0:00:01\r\u001b[K     |█████████████▊                  | 81kB 3.4MB/s eta 0:00:01\r\u001b[K     |███████████████▌                | 92kB 3.8MB/s eta 0:00:01\r\u001b[K     |█████████████████▏              | 102kB 2.9MB/s eta 0:00:01\r\u001b[K     |███████████████████             | 112kB 2.9MB/s eta 0:00:01\r\u001b[K     |████████████████████▋           | 122kB 2.9MB/s eta 0:00:01\r\u001b[K     |██████████████████████▍         | 133kB 2.9MB/s eta 0:00:01\r\u001b[K     |████████████████████████        | 143kB 2.9MB/s eta 0:00:01\r\u001b[K     |█████████████████████████▉      | 153kB 2.9MB/s eta 0:00:01\r\u001b[K     |███████████████████████████▌    | 163kB 2.9MB/s eta 0:00:01\r\u001b[K     |█████████████████████████████▎  | 174kB 2.9MB/s eta 0:00:01\r\u001b[K     |███████████████████████████████ | 184kB 2.9MB/s eta 0:00:01\r\u001b[K     |████████████████████████████████| 194kB 2.9MB/s \n",
            "\u001b[?25hRequirement already satisfied: editdistance in /usr/local/lib/python3.6/dist-packages (from geostring) (0.5.3)\n",
            "Requirement already satisfied: pandas in /usr/local/lib/python3.6/dist-packages (from geostring) (0.25.3)\n",
            "Collecting unidecode\n",
            "\u001b[?25l  Downloading https://files.pythonhosted.org/packages/d0/42/d9edfed04228bacea2d824904cae367ee9efd05e6cce7ceaaedd0b0ad964/Unidecode-1.1.1-py2.py3-none-any.whl (238kB)\n",
            "\u001b[K     |████████████████████████████████| 245kB 37.7MB/s \n",
            "\u001b[?25hRequirement already satisfied: pytz>=2017.2 in /usr/local/lib/python3.6/dist-packages (from pandas->geostring) (2018.9)\n",
            "Requirement already satisfied: numpy>=1.13.3 in /usr/local/lib/python3.6/dist-packages (from pandas->geostring) (1.17.5)\n",
            "Requirement already satisfied: python-dateutil>=2.6.1 in /usr/local/lib/python3.6/dist-packages (from pandas->geostring) (2.6.1)\n",
            "Requirement already satisfied: six>=1.5 in /usr/local/lib/python3.6/dist-packages (from python-dateutil>=2.6.1->pandas->geostring) (1.12.0)\n",
            "Installing collected packages: unidecode, geostring\n",
            "Successfully installed geostring-1.0.7 unidecode-1.1.1\n",
            "World index created.\n"
          ],
          "name": "stdout"
        }
      ]
    },
    {
      "cell_type": "code",
      "metadata": {
        "id": "jkevVYAhZW81",
        "colab_type": "code",
        "outputId": "9ce9c25a-8f23-468e-9587-c7a133d0dc60",
        "colab": {
          "base_uri": "https://localhost:8080/",
          "height": 124
        }
      },
      "source": [
        "from google.colab import drive\n",
        "drive.mount('/content/drive')"
      ],
      "execution_count": 0,
      "outputs": [
        {
          "output_type": "stream",
          "text": [
            "Go to this URL in a browser: https://accounts.google.com/o/oauth2/auth?client_id=947318989803-6bn6qk8qdgf4n4g3pfee6491hc0brc4i.apps.googleusercontent.com&redirect_uri=urn%3aietf%3awg%3aoauth%3a2.0%3aoob&response_type=code&scope=email%20https%3a%2f%2fwww.googleapis.com%2fauth%2fdocs.test%20https%3a%2f%2fwww.googleapis.com%2fauth%2fdrive%20https%3a%2f%2fwww.googleapis.com%2fauth%2fdrive.photos.readonly%20https%3a%2f%2fwww.googleapis.com%2fauth%2fpeopleapi.readonly\n",
            "\n",
            "Enter your authorization code:\n",
            "··········\n",
            "Mounted at /content/drive\n"
          ],
          "name": "stdout"
        }
      ]
    },
    {
      "cell_type": "code",
      "metadata": {
        "id": "UL11EBZDZXrb",
        "colab_type": "code",
        "colab": {}
      },
      "source": [
        "tweetzipfiles = glob.glob('/content/drive/My Drive/Colab Notebooks/Twitter analysis/*.zip')"
      ],
      "execution_count": 0,
      "outputs": []
    },
    {
      "cell_type": "code",
      "metadata": {
        "id": "4tB6CtxCZkQ0",
        "colab_type": "code",
        "outputId": "ed50961e-201b-4d69-fab4-297679a4b3f0",
        "colab": {
          "base_uri": "https://localhost:8080/",
          "height": 69
        }
      },
      "source": [
        "tweetzipfiles"
      ],
      "execution_count": 0,
      "outputs": [
        {
          "output_type": "execute_result",
          "data": {
            "text/plain": [
              "['/content/drive/My Drive/Colab Notebooks/Twitter analysis/@McDonalds.zip',\n",
              " '/content/drive/My Drive/Colab Notebooks/Twitter analysis/@kfc.zip',\n",
              " '/content/drive/My Drive/Colab Notebooks/Twitter analysis/@wendys.zip']"
            ]
          },
          "metadata": {
            "tags": []
          },
          "execution_count": 4
        }
      ]
    },
    {
      "cell_type": "code",
      "metadata": {
        "id": "c5Wm314iZrdK",
        "colab_type": "code",
        "colab": {}
      },
      "source": [
        "location = []\n",
        "tweet =[]\n",
        "for tweetzipfile in tweetzipfiles:\n",
        "  zips= zipfile.ZipFile(tweetzipfile)\n",
        "  for i, obj in enumerate(zips.infolist()): \n",
        "    tweet_json = json.load(zips.open(obj)) \n",
        "    if (geo.resolve(tweet_json['user']['location'])) is not None:\n",
        "      tweet.append(tweet_json['user']['id'])\n",
        "      location.append(geo.resolve(tweet_json['user']['location']))"
      ],
      "execution_count": 0,
      "outputs": []
    },
    {
      "cell_type": "code",
      "metadata": {
        "id": "zH3-5b4xZv0s",
        "colab_type": "code",
        "outputId": "cc47e9fe-94a2-4fd6-e606-104f45fedc9b",
        "colab": {
          "base_uri": "https://localhost:8080/",
          "height": 408
        }
      },
      "source": [
        "import pandas as pd\n",
        "locationwise = pd.DataFrame(location)\n",
        "locationwise"
      ],
      "execution_count": 0,
      "outputs": [
        {
          "output_type": "execute_result",
          "data": {
            "text/html": [
              "<div>\n",
              "<style scoped>\n",
              "    .dataframe tbody tr th:only-of-type {\n",
              "        vertical-align: middle;\n",
              "    }\n",
              "\n",
              "    .dataframe tbody tr th {\n",
              "        vertical-align: top;\n",
              "    }\n",
              "\n",
              "    .dataframe thead th {\n",
              "        text-align: right;\n",
              "    }\n",
              "</style>\n",
              "<table border=\"1\" class=\"dataframe\">\n",
              "  <thead>\n",
              "    <tr style=\"text-align: right;\">\n",
              "      <th></th>\n",
              "      <th>resolved_city</th>\n",
              "      <th>resolved_subcountry</th>\n",
              "      <th>resolved_country</th>\n",
              "    </tr>\n",
              "  </thead>\n",
              "  <tbody>\n",
              "    <tr>\n",
              "      <th>0</th>\n",
              "      <td>winnipeg</td>\n",
              "      <td>manitoba</td>\n",
              "      <td>canada</td>\n",
              "    </tr>\n",
              "    <tr>\n",
              "      <th>1</th>\n",
              "      <td></td>\n",
              "      <td>california</td>\n",
              "      <td>united states</td>\n",
              "    </tr>\n",
              "    <tr>\n",
              "      <th>2</th>\n",
              "      <td>cincinnati</td>\n",
              "      <td>ohio</td>\n",
              "      <td>united states</td>\n",
              "    </tr>\n",
              "    <tr>\n",
              "      <th>3</th>\n",
              "      <td></td>\n",
              "      <td>new jersey</td>\n",
              "      <td>united states</td>\n",
              "    </tr>\n",
              "    <tr>\n",
              "      <th>4</th>\n",
              "      <td>san antonio</td>\n",
              "      <td>texas</td>\n",
              "      <td>united states</td>\n",
              "    </tr>\n",
              "    <tr>\n",
              "      <th>...</th>\n",
              "      <td>...</td>\n",
              "      <td>...</td>\n",
              "      <td>...</td>\n",
              "    </tr>\n",
              "    <tr>\n",
              "      <th>10018</th>\n",
              "      <td>lawrence</td>\n",
              "      <td>indiana?kansas?massachusetts?new jersey</td>\n",
              "      <td>united states</td>\n",
              "    </tr>\n",
              "    <tr>\n",
              "      <th>10019</th>\n",
              "      <td>brossard</td>\n",
              "      <td>quebec</td>\n",
              "      <td>canada</td>\n",
              "    </tr>\n",
              "    <tr>\n",
              "      <th>10020</th>\n",
              "      <td>asheville</td>\n",
              "      <td>north carolina</td>\n",
              "      <td>united states</td>\n",
              "    </tr>\n",
              "    <tr>\n",
              "      <th>10021</th>\n",
              "      <td></td>\n",
              "      <td>florida</td>\n",
              "      <td>united states</td>\n",
              "    </tr>\n",
              "    <tr>\n",
              "      <th>10022</th>\n",
              "      <td></td>\n",
              "      <td>texas</td>\n",
              "      <td>united states</td>\n",
              "    </tr>\n",
              "  </tbody>\n",
              "</table>\n",
              "<p>10023 rows × 3 columns</p>\n",
              "</div>"
            ],
            "text/plain": [
              "      resolved_city                      resolved_subcountry resolved_country\n",
              "0          winnipeg                                 manitoba           canada\n",
              "1                                                 california    united states\n",
              "2        cincinnati                                     ohio    united states\n",
              "3                                                 new jersey    united states\n",
              "4       san antonio                                    texas    united states\n",
              "...             ...                                      ...              ...\n",
              "10018      lawrence  indiana?kansas?massachusetts?new jersey    united states\n",
              "10019      brossard                                   quebec           canada\n",
              "10020     asheville                           north carolina    united states\n",
              "10021                                                florida    united states\n",
              "10022                                                  texas    united states\n",
              "\n",
              "[10023 rows x 3 columns]"
            ]
          },
          "metadata": {
            "tags": []
          },
          "execution_count": 35
        }
      ]
    },
    {
      "cell_type": "code",
      "metadata": {
        "id": "G-FEyIy1Zyrj",
        "colab_type": "code",
        "outputId": "b3c21a7d-7718-477f-f389-3435d532592e",
        "colab": {
          "base_uri": "https://localhost:8080/",
          "height": 198
        }
      },
      "source": [
        "df_new = pd.DataFrame(locationwise)\n",
        "df_new['id'] = tweet\n",
        "USAtweets = df_new['resolved_country']==\"united states\"\n",
        "USAtweets_final = df_new[USAtweets]\n",
        "USAtweets_final.head()"
      ],
      "execution_count": 0,
      "outputs": [
        {
          "output_type": "execute_result",
          "data": {
            "text/html": [
              "<div>\n",
              "<style scoped>\n",
              "    .dataframe tbody tr th:only-of-type {\n",
              "        vertical-align: middle;\n",
              "    }\n",
              "\n",
              "    .dataframe tbody tr th {\n",
              "        vertical-align: top;\n",
              "    }\n",
              "\n",
              "    .dataframe thead th {\n",
              "        text-align: right;\n",
              "    }\n",
              "</style>\n",
              "<table border=\"1\" class=\"dataframe\">\n",
              "  <thead>\n",
              "    <tr style=\"text-align: right;\">\n",
              "      <th></th>\n",
              "      <th>resolved_city</th>\n",
              "      <th>resolved_subcountry</th>\n",
              "      <th>resolved_country</th>\n",
              "      <th>id</th>\n",
              "    </tr>\n",
              "  </thead>\n",
              "  <tbody>\n",
              "    <tr>\n",
              "      <th>1</th>\n",
              "      <td></td>\n",
              "      <td>california</td>\n",
              "      <td>united states</td>\n",
              "      <td>270252242</td>\n",
              "    </tr>\n",
              "    <tr>\n",
              "      <th>2</th>\n",
              "      <td>cincinnati</td>\n",
              "      <td>ohio</td>\n",
              "      <td>united states</td>\n",
              "      <td>3340073541</td>\n",
              "    </tr>\n",
              "    <tr>\n",
              "      <th>3</th>\n",
              "      <td></td>\n",
              "      <td>new jersey</td>\n",
              "      <td>united states</td>\n",
              "      <td>3244131477</td>\n",
              "    </tr>\n",
              "    <tr>\n",
              "      <th>4</th>\n",
              "      <td>san antonio</td>\n",
              "      <td>texas</td>\n",
              "      <td>united states</td>\n",
              "      <td>2989059767</td>\n",
              "    </tr>\n",
              "    <tr>\n",
              "      <th>6</th>\n",
              "      <td></td>\n",
              "      <td>tennessee</td>\n",
              "      <td>united states</td>\n",
              "      <td>818229702427111429</td>\n",
              "    </tr>\n",
              "  </tbody>\n",
              "</table>\n",
              "</div>"
            ],
            "text/plain": [
              "  resolved_city resolved_subcountry resolved_country                  id\n",
              "1                        california    united states           270252242\n",
              "2    cincinnati                ohio    united states          3340073541\n",
              "3                        new jersey    united states          3244131477\n",
              "4   san antonio               texas    united states          2989059767\n",
              "6                         tennessee    united states  818229702427111429"
            ]
          },
          "metadata": {
            "tags": []
          },
          "execution_count": 36
        }
      ]
    },
    {
      "cell_type": "code",
      "metadata": {
        "id": "2u4bhbAtZ2yl",
        "colab_type": "code",
        "colab": {}
      },
      "source": [
        "statewisetweets= USAtweets_final.groupby('resolved_subcountry')['id'].agg(['count']).to_dict()"
      ],
      "execution_count": 0,
      "outputs": []
    },
    {
      "cell_type": "code",
      "metadata": {
        "id": "iQgab5brZ5GF",
        "colab_type": "code",
        "colab": {}
      },
      "source": [
        "dic = {}\n",
        "for i in USAtweets_final['resolved_subcountry']:\n",
        "    dic[i] = [{USAtweets_final['id'][j]} for j in USAtweets_final[USAtweets_final['resolved_subcountry']==i].index]"
      ],
      "execution_count": 0,
      "outputs": []
    },
    {
      "cell_type": "code",
      "metadata": {
        "id": "C6qXrXGUZ7kH",
        "colab_type": "code",
        "outputId": "50723c8a-5a3b-487d-c9d0-d966d67479fa",
        "colab": {
          "base_uri": "https://localhost:8080/",
          "height": 69
        }
      },
      "source": [
        "print('Collected Tweets for', len(dic), 'states')\n",
        "print('Colorado has', len(dic['colorado']), 'tweets')\n",
        "some_id = dic['colorado'][0]\n",
        "print('The ID of the first Colorado tweet is:',some_id)"
      ],
      "execution_count": 0,
      "outputs": [
        {
          "output_type": "stream",
          "text": [
            "Collected Tweets for 288 states\n",
            "Colorado has 167 tweets\n",
            "The ID of the first Colorado tweet is: {3222622209}\n"
          ],
          "name": "stdout"
        }
      ]
    },
    {
      "cell_type": "code",
      "metadata": {
        "id": "NDcwF9oAZ9k9",
        "colab_type": "code",
        "outputId": "0b49f4b1-f648-4044-e620-3fb9f2d6c903",
        "colab": {
          "base_uri": "https://localhost:8080/",
          "height": 121
        }
      },
      "source": [
        "top3states = USAtweets_final.groupby(['resolved_subcountry']).size()\n",
        "top3states.nlargest(4)"
      ],
      "execution_count": 0,
      "outputs": [
        {
          "output_type": "execute_result",
          "data": {
            "text/plain": [
              "resolved_subcountry\n",
              "california    613\n",
              "texas         495\n",
              "              452\n",
              "new york      452\n",
              "dtype: int64"
            ]
          },
          "metadata": {
            "tags": []
          },
          "execution_count": 45
        }
      ]
    }
  ]
}