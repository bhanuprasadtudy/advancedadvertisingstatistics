{
  "nbformat": 4,
  "nbformat_minor": 0,
  "metadata": {
    "colab": {
      "name": "Extracting Actions and Entities from Amazon Alexa data.ipynb",
      "provenance": [],
      "collapsed_sections": []
    },
    "kernelspec": {
      "name": "python3",
      "display_name": "Python 3"
    }
  },
  "cells": [
    {
      "cell_type": "code",
      "metadata": {
        "id": "bQoWKdJXI-2E",
        "colab_type": "code",
        "outputId": "f6dd77bd-cf43-4891-b7d8-78d8a952f90c",
        "colab": {
          "base_uri": "https://localhost:8080/",
          "height": 69
        }
      },
      "source": [
        "import pandas as pd\n",
        "import seaborn as sns\n",
        "import numpy as np\n",
        "import spacy.cli\n",
        "spacy.cli.download(\"en_core_web_sm\")\n",
        "sp = spacy.load('en_core_web_sm')\n",
        "from google.colab import drive\n",
        "drive.mount('/content/drive')"
      ],
      "execution_count": 0,
      "outputs": [
        {
          "output_type": "stream",
          "text": [
            "\u001b[38;5;2m✔ Download and installation successful\u001b[0m\n",
            "You can now load the model via spacy.load('en_core_web_sm')\n",
            "Drive already mounted at /content/drive; to attempt to forcibly remount, call drive.mount(\"/content/drive\", force_remount=True).\n"
          ],
          "name": "stdout"
        }
      ]
    },
    {
      "cell_type": "code",
      "metadata": {
        "id": "mA7sY702JuNq",
        "colab_type": "code",
        "outputId": "e033fc6e-be2f-4fc8-80af-90a500521d8c",
        "colab": {
          "base_uri": "https://localhost:8080/",
          "height": 198
        }
      },
      "source": [
        "data =  pd.read_csv('drive/My Drive/Colab Notebooks/cleaned.alexadata.csv', header = None)\n",
        "data.columns = ['Queries']\n",
        "data.head()"
      ],
      "execution_count": 0,
      "outputs": [
        {
          "output_type": "execute_result",
          "data": {
            "text/html": [
              "<div>\n",
              "<style scoped>\n",
              "    .dataframe tbody tr th:only-of-type {\n",
              "        vertical-align: middle;\n",
              "    }\n",
              "\n",
              "    .dataframe tbody tr th {\n",
              "        vertical-align: top;\n",
              "    }\n",
              "\n",
              "    .dataframe thead th {\n",
              "        text-align: right;\n",
              "    }\n",
              "</style>\n",
              "<table border=\"1\" class=\"dataframe\">\n",
              "  <thead>\n",
              "    <tr style=\"text-align: right;\">\n",
              "      <th></th>\n",
              "      <th>Queries</th>\n",
              "    </tr>\n",
              "  </thead>\n",
              "  <tbody>\n",
              "    <tr>\n",
              "      <th>0</th>\n",
              "      <td>alexa resume spotify</td>\n",
              "    </tr>\n",
              "    <tr>\n",
              "      <th>1</th>\n",
              "      <td>alexa set the temperature to sixty eight</td>\n",
              "    </tr>\n",
              "    <tr>\n",
              "      <th>2</th>\n",
              "      <td>resume spotify</td>\n",
              "    </tr>\n",
              "    <tr>\n",
              "      <th>3</th>\n",
              "      <td>alexa</td>\n",
              "    </tr>\n",
              "    <tr>\n",
              "      <th>4</th>\n",
              "      <td>alexa track southwest flight thirteen fifty six</td>\n",
              "    </tr>\n",
              "  </tbody>\n",
              "</table>\n",
              "</div>"
            ],
            "text/plain": [
              "                                           Queries\n",
              "0                             alexa resume spotify\n",
              "1         alexa set the temperature to sixty eight\n",
              "2                                   resume spotify\n",
              "3                                            alexa\n",
              "4  alexa track southwest flight thirteen fifty six"
            ]
          },
          "metadata": {
            "tags": []
          },
          "execution_count": 40
        }
      ]
    },
    {
      "cell_type": "code",
      "metadata": {
        "id": "scEoCqevMrq_",
        "colab_type": "code",
        "colab": {}
      },
      "source": [
        "df = str(data['Queries'].values.tolist())\n",
        "sentence = sp(df)"
      ],
      "execution_count": 0,
      "outputs": []
    },
    {
      "cell_type": "markdown",
      "metadata": {
        "id": "TvLdWpqzzvHU",
        "colab_type": "text"
      },
      "source": [
        "# Action Words"
      ]
    },
    {
      "cell_type": "code",
      "metadata": {
        "id": "IpPInbj9zzeZ",
        "colab_type": "code",
        "colab": {}
      },
      "source": [
        "action = []\n",
        "for word in sentence:\n",
        "  if word.pos_ == 'VERB' and word.is_stop == False:\n",
        "    action.append(word.text)"
      ],
      "execution_count": 0,
      "outputs": []
    },
    {
      "cell_type": "code",
      "metadata": {
        "id": "JC78qLqxLieA",
        "colab_type": "code",
        "outputId": "928e797d-99ae-4533-fc56-cbcdfad4d2e4",
        "colab": {
          "base_uri": "https://localhost:8080/",
          "height": 34
        }
      },
      "source": [
        "frequency = {}\n",
        "for item in action:\n",
        "   if (item in frequency):\n",
        "      frequency[item] += 1\n",
        "   else:\n",
        "      frequency[item] = 1\n",
        "sorted_d = sorted(frequency.items(), key=lambda x: x[1],reverse=True)\n",
        "sorted_d[0:5]"
      ],
      "execution_count": 0,
      "outputs": [
        {
          "output_type": "execute_result",
          "data": {
            "text/plain": [
              "[('play', 3266), ('set', 479), ('turn', 97), ('stop', 82), ('dismiss', 81)]"
            ]
          },
          "metadata": {
            "tags": []
          },
          "execution_count": 43
        }
      ]
    },
    {
      "cell_type": "markdown",
      "metadata": {
        "id": "bJgAuj9yz9MC",
        "colab_type": "text"
      },
      "source": [
        "# Entities"
      ]
    },
    {
      "cell_type": "code",
      "metadata": {
        "id": "3CQ8VhVSzRxi",
        "colab_type": "code",
        "colab": {}
      },
      "source": [
        "entity = []\n",
        "for word in sentence.ents:\n",
        "     entity.append(word.label_)"
      ],
      "execution_count": 0,
      "outputs": []
    },
    {
      "cell_type": "code",
      "metadata": {
        "id": "zK6uk8v3y2j0",
        "colab_type": "code",
        "outputId": "2065f0c3-c75a-422b-cd32-9e9177028350",
        "colab": {
          "base_uri": "https://localhost:8080/",
          "height": 34
        }
      },
      "source": [
        "frequency = {}\n",
        "for item in entity:\n",
        "   if (item in frequency):\n",
        "      frequency[item] += 1\n",
        "   else:\n",
        "      frequency[item] = 1\n",
        "sorted_d = sorted(frequency.items(), key=lambda x: x[1],reverse=True)\n",
        "sorted_d[0:5]"
      ],
      "execution_count": 0,
      "outputs": [
        {
          "output_type": "execute_result",
          "data": {
            "text/plain": [
              "[('CARDINAL', 548), ('TIME', 472), ('DATE', 298), ('PERSON', 190), ('GPE', 71)]"
            ]
          },
          "metadata": {
            "tags": []
          },
          "execution_count": 48
        }
      ]
    }
  ]
}