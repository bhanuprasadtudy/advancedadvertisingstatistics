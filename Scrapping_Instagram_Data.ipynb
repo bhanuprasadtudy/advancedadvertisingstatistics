{
  "nbformat": 4,
  "nbformat_minor": 0,
  "metadata": {
    "colab": {
      "name": "Scrapping Instagram Data.ipynb",
      "provenance": [],
      "collapsed_sections": [],
      "authorship_tag": "ABX9TyMmvIq6JCsIMS1AQGeNXTfk",
      "include_colab_link": true
    },
    "kernelspec": {
      "name": "python3",
      "display_name": "Python 3"
    }
  },
  "cells": [
    {
      "cell_type": "markdown",
      "metadata": {
        "id": "view-in-github",
        "colab_type": "text"
      },
      "source": [
        "<a href=\"https://colab.research.google.com/github/bhanuprasadtudy/advancedadvertisingstatistics/blob/master/Scrapping_Instagram_Data.ipynb\" target=\"_parent\"><img src=\"https://colab.research.google.com/assets/colab-badge.svg\" alt=\"Open In Colab\"/></a>"
      ]
    },
    {
      "cell_type": "markdown",
      "metadata": {
        "id": "Y-n-zFv3kTzh",
        "colab_type": "text"
      },
      "source": [
        "# Fetching Data"
      ]
    },
    {
      "cell_type": "code",
      "metadata": {
        "id": "qcOjA9PdbYhR",
        "colab_type": "code",
        "outputId": "b7722bbe-2820-4dae-bfeb-68ec8ab2e530",
        "colab": {
          "base_uri": "https://localhost:8080/",
          "height": 124
        }
      },
      "source": [
        "from google.colab import drive\n",
        "drive.mount('/content/drive')"
      ],
      "execution_count": 0,
      "outputs": [
        {
          "output_type": "stream",
          "text": [
            "Go to this URL in a browser: https://accounts.google.com/o/oauth2/auth?client_id=947318989803-6bn6qk8qdgf4n4g3pfee6491hc0brc4i.apps.googleusercontent.com&redirect_uri=urn%3aietf%3awg%3aoauth%3a2.0%3aoob&response_type=code&scope=email%20https%3a%2f%2fwww.googleapis.com%2fauth%2fdocs.test%20https%3a%2f%2fwww.googleapis.com%2fauth%2fdrive%20https%3a%2f%2fwww.googleapis.com%2fauth%2fdrive.photos.readonly%20https%3a%2f%2fwww.googleapis.com%2fauth%2fpeopleapi.readonly\n",
            "\n",
            "Enter your authorization code:\n",
            "··········\n",
            "Mounted at /content/drive\n"
          ],
          "name": "stdout"
        }
      ]
    },
    {
      "cell_type": "code",
      "metadata": {
        "id": "hCxE7p7Fc1-k",
        "colab_type": "code",
        "outputId": "8912b8e8-d350-49f0-fa3d-e11d969eeabb",
        "colab": {
          "base_uri": "https://localhost:8080/",
          "height": 1000
        }
      },
      "source": [
        "!pip install instagram-scraper\n",
        "!instagram-scraper honda,volvocars,dodgeofficial,chevrolet,ford --media-metadata -m 200 -d 'drive/My Drive/Colab Notebooks/instagram/'"
      ],
      "execution_count": 0,
      "outputs": [
        {
          "output_type": "stream",
          "text": [
            "Collecting instagram-scraper\n",
            "  Downloading https://files.pythonhosted.org/packages/41/e5/caa22efd3905de149a03300509e5f102a327b7cad1cc41d2dff88df44087/instagram-scraper-1.8.1.tar.gz\n",
            "Requirement already satisfied: requests>=2.18.4 in /usr/local/lib/python3.6/dist-packages (from instagram-scraper) (2.21.0)\n",
            "Requirement already satisfied: tqdm>=3.8.0 in /usr/local/lib/python3.6/dist-packages (from instagram-scraper) (4.28.1)\n",
            "Requirement already satisfied: chardet<3.1.0,>=3.0.2 in /usr/local/lib/python3.6/dist-packages (from requests>=2.18.4->instagram-scraper) (3.0.4)\n",
            "Requirement already satisfied: idna<2.9,>=2.5 in /usr/local/lib/python3.6/dist-packages (from requests>=2.18.4->instagram-scraper) (2.8)\n",
            "Requirement already satisfied: urllib3<1.25,>=1.21.1 in /usr/local/lib/python3.6/dist-packages (from requests>=2.18.4->instagram-scraper) (1.24.3)\n",
            "Requirement already satisfied: certifi>=2017.4.17 in /usr/local/lib/python3.6/dist-packages (from requests>=2.18.4->instagram-scraper) (2019.11.28)\n",
            "Building wheels for collected packages: instagram-scraper\n",
            "  Building wheel for instagram-scraper (setup.py) ... \u001b[?25l\u001b[?25hdone\n",
            "  Created wheel for instagram-scraper: filename=instagram_scraper-1.8.1-cp36-none-any.whl size=34275 sha256=64b5dacf46145fa9e9365cf992915c7f9653b71799f1b0a2cca40fe5326e7f2b\n",
            "  Stored in directory: /root/.cache/pip/wheels/b6/53/4e/67f0a88142d60eac158eb38df3c7a159cc37358d638913a183\n",
            "Successfully built instagram-scraper\n",
            "Installing collected packages: instagram-scraper\n",
            "Successfully installed instagram-scraper-1.8.1\n",
            "Searching honda for profile pic: 100% 1/1 [00:00<00:00, 1246.08 images/s]\n",
            "Searching honda for posts: 151 media [00:41,  3.86s/ media]\n",
            "Downloading:   0%|          | 0/201 [00:00<?, ?it/s]\u001b[A\n",
            "Downloading:  76%|#######6  | 153/201 [00:00<00:00, 1166.71it/s]\u001b[A\n",
            "Downloading:  94%|#########4| 189/201 [00:01<00:00, 74.42it/s]  \u001b[A\n",
            "Downloading: 100%|##########| 201/201 [00:02<00:00, 69.39it/s]\u001b[A\n",
            "Searching volvocars for profile pic:   0% 0/1 [00:00<?, ? images/s]\u001b[A\n",
            "Searching volvocars for profile pic: 100% 1/1 [00:00<00:00, 435.50 images/s]\u001b[A\n",
            "Searching volvocars for posts: 0 media [00:00, ? media/s]\u001b[A\n",
            "Searching volvocars for posts: 1 media [00:13, 13.25s/ media]\u001b[A\n",
            "Searching volvocars for posts: 51 media [00:25,  9.35s/ media]\u001b[A\n",
            "Searching volvocars for posts: 101 media [00:36,  6.61s/ media]\u001b[A\n",
            "Searching volvocars for posts: 151 media [00:47,  4.69s/ media]\u001b[A\n",
            "\n",
            "Downloading:   0%|          | 0/201 [00:00<?, ?it/s]\u001b[A\u001b[A\n",
            "\n",
            "Downloading:  76%|#######5  | 152/201 [00:00<00:00, 1512.66it/s]\u001b[A\u001b[A\n",
            "\n",
            "Downloading:  99%|#########8| 198/201 [00:04<00:00, 34.47it/s]  \u001b[A\u001b[A\n",
            "\n",
            "Downloading: 100%|##########| 201/201 [00:04<00:00, 41.88it/s]\u001b[A\u001b[A\n",
            "\n",
            "Searching dodgeofficial for profile pic:   0% 0/1 [00:00<?, ? images/s]\u001b[A\u001b[A\n",
            "\n",
            "Searching dodgeofficial for profile pic: 100% 1/1 [00:00<00:00, 3751.61 images/s]\u001b[A\u001b[A\n",
            "\n",
            "Searching dodgeofficial for posts: 0 media [00:00, ? media/s]\u001b[A\u001b[A\n",
            "\n",
            "Searching dodgeofficial for posts: 1 media [00:05,  5.27s/ media]\u001b[A\u001b[A\n",
            "\n",
            "Searching dodgeofficial for posts: 51 media [00:10,  3.72s/ media]\u001b[A\u001b[A\n",
            "\n",
            "Searching dodgeofficial for posts: 101 media [00:16,  2.64s/ media]\u001b[A\u001b[A\n",
            "\n",
            "Searching dodgeofficial for posts: 151 media [00:22,  1.88s/ media]\u001b[A\u001b[A\n",
            "\n",
            "\n",
            "Downloading:   0%|          | 0/201 [00:00<?, ?it/s]\u001b[A\u001b[A\u001b[A\n",
            "\n",
            "\n",
            "Downloading:  77%|#######6  | 154/201 [00:00<00:00, 1289.99it/s]\u001b[A\u001b[A\u001b[A\n",
            "\n",
            "\n",
            "Downloading:  96%|#########6| 193/201 [00:01<00:00, 90.23it/s]  \u001b[A\u001b[A\u001b[A\n",
            "\n",
            "\n",
            "Downloading: 100%|##########| 201/201 [00:01<00:00, 118.88it/s]\u001b[A\u001b[A\u001b[A\n",
            "\n",
            "\n",
            "Searching chevrolet for profile pic:   0% 0/1 [00:00<?, ? images/s]\u001b[A\u001b[A\u001b[A\n",
            "\n",
            "\n",
            "Searching chevrolet for profile pic: 100% 1/1 [00:00<00:00, 2657.99 images/s]\u001b[A\u001b[A\u001b[A\n",
            "\n",
            "\n",
            "Searching chevrolet for posts: 0 media [00:00, ? media/s]\u001b[A\u001b[A\u001b[A\n",
            "\n",
            "\n",
            "Searching chevrolet for posts: 1 media [00:04,  4.36s/ media]\u001b[A\u001b[A\u001b[A\n",
            "\n",
            "\n",
            "Searching chevrolet for posts: 51 media [00:10,  3.08s/ media]\u001b[A\u001b[A\u001b[A\n",
            "\n",
            "\n",
            "Searching chevrolet for posts: 101 media [00:16,  2.20s/ media]\u001b[A\u001b[A\u001b[A\n",
            "\n",
            "\n",
            "Searching chevrolet for posts: 151 media [00:19,  1.56s/ media]\u001b[A\u001b[A\u001b[A\n",
            "\n",
            "\n",
            "\n",
            "Downloading:   0%|          | 0/201 [00:00<?, ?it/s]\u001b[A\u001b[A\u001b[A\u001b[A\n",
            "\n",
            "\n",
            "\n",
            "Downloading:  69%|######9   | 139/201 [00:00<00:00, 1135.72it/s]\u001b[A\u001b[A\u001b[A\u001b[A\n",
            "\n",
            "\n",
            "\n",
            "Downloading:  87%|########6 | 174/201 [00:01<00:00, 70.08it/s]  \u001b[A\u001b[A\u001b[A\u001b[A\n",
            "\n",
            "\n",
            "\n",
            "Downloading:  99%|#########9| 199/201 [00:02<00:00, 40.12it/s]\u001b[A\u001b[A\u001b[A\u001b[A\n",
            "\n",
            "\n",
            "\n",
            "Downloading: 100%|##########| 201/201 [00:03<00:00, 66.10it/s]\u001b[A\u001b[A\u001b[A\u001b[A\n",
            "\n",
            "\n",
            "\n",
            "Searching ford for profile pic:   0% 0/1 [00:00<?, ? images/s]\u001b[A\u001b[A\u001b[A\u001b[A\n",
            "\n",
            "\n",
            "\n",
            "Searching ford for profile pic: 100% 1/1 [00:00<00:00, 7332.70 images/s]\u001b[A\u001b[A\u001b[A\u001b[A\n",
            "\n",
            "\n",
            "\n",
            "Searching ford for posts: 0 media [00:00, ? media/s]\u001b[A\u001b[A\u001b[A\u001b[A\n",
            "\n",
            "\n",
            "\n",
            "Searching ford for posts: 1 media [00:06,  6.31s/ media]\u001b[A\u001b[A\u001b[A\u001b[A\n",
            "\n",
            "\n",
            "\n",
            "Searching ford for posts: 51 media [00:09,  4.44s/ media]\u001b[A\u001b[A\u001b[A\u001b[A\n",
            "\n",
            "\n",
            "\n",
            "Searching ford for posts: 101 media [00:14,  3.14s/ media]\u001b[A\u001b[A\u001b[A\u001b[A\n",
            "\n",
            "\n",
            "\n",
            "Searching ford for posts: 151 media [00:18,  2.22s/ media]\u001b[A\u001b[A\u001b[A\u001b[A\n",
            "\n",
            "\n",
            "\n",
            "\n",
            "Downloading:   0%|          | 0/201 [00:00<?, ?it/s]\u001b[A\u001b[A\u001b[A\u001b[A\u001b[A\n",
            "\n",
            "\n",
            "\n",
            "\n",
            "Downloading:  76%|#######6  | 153/201 [00:00<00:00, 905.42it/s]\u001b[A\u001b[A\u001b[A\u001b[A\u001b[A\n",
            "\n",
            "\n",
            "\n",
            "\n",
            "Downloading:  90%|######### | 181/201 [00:01<00:00, 76.64it/s] \u001b[A\u001b[A\u001b[A\u001b[A\u001b[A\n",
            "\n",
            "\n",
            "\n",
            "\n",
            "Downloading: 100%|##########| 201/201 [00:02<00:00, 43.53it/s]\u001b[A\u001b[A\u001b[A\u001b[A\u001b[A\n",
            "\n",
            "\n",
            "\n",
            "\n",
            "\u001b[A\u001b[A\u001b[A\u001b[A\u001b[A\n",
            "\n",
            "\n",
            "\n",
            "\u001b[A\u001b[A\u001b[A\u001b[A\n",
            "\n",
            "\u001b[A\u001b[A\n",
            "\u001b[AException ignored in: <bound method tqdm.__del__ of Searching volvocars for posts: 151 media [02:01,  4.69s/ media]>\n",
            "Traceback (most recent call last):\n",
            "  File \"/usr/local/lib/python3.6/dist-packages/tqdm/_tqdm.py\", line 931, in __del__\n",
            "    self.close()\n",
            "  File \"/usr/local/lib/python3.6/dist-packages/tqdm/_tqdm.py\", line 1133, in close\n",
            "    self._decr_instances(self)\n",
            "  File \"/usr/local/lib/python3.6/dist-packages/tqdm/_tqdm.py\", line 496, in _decr_instances\n",
            "    cls.monitor.exit()\n",
            "  File \"/usr/local/lib/python3.6/dist-packages/tqdm/_monitor.py\", line 52, in exit\n",
            "    self.join()\n",
            "  File \"/usr/lib/python3.6/threading.py\", line 1053, in join\n",
            "    raise RuntimeError(\"cannot join current thread\")\n",
            "RuntimeError: cannot join current thread\n"
          ],
          "name": "stdout"
        }
      ]
    },
    {
      "cell_type": "markdown",
      "metadata": {
        "id": "IwND4SrZkMZP",
        "colab_type": "text"
      },
      "source": [
        "# JSON to CSV"
      ]
    },
    {
      "cell_type": "code",
      "metadata": {
        "id": "JlS1setafLpY",
        "colab_type": "code",
        "outputId": "a8210e16-70fe-46bc-d432-bf79a3bfe213",
        "colab": {
          "base_uri": "https://localhost:8080/",
          "height": 34
        }
      },
      "source": [
        "import glob\n",
        "import json\n",
        "import datetime\n",
        "import csv\n",
        " \n",
        "jsonfiles = glob.glob('drive/My Drive/Colab Notebooks/instagram/honda.json')\n",
        "#jsonfiles = glob.glob('drive/My Drive/Colab Notebooks/instagram/volvocars.json')\n",
        "#jsonfiles = glob.glob('drive/My Drive/Colab Notebooks/instagram/dodgeofficial.json')\n",
        "#jsonfiles = glob.glob('drive/My Drive/Colab Notebooks/instagram/chevrolet.json')\n",
        "#jsonfiles = glob.glob('drive/My Drive/Colab Notebooks/instagram/ford.json')\n",
        " \n",
        "for afile in jsonfiles:\n",
        "    print(afile)\n",
        "    outputfile = open('%s instagram.csv' % (afile[:-5]), 'w')\n",
        "     \n",
        "    csvwriter = csv.writer(outputfile)\n",
        "     \n",
        "    jsonfile = open(afile, 'r')\n",
        "    parsedjson = json.load(jsonfile)\n",
        "    instagramposts = {}\n",
        "     \n",
        "    metadata = {}\n",
        "    metadata['is_video'] = \"Photo\"\n",
        "    metadata['display_url'] = \"\"\n",
        "    metadata['caption'] = \"\"\n",
        "    metadata['like count'] = \"\"\n",
        "    metadata['comment count'] = \"\"\n",
        "    metadata['tags'] = \"\"\n",
        "    metadata['time'] = \"\"\n",
        "    header = list(metadata.keys())\n",
        "    csvwriter.writerows([header])\n",
        "     \n",
        "    for apost in parsedjson['GraphImages']:    \n",
        " \n",
        "        metadata = {}\n",
        "        metadata['is_video'] = \"Photo\"\n",
        "        metadata['display_url'] = \"\"\n",
        "        metadata['caption'] = \"\"\n",
        "        metadata['like count'] = \"\"\n",
        "        metadata['comment count'] = \"\"\n",
        "        metadata['tags'] = \"\"\n",
        "        metadata['time'] = \"\"\n",
        "         \n",
        "        if 'edge_media_to_caption' in apost:\n",
        "            if 'edges' in apost['edge_media_to_caption']:\n",
        "                edges = apost['edge_media_to_caption']['edges']\n",
        "                if len(edges) > 0:\n",
        "    #                    print(\"woo\")\n",
        "                    metadata['caption'] = apost['edge_media_to_caption']['edges'][0]['node']['text']\n",
        "            if 'edge_media_preview_like' in apost:\n",
        "                if 'count' in apost['edge_media_preview_like']:\n",
        "                    metadata['like count'] = apost['edge_media_preview_like']['count']\n",
        "            if 'edge_media_to_comment' in apost:\n",
        "                if 'count' in apost['edge_media_to_comment']:\n",
        "                    metadata['comment count'] = apost['edge_media_to_comment']['count']\n",
        "            if 'tags' in apost:\n",
        "                metadata['tags'] = apost['tags']\n",
        "                     \n",
        "            metadata['time'] = datetime.datetime.fromtimestamp(int(apost['taken_at_timestamp'])).strftime('%Y-%m-%d %H:%M')\n",
        "            metadata['display_url'] = apost['display_url']\n",
        "            if apost['is_video'] == True:\n",
        "                metadata['is_video'] = \"Video\"\n",
        "      \n",
        "            row = []\n",
        "            for anitem in metadata:\n",
        "                row.append(metadata[anitem])\n",
        "            csvwriter.writerow(row)\n",
        "             \n",
        "    outputfile.close()"
      ],
      "execution_count": 0,
      "outputs": [
        {
          "output_type": "stream",
          "text": [
            "drive/My Drive/Colab Notebooks/instagram/honda.json\n"
          ],
          "name": "stdout"
        }
      ]
    },
    {
      "cell_type": "code",
      "metadata": {
        "id": "HPX5nNrDipLj",
        "colab_type": "code",
        "colab": {}
      },
      "source": [
        "import pandas as pd\n",
        "\n",
        "honda =  pd.read_csv('/content/drive/My Drive/Colab Notebooks/instagram/honda instagram.csv')\n",
        "volvocars =  pd.read_csv('/content/drive/My Drive/Colab Notebooks/instagram/volvocars instagram.csv')\n",
        "dodgeofficial =  pd.read_csv('/content/drive/My Drive/Colab Notebooks/instagram/dodgeofficial instagram.csv')\n",
        "chevrolet =  pd.read_csv('/content/drive/My Drive/Colab Notebooks/instagram/chevrolet instagram.csv')\n",
        "ford =  pd.read_csv('/content/drive/My Drive/Colab Notebooks/instagram/ford instagram.csv')\n"
      ],
      "execution_count": 0,
      "outputs": []
    },
    {
      "cell_type": "code",
      "metadata": {
        "id": "E906jXRbjKlt",
        "colab_type": "code",
        "outputId": "6eb0e92c-bf4a-4e75-cdc1-30d12197403c",
        "colab": {
          "base_uri": "https://localhost:8080/",
          "height": 1000
        }
      },
      "source": [
        "from IPython.display import display\n",
        "display('honda',honda.head())\n",
        "display('volvocars',volvocars.head())\n",
        "display('dodgeofficial',dodgeofficial.head())\n",
        "display('chevrolet',chevrolet.head())\n",
        "display('ford',ford.head())\n"
      ],
      "execution_count": 0,
      "outputs": [
        {
          "output_type": "display_data",
          "data": {
            "text/plain": [
              "'honda'"
            ]
          },
          "metadata": {
            "tags": []
          }
        },
        {
          "output_type": "display_data",
          "data": {
            "text/html": [
              "<div>\n",
              "<style scoped>\n",
              "    .dataframe tbody tr th:only-of-type {\n",
              "        vertical-align: middle;\n",
              "    }\n",
              "\n",
              "    .dataframe tbody tr th {\n",
              "        vertical-align: top;\n",
              "    }\n",
              "\n",
              "    .dataframe thead th {\n",
              "        text-align: right;\n",
              "    }\n",
              "</style>\n",
              "<table border=\"1\" class=\"dataframe\">\n",
              "  <thead>\n",
              "    <tr style=\"text-align: right;\">\n",
              "      <th></th>\n",
              "      <th>is_video</th>\n",
              "      <th>display_url</th>\n",
              "      <th>caption</th>\n",
              "      <th>like count</th>\n",
              "      <th>comment count</th>\n",
              "      <th>tags</th>\n",
              "      <th>time</th>\n",
              "    </tr>\n",
              "  </thead>\n",
              "  <tbody>\n",
              "    <tr>\n",
              "      <th>0</th>\n",
              "      <td>Photo</td>\n",
              "      <td>https://scontent-sea1-1.cdninstagram.com/v/t51...</td>\n",
              "      <td>Snow shouldn’t stop your road trips in the #Ho...</td>\n",
              "      <td>16129</td>\n",
              "      <td>75</td>\n",
              "      <td>['HondaPilot']</td>\n",
              "      <td>2020-02-16 18:00</td>\n",
              "    </tr>\n",
              "    <tr>\n",
              "      <th>1</th>\n",
              "      <td>Video</td>\n",
              "      <td>https://scontent-sea1-1.cdninstagram.com/v/t51...</td>\n",
              "      <td>These #HondaLove fans have a special place in ...</td>\n",
              "      <td>4241</td>\n",
              "      <td>31</td>\n",
              "      <td>['HondaLove']</td>\n",
              "      <td>2020-02-14 14:00</td>\n",
              "    </tr>\n",
              "    <tr>\n",
              "      <th>2</th>\n",
              "      <td>Photo</td>\n",
              "      <td>https://scontent-sea1-1.cdninstagram.com/v/t51...</td>\n",
              "      <td>We’re ringing in our 50th anniversary of Ameri...</td>\n",
              "      <td>14918</td>\n",
              "      <td>64</td>\n",
              "      <td>[]</td>\n",
              "      <td>2020-02-14 01:27</td>\n",
              "    </tr>\n",
              "    <tr>\n",
              "      <th>3</th>\n",
              "      <td>Video</td>\n",
              "      <td>https://scontent-sea1-1.cdninstagram.com/v/t51...</td>\n",
              "      <td>50 years ago, our first continental US auto de...</td>\n",
              "      <td>5107</td>\n",
              "      <td>50</td>\n",
              "      <td>[]</td>\n",
              "      <td>2020-02-11 17:00</td>\n",
              "    </tr>\n",
              "    <tr>\n",
              "      <th>4</th>\n",
              "      <td>Photo</td>\n",
              "      <td>https://scontent-sea1-1.cdninstagram.com/v/t51...</td>\n",
              "      <td>It’s time to profess some #HondaLove. We’re 💞 ...</td>\n",
              "      <td>12269</td>\n",
              "      <td>728</td>\n",
              "      <td>['HondaLove']</td>\n",
              "      <td>2020-02-10 18:58</td>\n",
              "    </tr>\n",
              "  </tbody>\n",
              "</table>\n",
              "</div>"
            ],
            "text/plain": [
              "  is_video  ...              time\n",
              "0    Photo  ...  2020-02-16 18:00\n",
              "1    Video  ...  2020-02-14 14:00\n",
              "2    Photo  ...  2020-02-14 01:27\n",
              "3    Video  ...  2020-02-11 17:00\n",
              "4    Photo  ...  2020-02-10 18:58\n",
              "\n",
              "[5 rows x 7 columns]"
            ]
          },
          "metadata": {
            "tags": []
          }
        },
        {
          "output_type": "display_data",
          "data": {
            "text/plain": [
              "'volvocars'"
            ]
          },
          "metadata": {
            "tags": []
          }
        },
        {
          "output_type": "display_data",
          "data": {
            "text/html": [
              "<div>\n",
              "<style scoped>\n",
              "    .dataframe tbody tr th:only-of-type {\n",
              "        vertical-align: middle;\n",
              "    }\n",
              "\n",
              "    .dataframe tbody tr th {\n",
              "        vertical-align: top;\n",
              "    }\n",
              "\n",
              "    .dataframe thead th {\n",
              "        text-align: right;\n",
              "    }\n",
              "</style>\n",
              "<table border=\"1\" class=\"dataframe\">\n",
              "  <thead>\n",
              "    <tr style=\"text-align: right;\">\n",
              "      <th></th>\n",
              "      <th>is_video</th>\n",
              "      <th>display_url</th>\n",
              "      <th>caption</th>\n",
              "      <th>like count</th>\n",
              "      <th>comment count</th>\n",
              "      <th>tags</th>\n",
              "      <th>time</th>\n",
              "    </tr>\n",
              "  </thead>\n",
              "  <tbody>\n",
              "    <tr>\n",
              "      <th>0</th>\n",
              "      <td>Video</td>\n",
              "      <td>https://scontent-sea1-1.cdninstagram.com/v/t51...</td>\n",
              "      <td>We’re changing the ways we operate as we aim f...</td>\n",
              "      <td>2374</td>\n",
              "      <td>13</td>\n",
              "      <td>['VolvoRecharged']</td>\n",
              "      <td>2020-02-17 08:00</td>\n",
              "    </tr>\n",
              "    <tr>\n",
              "      <th>1</th>\n",
              "      <td>Photo</td>\n",
              "      <td>https://scontent-sea1-1.cdninstagram.com/v/t51...</td>\n",
              "      <td>I sense a spark between us. #ValentinesDay #XC...</td>\n",
              "      <td>15689</td>\n",
              "      <td>93</td>\n",
              "      <td>['XC40Electric', 'ValentinesDay', 'VolvoRechar...</td>\n",
              "      <td>2020-02-14 09:22</td>\n",
              "    </tr>\n",
              "    <tr>\n",
              "      <th>2</th>\n",
              "      <td>Video</td>\n",
              "      <td>https://scontent-sea1-1.cdninstagram.com/v/t51...</td>\n",
              "      <td>Electric is not enough, and we’re part of the ...</td>\n",
              "      <td>3944</td>\n",
              "      <td>56</td>\n",
              "      <td>['VolvoRecharged']</td>\n",
              "      <td>2020-02-12 09:40</td>\n",
              "    </tr>\n",
              "    <tr>\n",
              "      <th>3</th>\n",
              "      <td>Photo</td>\n",
              "      <td>https://scontent-sea1-1.cdninstagram.com/v/t51...</td>\n",
              "      <td>With higher ground clearance comes new destina...</td>\n",
              "      <td>29684</td>\n",
              "      <td>188</td>\n",
              "      <td>[]</td>\n",
              "      <td>2020-02-05 10:19</td>\n",
              "    </tr>\n",
              "    <tr>\n",
              "      <th>4</th>\n",
              "      <td>Photo</td>\n",
              "      <td>https://scontent-sea1-1.cdninstagram.com/v/t51...</td>\n",
              "      <td>Appreciating the serene nature with an #XC90. ...</td>\n",
              "      <td>13721</td>\n",
              "      <td>59</td>\n",
              "      <td>['XC90', 'VolvoRecharged']</td>\n",
              "      <td>2020-01-29 12:15</td>\n",
              "    </tr>\n",
              "  </tbody>\n",
              "</table>\n",
              "</div>"
            ],
            "text/plain": [
              "  is_video  ...              time\n",
              "0    Video  ...  2020-02-17 08:00\n",
              "1    Photo  ...  2020-02-14 09:22\n",
              "2    Video  ...  2020-02-12 09:40\n",
              "3    Photo  ...  2020-02-05 10:19\n",
              "4    Photo  ...  2020-01-29 12:15\n",
              "\n",
              "[5 rows x 7 columns]"
            ]
          },
          "metadata": {
            "tags": []
          }
        },
        {
          "output_type": "display_data",
          "data": {
            "text/plain": [
              "'dodgeofficial'"
            ]
          },
          "metadata": {
            "tags": []
          }
        },
        {
          "output_type": "display_data",
          "data": {
            "text/html": [
              "<div>\n",
              "<style scoped>\n",
              "    .dataframe tbody tr th:only-of-type {\n",
              "        vertical-align: middle;\n",
              "    }\n",
              "\n",
              "    .dataframe tbody tr th {\n",
              "        vertical-align: top;\n",
              "    }\n",
              "\n",
              "    .dataframe thead th {\n",
              "        text-align: right;\n",
              "    }\n",
              "</style>\n",
              "<table border=\"1\" class=\"dataframe\">\n",
              "  <thead>\n",
              "    <tr style=\"text-align: right;\">\n",
              "      <th></th>\n",
              "      <th>is_video</th>\n",
              "      <th>display_url</th>\n",
              "      <th>caption</th>\n",
              "      <th>like count</th>\n",
              "      <th>comment count</th>\n",
              "      <th>tags</th>\n",
              "      <th>time</th>\n",
              "    </tr>\n",
              "  </thead>\n",
              "  <tbody>\n",
              "    <tr>\n",
              "      <th>0</th>\n",
              "      <td>Photo</td>\n",
              "      <td>https://scontent-sea1-1.cdninstagram.com/v/t51...</td>\n",
              "      <td>Even when it's silver, it takes home gold.\\n\\n...</td>\n",
              "      <td>167550</td>\n",
              "      <td>418</td>\n",
              "      <td>['ThatsMyDodge', 'InstaCars', 'Hellcat', 'Musc...</td>\n",
              "      <td>2020-02-16 14:41</td>\n",
              "    </tr>\n",
              "    <tr>\n",
              "      <th>1</th>\n",
              "      <td>Photo</td>\n",
              "      <td>https://scontent-sea1-1.cdninstagram.com/v/t51...</td>\n",
              "      <td>Fire in the eyes. 🚘: @redline707_\\n\\n#ThatsMyD...</td>\n",
              "      <td>134164</td>\n",
              "      <td>304</td>\n",
              "      <td>['ThatsMyDodge', 'InstaCars', 'Hellcat', 'Musc...</td>\n",
              "      <td>2020-02-15 14:42</td>\n",
              "    </tr>\n",
              "    <tr>\n",
              "      <th>2</th>\n",
              "      <td>Video</td>\n",
              "      <td>https://scontent-sea1-1.cdninstagram.com/v/t51...</td>\n",
              "      <td>Love is in the air. #HappyValentinesDay</td>\n",
              "      <td>71348</td>\n",
              "      <td>700</td>\n",
              "      <td>['HappyValentinesDay']</td>\n",
              "      <td>2020-02-14 13:00</td>\n",
              "    </tr>\n",
              "    <tr>\n",
              "      <th>3</th>\n",
              "      <td>Photo</td>\n",
              "      <td>https://scontent-sea1-1.cdninstagram.com/v/t51...</td>\n",
              "      <td>Never underestimate muscle.\\n🚘: @three_pedal_l...</td>\n",
              "      <td>118737</td>\n",
              "      <td>314</td>\n",
              "      <td>['ThatsMyDodge', 'InstaCars', 'MuscleCars', 'S...</td>\n",
              "      <td>2020-02-12 21:46</td>\n",
              "    </tr>\n",
              "    <tr>\n",
              "      <th>4</th>\n",
              "      <td>Photo</td>\n",
              "      <td>https://scontent-sea1-1.cdninstagram.com/v/t51...</td>\n",
              "      <td>Consider the show stopped.\\n\\n#ThatsMyDodge #D...</td>\n",
              "      <td>115839</td>\n",
              "      <td>309</td>\n",
              "      <td>['ThatsMyDodge', 'Hellcat', 'MuscleCars', 'Dod...</td>\n",
              "      <td>2020-02-11 14:41</td>\n",
              "    </tr>\n",
              "  </tbody>\n",
              "</table>\n",
              "</div>"
            ],
            "text/plain": [
              "  is_video  ...              time\n",
              "0    Photo  ...  2020-02-16 14:41\n",
              "1    Photo  ...  2020-02-15 14:42\n",
              "2    Video  ...  2020-02-14 13:00\n",
              "3    Photo  ...  2020-02-12 21:46\n",
              "4    Photo  ...  2020-02-11 14:41\n",
              "\n",
              "[5 rows x 7 columns]"
            ]
          },
          "metadata": {
            "tags": []
          }
        },
        {
          "output_type": "display_data",
          "data": {
            "text/plain": [
              "'chevrolet'"
            ]
          },
          "metadata": {
            "tags": []
          }
        },
        {
          "output_type": "display_data",
          "data": {
            "text/html": [
              "<div>\n",
              "<style scoped>\n",
              "    .dataframe tbody tr th:only-of-type {\n",
              "        vertical-align: middle;\n",
              "    }\n",
              "\n",
              "    .dataframe tbody tr th {\n",
              "        vertical-align: top;\n",
              "    }\n",
              "\n",
              "    .dataframe thead th {\n",
              "        text-align: right;\n",
              "    }\n",
              "</style>\n",
              "<table border=\"1\" class=\"dataframe\">\n",
              "  <thead>\n",
              "    <tr style=\"text-align: right;\">\n",
              "      <th></th>\n",
              "      <th>is_video</th>\n",
              "      <th>display_url</th>\n",
              "      <th>caption</th>\n",
              "      <th>like count</th>\n",
              "      <th>comment count</th>\n",
              "      <th>tags</th>\n",
              "      <th>time</th>\n",
              "    </tr>\n",
              "  </thead>\n",
              "  <tbody>\n",
              "    <tr>\n",
              "      <th>0</th>\n",
              "      <td>Photo</td>\n",
              "      <td>https://scontent-sea1-1.cdninstagram.com/v/t51...</td>\n",
              "      <td>With a bold new design, the 2021 #ChevyEquinox...</td>\n",
              "      <td>25807</td>\n",
              "      <td>310</td>\n",
              "      <td>['ChevyEquinox']</td>\n",
              "      <td>2020-02-06 11:29</td>\n",
              "    </tr>\n",
              "    <tr>\n",
              "      <th>1</th>\n",
              "      <td>Photo</td>\n",
              "      <td>https://scontent-sea1-1.cdninstagram.com/v/t51...</td>\n",
              "      <td>We can play along too. #DollyPartonChallenge</td>\n",
              "      <td>53599</td>\n",
              "      <td>412</td>\n",
              "      <td>['DollyPartonChallenge']</td>\n",
              "      <td>2020-01-25 15:08</td>\n",
              "    </tr>\n",
              "    <tr>\n",
              "      <th>2</th>\n",
              "      <td>Photo</td>\n",
              "      <td>https://scontent-sea1-1.cdninstagram.com/v/t51...</td>\n",
              "      <td>Check out our Story today and learn how to be ...</td>\n",
              "      <td>40878</td>\n",
              "      <td>152</td>\n",
              "      <td>['Chevy']</td>\n",
              "      <td>2020-01-24 16:10</td>\n",
              "    </tr>\n",
              "    <tr>\n",
              "      <th>3</th>\n",
              "      <td>Photo</td>\n",
              "      <td>https://scontent-sea1-1.cdninstagram.com/v/t51...</td>\n",
              "      <td>The hunt is over. Introducing the #Silverado #...</td>\n",
              "      <td>54510</td>\n",
              "      <td>489</td>\n",
              "      <td>['Silverado', 'Realtree']</td>\n",
              "      <td>2020-01-22 18:29</td>\n",
              "    </tr>\n",
              "    <tr>\n",
              "      <th>4</th>\n",
              "      <td>Video</td>\n",
              "      <td>https://scontent-sea1-1.cdninstagram.com/v/t51...</td>\n",
              "      <td>There’s no hiding it. Your phone background sa...</td>\n",
              "      <td>15844</td>\n",
              "      <td>74</td>\n",
              "      <td>['Silverado']</td>\n",
              "      <td>2020-01-21 19:19</td>\n",
              "    </tr>\n",
              "  </tbody>\n",
              "</table>\n",
              "</div>"
            ],
            "text/plain": [
              "  is_video  ...              time\n",
              "0    Photo  ...  2020-02-06 11:29\n",
              "1    Photo  ...  2020-01-25 15:08\n",
              "2    Photo  ...  2020-01-24 16:10\n",
              "3    Photo  ...  2020-01-22 18:29\n",
              "4    Video  ...  2020-01-21 19:19\n",
              "\n",
              "[5 rows x 7 columns]"
            ]
          },
          "metadata": {
            "tags": []
          }
        },
        {
          "output_type": "display_data",
          "data": {
            "text/plain": [
              "'ford'"
            ]
          },
          "metadata": {
            "tags": []
          }
        },
        {
          "output_type": "display_data",
          "data": {
            "text/html": [
              "<div>\n",
              "<style scoped>\n",
              "    .dataframe tbody tr th:only-of-type {\n",
              "        vertical-align: middle;\n",
              "    }\n",
              "\n",
              "    .dataframe tbody tr th {\n",
              "        vertical-align: top;\n",
              "    }\n",
              "\n",
              "    .dataframe thead th {\n",
              "        text-align: right;\n",
              "    }\n",
              "</style>\n",
              "<table border=\"1\" class=\"dataframe\">\n",
              "  <thead>\n",
              "    <tr style=\"text-align: right;\">\n",
              "      <th></th>\n",
              "      <th>is_video</th>\n",
              "      <th>display_url</th>\n",
              "      <th>caption</th>\n",
              "      <th>like count</th>\n",
              "      <th>comment count</th>\n",
              "      <th>tags</th>\n",
              "      <th>time</th>\n",
              "    </tr>\n",
              "  </thead>\n",
              "  <tbody>\n",
              "    <tr>\n",
              "      <th>0</th>\n",
              "      <td>Photo</td>\n",
              "      <td>https://scontent-sea1-1.cdninstagram.com/v/t51...</td>\n",
              "      <td>Keeping it chill.\\n.\\n📸: @cassianzanewycz\\n.\\n...</td>\n",
              "      <td>3971</td>\n",
              "      <td>20</td>\n",
              "      <td>['FordTrucks', 'Ford', 'BuiltFordTough', 'Rapt...</td>\n",
              "      <td>2020-02-17 14:30</td>\n",
              "    </tr>\n",
              "    <tr>\n",
              "      <th>1</th>\n",
              "      <td>Photo</td>\n",
              "      <td>https://scontent-sea1-1.cdninstagram.com/v/t51...</td>\n",
              "      <td>It’s a draw. They’re both our good side.\\n∙\\n#...</td>\n",
              "      <td>41962</td>\n",
              "      <td>275</td>\n",
              "      <td>['FordExplorer', 'SUV', 'Ford']</td>\n",
              "      <td>2020-02-13 17:31</td>\n",
              "    </tr>\n",
              "    <tr>\n",
              "      <th>2</th>\n",
              "      <td>Photo</td>\n",
              "      <td>https://scontent-sea1-1.cdninstagram.com/v/t51...</td>\n",
              "      <td>Vroooooooooooom.\\n.\\nProfessional driver. Clos...</td>\n",
              "      <td>100425</td>\n",
              "      <td>629</td>\n",
              "      <td>['FordMustang', 'GT500TrackTour', 'Ford', 'She...</td>\n",
              "      <td>2020-02-07 17:00</td>\n",
              "    </tr>\n",
              "    <tr>\n",
              "      <th>3</th>\n",
              "      <td>Photo</td>\n",
              "      <td>https://scontent-sea1-1.cdninstagram.com/v/t51...</td>\n",
              "      <td>ⓛⓘⓠⓤⓘⓓ ⓒⓐⓡⓑⓞⓝ\\n∙\\nOn top of the newly availabl...</td>\n",
              "      <td>148140</td>\n",
              "      <td>1486</td>\n",
              "      <td>['FordPerformance', 'Ford', 'FordGT']</td>\n",
              "      <td>2020-02-06 16:54</td>\n",
              "    </tr>\n",
              "    <tr>\n",
              "      <th>4</th>\n",
              "      <td>Photo</td>\n",
              "      <td>https://scontent-sea1-1.cdninstagram.com/v/t51...</td>\n",
              "      <td>Anyone else dreaming of some ☀️right about now...</td>\n",
              "      <td>40048</td>\n",
              "      <td>284</td>\n",
              "      <td>['FordExplorer', 'Ford', 'WinterBlues']</td>\n",
              "      <td>2020-02-05 17:00</td>\n",
              "    </tr>\n",
              "  </tbody>\n",
              "</table>\n",
              "</div>"
            ],
            "text/plain": [
              "  is_video  ...              time\n",
              "0    Photo  ...  2020-02-17 14:30\n",
              "1    Photo  ...  2020-02-13 17:31\n",
              "2    Photo  ...  2020-02-07 17:00\n",
              "3    Photo  ...  2020-02-06 16:54\n",
              "4    Photo  ...  2020-02-05 17:00\n",
              "\n",
              "[5 rows x 7 columns]"
            ]
          },
          "metadata": {
            "tags": []
          }
        }
      ]
    },
    {
      "cell_type": "markdown",
      "metadata": {
        "id": "AgrfntoHkFaB",
        "colab_type": "text"
      },
      "source": [
        "# Engagement Rate"
      ]
    },
    {
      "cell_type": "markdown",
      "metadata": {
        "id": "f6PaO3MinEID",
        "colab_type": "text"
      },
      "source": [
        "Number of followers"
      ]
    },
    {
      "cell_type": "code",
      "metadata": {
        "id": "u8EKG0m8kK4q",
        "colab_type": "code",
        "colab": {}
      },
      "source": [
        "import requests\n",
        "import re\n",
        "\n",
        "url1 = 'https://www.instagram.com/honda'\n",
        "req1 = requests.get(url1).text\n",
        "followers1 = re.search('\"edge_followed_by\":{\"count\":([0-9]+)}',req1).group(1)\n",
        "url2 = 'https://www.instagram.com/volvocars'\n",
        "req2 = requests.get(url2).text\n",
        "followers2 = re.search('\"edge_followed_by\":{\"count\":([0-9]+)}',req2).group(1)\n",
        "url3 = 'https://www.instagram.com/dodgeofficial'\n",
        "req3 = requests.get(url3).text\n",
        "followers3 = re.search('\"edge_followed_by\":{\"count\":([0-9]+)}',req3).group(1)\n",
        "url4 = 'https://www.instagram.com/chevrolet'\n",
        "req4 = requests.get(url4).text\n",
        "followers4 = re.search('\"edge_followed_by\":{\"count\":([0-9]+)}',req4).group(1)\n",
        "url5 = 'https://www.instagram.com/ford'\n",
        "req5 = requests.get(url5).text\n",
        "followers5 = re.search('\"edge_followed_by\":{\"count\":([0-9]+)}',req5).group(1)"
      ],
      "execution_count": 0,
      "outputs": []
    },
    {
      "cell_type": "markdown",
      "metadata": {
        "id": "bU4zeffSnJ9y",
        "colab_type": "text"
      },
      "source": [
        "Post Engagement"
      ]
    },
    {
      "cell_type": "code",
      "metadata": {
        "id": "SJuvuRaJnCdC",
        "colab_type": "code",
        "colab": {}
      },
      "source": [
        "hondaengagement=[]\n",
        "for i in range(len(honda)) : \n",
        "  engg = (honda.loc[i, \"like count\"] + honda.loc[i, \"comment count\"])\n",
        "  rate = (engg/(int(followers1)))*100\n",
        "  hondaengagement.append(rate)\n",
        "\n",
        "volvocarsengagement=[]\n",
        "for i in range(len(volvocars)) : \n",
        "  engg = (volvocars.loc[i, \"like count\"] + volvocars.loc[i, \"comment count\"])\n",
        "  rate = (engg/(int(followers2)))*100\n",
        "  volvocarsengagement.append(rate)\n",
        "\n",
        "dodgeofficialengagement=[]\n",
        "for i in range(len(dodgeofficial)) : \n",
        "  engg = (dodgeofficial.loc[i, \"like count\"] + dodgeofficial.loc[i, \"comment count\"])\n",
        "  rate = (engg/(int(followers3)))*100\n",
        "  dodgeofficialengagement.append(rate)\n",
        "\n",
        "chevroletengagement=[]\n",
        "for i in range(len(chevrolet)) : \n",
        "  engg = (chevrolet.loc[i, \"like count\"] + chevrolet.loc[i, \"comment count\"])\n",
        "  rate = (engg/(int(followers4)))*100\n",
        "  chevroletengagement.append(rate)\n",
        "\n",
        "fordengagement=[]\n",
        "for i in range(len(ford)) : \n",
        "  engg = (ford.loc[i, \"like count\"] + ford.loc[i, \"comment count\"])\n",
        "  rate = (engg/(int(followers5)))*100\n",
        "  fordengagement.append(rate)"
      ],
      "execution_count": 0,
      "outputs": []
    },
    {
      "cell_type": "markdown",
      "metadata": {
        "id": "yWw9VkqjtD3t",
        "colab_type": "text"
      },
      "source": [
        "Mean Post Engagement Rate\n"
      ]
    },
    {
      "cell_type": "code",
      "metadata": {
        "id": "JsBYAxG8tIgK",
        "colab_type": "code",
        "colab": {}
      },
      "source": [
        "def Average(l): \n",
        "    avg = sum(l) / len(l) \n",
        "    return avg"
      ],
      "execution_count": 0,
      "outputs": []
    },
    {
      "cell_type": "code",
      "metadata": {
        "id": "vWnvxzfEtYd4",
        "colab_type": "code",
        "outputId": "e736388c-086e-4bba-c11e-d00c0d305161",
        "colab": {
          "base_uri": "https://localhost:8080/",
          "height": 104
        }
      },
      "source": [
        "print(\"The average engagement rate of Honda is\", round(Average(hondaengagement),2), \"%\")\n",
        "print(\"The average engagement rate of Volvo is\", round(Average(volvocarsengagement),2), \"%\")\n",
        "print(\"The average engagement rate of Dodge is\", round(Average(dodgeofficialengagement),2), \"%\")\n",
        "print(\"The average engagement rate of Chevrolet is\", round(Average(chevroletengagement),2), \"%\")\n",
        "print(\"The average engagement rate of Ford is\", round(Average(fordengagement),2), \"%\")"
      ],
      "execution_count": 0,
      "outputs": [
        {
          "output_type": "stream",
          "text": [
            "The average engagement rate of Honda is 0.42 %\n",
            "The average engagement rate of Volvo is 1.37 %\n",
            "The average engagement rate of Dodge is 2.1 %\n",
            "The average engagement rate of Chevrolet is 1.06 %\n",
            "The average engagement rate of Ford is 1.33 %\n"
          ],
          "name": "stdout"
        }
      ]
    },
    {
      "cell_type": "markdown",
      "metadata": {
        "id": "E71AVTu4v_7U",
        "colab_type": "text"
      },
      "source": [
        "# Questions"
      ]
    },
    {
      "cell_type": "markdown",
      "metadata": {
        "id": "psY0Ii1uwF6E",
        "colab_type": "text"
      },
      "source": [
        "1.   Which of the brands has the highest average post engagement rate?\n",
        "\n",
        "*  Dodge \n",
        "\n",
        "\n",
        "2.   How is @honda's engagement rate compared to its competitors?\n",
        "\n",
        "*   It is the least.\n",
        "\n",
        "\n"
      ]
    }
  ]
}