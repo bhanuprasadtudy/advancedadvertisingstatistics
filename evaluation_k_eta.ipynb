{
  "nbformat": 4,
  "nbformat_minor": 0,
  "metadata": {
    "colab": {
      "name": "evaluation.k.eta.ipynb",
      "provenance": [],
      "collapsed_sections": [
        "ilYVGqWsatLm",
        "FQP6MDHmaSWi",
        "KK-1qTippy7W"
      ]
    },
    "kernelspec": {
      "name": "python3",
      "display_name": "Python 3"
    }
  },
  "cells": [
    {
      "cell_type": "markdown",
      "metadata": {
        "id": "ilYVGqWsatLm",
        "colab_type": "text"
      },
      "source": [
        "# Preproccesing"
      ]
    },
    {
      "cell_type": "code",
      "metadata": {
        "id": "UoZH5ZUYxXRW",
        "colab_type": "code",
        "outputId": "6a423afd-a380-4442-9e0d-f3c94627cd26",
        "colab": {
          "base_uri": "https://localhost:8080/",
          "height": 573
        }
      },
      "source": [
        "!pip install tmtoolkit #installing in google colab\n",
        "\n",
        "import nltk\n",
        "nltk.download('stopwords')\n",
        "nltk.download('punkt')\n",
        "nltk.download('averaged_perceptron_tagger')\n",
        "nltk.download('wordnet')"
      ],
      "execution_count": 0,
      "outputs": [
        {
          "output_type": "stream",
          "text": [
            "Requirement already satisfied: tmtoolkit in /usr/local/lib/python3.6/dist-packages (0.9.0)\n",
            "Requirement already satisfied: pandas>=0.25.0 in /usr/local/lib/python3.6/dist-packages (from tmtoolkit) (0.25.3)\n",
            "Requirement already satisfied: matplotlib>=3.1.0 in /usr/local/lib/python3.6/dist-packages (from tmtoolkit) (3.1.2)\n",
            "Requirement already satisfied: nltk>=3.4.0 in /usr/local/lib/python3.6/dist-packages (from tmtoolkit) (3.4.5)\n",
            "Requirement already satisfied: scipy>=1.3.0 in /usr/local/lib/python3.6/dist-packages (from tmtoolkit) (1.4.1)\n",
            "Requirement already satisfied: germalemma>=0.1.3 in /usr/local/lib/python3.6/dist-packages (from tmtoolkit) (0.1.3)\n",
            "Requirement already satisfied: globre>=0.1.5 in /usr/local/lib/python3.6/dist-packages (from tmtoolkit) (0.1.5)\n",
            "Requirement already satisfied: xlrd>=1.2.0 in /usr/local/lib/python3.6/dist-packages (from tmtoolkit) (1.2.0)\n",
            "Requirement already satisfied: deprecation>=2.0.0 in /usr/local/lib/python3.6/dist-packages (from tmtoolkit) (2.0.7)\n",
            "Requirement already satisfied: numpy>=1.17.0 in /usr/local/lib/python3.6/dist-packages (from tmtoolkit) (1.17.5)\n",
            "Requirement already satisfied: python-dateutil>=2.6.1 in /usr/local/lib/python3.6/dist-packages (from pandas>=0.25.0->tmtoolkit) (2.6.1)\n",
            "Requirement already satisfied: pytz>=2017.2 in /usr/local/lib/python3.6/dist-packages (from pandas>=0.25.0->tmtoolkit) (2018.9)\n",
            "Requirement already satisfied: kiwisolver>=1.0.1 in /usr/local/lib/python3.6/dist-packages (from matplotlib>=3.1.0->tmtoolkit) (1.1.0)\n",
            "Requirement already satisfied: pyparsing!=2.0.4,!=2.1.2,!=2.1.6,>=2.0.1 in /usr/local/lib/python3.6/dist-packages (from matplotlib>=3.1.0->tmtoolkit) (2.4.6)\n",
            "Requirement already satisfied: cycler>=0.10 in /usr/local/lib/python3.6/dist-packages (from matplotlib>=3.1.0->tmtoolkit) (0.10.0)\n",
            "Requirement already satisfied: six in /usr/local/lib/python3.6/dist-packages (from nltk>=3.4.0->tmtoolkit) (1.12.0)\n",
            "Requirement already satisfied: PatternLite>=3.6 in /usr/local/lib/python3.6/dist-packages (from germalemma>=0.1.3->tmtoolkit) (3.6)\n",
            "Requirement already satisfied: Pyphen>=0.9.5 in /usr/local/lib/python3.6/dist-packages (from germalemma>=0.1.3->tmtoolkit) (0.9.5)\n",
            "Requirement already satisfied: packaging in /usr/local/lib/python3.6/dist-packages (from deprecation>=2.0.0->tmtoolkit) (20.0)\n",
            "Requirement already satisfied: setuptools in /usr/local/lib/python3.6/dist-packages (from kiwisolver>=1.0.1->matplotlib>=3.1.0->tmtoolkit) (42.0.2)\n"
          ],
          "name": "stdout"
        },
        {
          "output_type": "stream",
          "text": [
            "[nltk_data] Downloading package stopwords to /root/nltk_data...\n",
            "[nltk_data]   Package stopwords is already up-to-date!\n",
            "[nltk_data] Downloading package punkt to /root/nltk_data...\n",
            "[nltk_data]   Package punkt is already up-to-date!\n",
            "[nltk_data] Downloading package averaged_perceptron_tagger to\n",
            "[nltk_data]     /root/nltk_data...\n",
            "[nltk_data]   Package averaged_perceptron_tagger is already up-to-\n",
            "[nltk_data]       date!\n",
            "[nltk_data] Downloading package wordnet to /root/nltk_data...\n",
            "[nltk_data]   Package wordnet is already up-to-date!\n"
          ],
          "name": "stderr"
        },
        {
          "output_type": "execute_result",
          "data": {
            "text/plain": [
              "True"
            ]
          },
          "metadata": {
            "tags": []
          },
          "execution_count": 23
        }
      ]
    },
    {
      "cell_type": "code",
      "metadata": {
        "id": "Di8jPqZtxY9t",
        "colab_type": "code",
        "colab": {}
      },
      "source": [
        "import random\n",
        "random.seed(20191120)\n",
        "\n",
        "import numpy as np\n",
        "np.set_printoptions(precision=5)\n",
        "\n",
        "from tmtoolkit.corpus import Corpus\n",
        "url = \"https://s3.amazonaws.com/vargo.aprd6342/data/rusdata_utf8.csv\"\n",
        "\n",
        "import codecs\n",
        "import csv\n",
        "import urllib\n",
        "\n",
        "corpus = Corpus() #corpus: set of documents\n",
        "TEXT_FIELD = 8\n",
        "\n",
        "with urllib.request.urlopen(url) as response: #performing a web request to open url \n",
        "  stream = urllib.request.urlopen(url) #opening the url \n",
        "  csvfile= csv.reader(codecs.iterdecode(stream,'utf-8')) \n",
        "  for i, line in enumerate(csvfile):\n",
        "    corpus.add_doc(str(i), line[TEXT_FIELD])"
      ],
      "execution_count": 0,
      "outputs": []
    },
    {
      "cell_type": "code",
      "metadata": {
        "id": "aubvPEQOxhyl",
        "colab_type": "code",
        "outputId": "86320c97-956a-4d53-88e7-6f4667d0e1e7",
        "colab": {
          "base_uri": "https://localhost:8080/",
          "height": 72
        }
      },
      "source": [
        "print(len(corpus))\n",
        "corpus.doc_labels\n",
        "corpus['91']"
      ],
      "execution_count": 0,
      "outputs": [
        {
          "output_type": "stream",
          "text": [
            "2604\n"
          ],
          "name": "stdout"
        },
        {
          "output_type": "execute_result",
          "data": {
            "text/plain": [
              "'Expecting mother includes late husband in maternity photo shoot Through the struggles and pains of losing a dear husband. Nicole Bennett has built courage to take maternity photos with her 4-year-old son. She added old photos of late husband Deonta  but they were slightly faded to appear as a spirit \\x92¢Î\\x97Î\\x94 a symbol of hope that he watches over them. She also did this as a memorial for her unborn daughter who is due March 25. We commend her for her boldness and we hope that she finds solace in these photos. #NicoleBernett #Maternityphotoswithlatehusband'"
            ]
          },
          "metadata": {
            "tags": []
          },
          "execution_count": 25
        }
      ]
    },
    {
      "cell_type": "code",
      "metadata": {
        "id": "TyfUDw8uxkFm",
        "colab_type": "code",
        "outputId": "8c269173-8404-4ade-d3a9-690154aecfd0",
        "colab": {
          "base_uri": "https://localhost:8080/",
          "height": 351
        }
      },
      "source": [
        "import matplotlib\n",
        "matplotlib.pyplot.hist(corpus.doc_lengths.values())"
      ],
      "execution_count": 0,
      "outputs": [
        {
          "output_type": "execute_result",
          "data": {
            "text/plain": [
              "(array([1759.,  389.,  182.,  130.,   78.,   37.,   18.,    6.,    3.,\n",
              "           2.]),\n",
              " array([   0. ,  239.3,  478.6,  717.9,  957.2, 1196.5, 1435.8, 1675.1,\n",
              "        1914.4, 2153.7, 2393. ]),\n",
              " <a list of 10 Patch objects>)"
            ]
          },
          "metadata": {
            "tags": []
          },
          "execution_count": 26
        },
        {
          "output_type": "display_data",
          "data": {
            "image/png": "[encoded data removed]",
            "text/plain": [
              "<Figure size 432x288 with 1 Axes>"
            ]
          },
          "metadata": {
            "tags": []
          }
        }
      ]
    },
    {
      "cell_type": "code",
      "metadata": {
        "id": "8EBq0Ax2xl_U",
        "colab_type": "code",
        "outputId": "1bdeab0b-1d40-483c-f6fb-aac289501ff6",
        "colab": {
          "base_uri": "https://localhost:8080/",
          "height": 34
        }
      },
      "source": [
        "from tmtoolkit.preprocess import TMPreproc\n",
        "preproc = TMPreproc (corpus)\n",
        "preproc.pos_tag()\n",
        "preproc.lemmatize()\n",
        "preproc.tokens_to_lowercase()\n",
        "preproc.remove_special_chars_in_tokens()\n",
        "preproc.add_stopwords(['http','nt'])"
      ],
      "execution_count": 0,
      "outputs": [
        {
          "output_type": "execute_result",
          "data": {
            "text/plain": [
              "<TMPreproc [2604 documents]>"
            ]
          },
          "metadata": {
            "tags": []
          },
          "execution_count": 27
        }
      ]
    },
    {
      "cell_type": "code",
      "metadata": {
        "id": "6096u_OSxpEL",
        "colab_type": "code",
        "outputId": "575a1b98-e7cc-4961-af9a-299b9df0c305",
        "colab": {
          "base_uri": "https://localhost:8080/",
          "height": 54
        }
      },
      "source": [
        "corpus['91']"
      ],
      "execution_count": 0,
      "outputs": [
        {
          "output_type": "execute_result",
          "data": {
            "text/plain": [
              "'Expecting mother includes late husband in maternity photo shoot Through the struggles and pains of losing a dear husband. Nicole Bennett has built courage to take maternity photos with her 4-year-old son. She added old photos of late husband Deonta  but they were slightly faded to appear as a spirit \\x92¢Î\\x97Î\\x94 a symbol of hope that he watches over them. She also did this as a memorial for her unborn daughter who is due March 25. We commend her for her boldness and we hope that she finds solace in these photos. #NicoleBernett #Maternityphotoswithlatehusband'"
            ]
          },
          "metadata": {
            "tags": []
          },
          "execution_count": 28
        }
      ]
    },
    {
      "cell_type": "code",
      "metadata": {
        "id": "R4p5u5LRxsj6",
        "colab_type": "code",
        "outputId": "a86b1f19-13d8-469f-988c-946c36346994",
        "colab": {
          "base_uri": "https://localhost:8080/",
          "height": 1000
        }
      },
      "source": [
        "preproc.tokens['91']"
      ],
      "execution_count": 0,
      "outputs": [
        {
          "output_type": "execute_result",
          "data": {
            "text/plain": [
              "['expecting',\n",
              " 'mother',\n",
              " 'include',\n",
              " 'late',\n",
              " 'husband',\n",
              " 'in',\n",
              " 'maternity',\n",
              " 'photo',\n",
              " 'shoot',\n",
              " 'through',\n",
              " 'the',\n",
              " 'struggle',\n",
              " 'and',\n",
              " 'pain',\n",
              " 'of',\n",
              " 'lose',\n",
              " 'a',\n",
              " 'dear',\n",
              " 'husband',\n",
              " '',\n",
              " 'nicole',\n",
              " 'bennett',\n",
              " 'have',\n",
              " 'build',\n",
              " 'courage',\n",
              " 'to',\n",
              " 'take',\n",
              " 'maternity',\n",
              " 'photo',\n",
              " 'with',\n",
              " 'her',\n",
              " '4yearold',\n",
              " 'son',\n",
              " '',\n",
              " 'she',\n",
              " 'add',\n",
              " 'old',\n",
              " 'photo',\n",
              " 'of',\n",
              " 'late',\n",
              " 'husband',\n",
              " 'deonta',\n",
              " 'but',\n",
              " 'they',\n",
              " 'be',\n",
              " 'slightly',\n",
              " 'fade',\n",
              " 'to',\n",
              " 'appear',\n",
              " 'as',\n",
              " 'a',\n",
              " 'spirit',\n",
              " '\\x92¢î\\x97î\\x94',\n",
              " 'a',\n",
              " 'symbol',\n",
              " 'of',\n",
              " 'hope',\n",
              " 'that',\n",
              " 'he',\n",
              " 'watch',\n",
              " 'over',\n",
              " 'them',\n",
              " '',\n",
              " 'she',\n",
              " 'also',\n",
              " 'do',\n",
              " 'this',\n",
              " 'as',\n",
              " 'a',\n",
              " 'memorial',\n",
              " 'for',\n",
              " 'her',\n",
              " 'unborn',\n",
              " 'daughter',\n",
              " 'who',\n",
              " 'be',\n",
              " 'due',\n",
              " 'march',\n",
              " '25',\n",
              " '',\n",
              " 'we',\n",
              " 'commend',\n",
              " 'her',\n",
              " 'for',\n",
              " 'her',\n",
              " 'boldness',\n",
              " 'and',\n",
              " 'we',\n",
              " 'hope',\n",
              " 'that',\n",
              " 'she',\n",
              " 'find',\n",
              " 'solace',\n",
              " 'in',\n",
              " 'these',\n",
              " 'photo',\n",
              " '',\n",
              " '',\n",
              " 'nicolebernett',\n",
              " '',\n",
              " 'maternityphotoswithlatehusband']"
            ]
          },
          "metadata": {
            "tags": []
          },
          "execution_count": 29
        }
      ]
    },
    {
      "cell_type": "code",
      "metadata": {
        "id": "ODYXCzPPxvcT",
        "colab_type": "code",
        "outputId": "1ad2dee6-4024-4159-9829-2f012d6823a1",
        "colab": {
          "base_uri": "https://localhost:8080/",
          "height": 34
        }
      },
      "source": [
        "preproc.vocabulary_size"
      ],
      "execution_count": 0,
      "outputs": [
        {
          "output_type": "execute_result",
          "data": {
            "text/plain": [
              "8952"
            ]
          },
          "metadata": {
            "tags": []
          },
          "execution_count": 30
        }
      ]
    },
    {
      "cell_type": "code",
      "metadata": {
        "id": "HAkXO9MhxzGC",
        "colab_type": "code",
        "colab": {}
      },
      "source": [
        "#preproc.stem()"
      ],
      "execution_count": 0,
      "outputs": []
    },
    {
      "cell_type": "code",
      "metadata": {
        "id": "7sRL91avx1Va",
        "colab_type": "code",
        "outputId": "542f43a2-7c40-442e-d4e1-9d4dc03e76f3",
        "colab": {
          "base_uri": "https://localhost:8080/",
          "height": 408
        }
      },
      "source": [
        "preproc.tokens_datatable"
      ],
      "execution_count": 0,
      "outputs": [
        {
          "output_type": "execute_result",
          "data": {
            "text/html": [
              "<div>\n",
              "<style scoped>\n",
              "    .dataframe tbody tr th:only-of-type {\n",
              "        vertical-align: middle;\n",
              "    }\n",
              "\n",
              "    .dataframe tbody tr th {\n",
              "        vertical-align: top;\n",
              "    }\n",
              "\n",
              "    .dataframe thead th {\n",
              "        text-align: right;\n",
              "    }\n",
              "</style>\n",
              "<table border=\"1\" class=\"dataframe\">\n",
              "  <thead>\n",
              "    <tr style=\"text-align: right;\">\n",
              "      <th></th>\n",
              "      <th>doc</th>\n",
              "      <th>position</th>\n",
              "      <th>token</th>\n",
              "      <th>meta_pos</th>\n",
              "    </tr>\n",
              "  </thead>\n",
              "  <tbody>\n",
              "    <tr>\n",
              "      <th>0</th>\n",
              "      <td>0</td>\n",
              "      <td>0</td>\n",
              "      <td>text</td>\n",
              "      <td>NN</td>\n",
              "    </tr>\n",
              "    <tr>\n",
              "      <th>0</th>\n",
              "      <td>1</td>\n",
              "      <td>0</td>\n",
              "      <td>god</td>\n",
              "      <td>NNP</td>\n",
              "    </tr>\n",
              "    <tr>\n",
              "      <th>1</th>\n",
              "      <td>1</td>\n",
              "      <td>1</td>\n",
              "      <td>bless</td>\n",
              "      <td>NNP</td>\n",
              "    </tr>\n",
              "    <tr>\n",
              "      <th>2</th>\n",
              "      <td>1</td>\n",
              "      <td>2</td>\n",
              "      <td>dixie</td>\n",
              "      <td>NNP</td>\n",
              "    </tr>\n",
              "    <tr>\n",
              "      <th>3</th>\n",
              "      <td>1</td>\n",
              "      <td>3</td>\n",
              "      <td></td>\n",
              "      <td>.</td>\n",
              "    </tr>\n",
              "    <tr>\n",
              "      <th>...</th>\n",
              "      <td>...</td>\n",
              "      <td>...</td>\n",
              "      <td>...</td>\n",
              "      <td>...</td>\n",
              "    </tr>\n",
              "    <tr>\n",
              "      <th>7</th>\n",
              "      <td>999</td>\n",
              "      <td>7</td>\n",
              "      <td>a</td>\n",
              "      <td>DT</td>\n",
              "    </tr>\n",
              "    <tr>\n",
              "      <th>8</th>\n",
              "      <td>999</td>\n",
              "      <td>8</td>\n",
              "      <td>black</td>\n",
              "      <td>JJ</td>\n",
              "    </tr>\n",
              "    <tr>\n",
              "      <th>9</th>\n",
              "      <td>999</td>\n",
              "      <td>9</td>\n",
              "      <td>tinker</td>\n",
              "      <td>NNP</td>\n",
              "    </tr>\n",
              "    <tr>\n",
              "      <th>10</th>\n",
              "      <td>999</td>\n",
              "      <td>10</td>\n",
              "      <td>bell</td>\n",
              "      <td>NNP</td>\n",
              "    </tr>\n",
              "    <tr>\n",
              "      <th>11</th>\n",
              "      <td>999</td>\n",
              "      <td>11</td>\n",
              "      <td></td>\n",
              "      <td>.</td>\n",
              "    </tr>\n",
              "  </tbody>\n",
              "</table>\n",
              "<p>124602 rows × 4 columns</p>\n",
              "</div>"
            ],
            "text/plain": [
              "    doc  position   token meta_pos\n",
              "0     0         0    text       NN\n",
              "0     1         0     god      NNP\n",
              "1     1         1   bless      NNP\n",
              "2     1         2   dixie      NNP\n",
              "3     1         3                .\n",
              "..  ...       ...     ...      ...\n",
              "7   999         7       a       DT\n",
              "8   999         8   black       JJ\n",
              "9   999         9  tinker      NNP\n",
              "10  999        10    bell      NNP\n",
              "11  999        11                .\n",
              "\n",
              "[124602 rows x 4 columns]"
            ]
          },
          "metadata": {
            "tags": []
          },
          "execution_count": 32
        }
      ]
    },
    {
      "cell_type": "code",
      "metadata": {
        "id": "eKbWmyWMx4WK",
        "colab_type": "code",
        "outputId": "84c6e79d-4400-44ac-881d-286fde89b0b7",
        "colab": {
          "base_uri": "https://localhost:8080/",
          "height": 52
        }
      },
      "source": [
        "preproc_smaller = preproc.copy()\n",
        "preproc_smaller.filter_for_pos('N')\n",
        "preproc_smaller.clean_tokens(remove_numbers=True, remove_shorter_than=2)\n",
        "preproc_smaller.remove_common_tokens(df_threshold=1)\n",
        "preproc_smaller.remove_uncommon_tokens(df_threshold= 0.005)\n",
        "print(preproc.vocabulary_size)\n",
        "print(preproc_smaller.vocabulary_size)"
      ],
      "execution_count": 0,
      "outputs": [
        {
          "output_type": "stream",
          "text": [
            "8952\n",
            "461\n"
          ],
          "name": "stdout"
        }
      ]
    },
    {
      "cell_type": "code",
      "metadata": {
        "id": "764HAeNyx7Sd",
        "colab_type": "code",
        "outputId": "c5d6271e-f630-4d1c-ab18-86a8319c7712",
        "colab": {
          "base_uri": "https://localhost:8080/",
          "height": 141
        }
      },
      "source": [
        "print(preproc.tokens['91'])\n",
        "print(preproc_smaller.tokens['91'])\n",
        "print(preproc.tokens['1'])\n",
        "print(preproc_smaller.tokens['1'])\n",
        "print(preproc.tokens['2000'])\n",
        "print(preproc_smaller.tokens['2000'])"
      ],
      "execution_count": 0,
      "outputs": [
        {
          "output_type": "stream",
          "text": [
            "['expecting', 'mother', 'include', 'late', 'husband', 'in', 'maternity', 'photo', 'shoot', 'through', 'the', 'struggle', 'and', 'pain', 'of', 'lose', 'a', 'dear', 'husband', '', 'nicole', 'bennett', 'have', 'build', 'courage', 'to', 'take', 'maternity', 'photo', 'with', 'her', '4yearold', 'son', '', 'she', 'add', 'old', 'photo', 'of', 'late', 'husband', 'deonta', 'but', 'they', 'be', 'slightly', 'fade', 'to', 'appear', 'as', 'a', 'spirit', '\\x92¢î\\x97î\\x94', 'a', 'symbol', 'of', 'hope', 'that', 'he', 'watch', 'over', 'them', '', 'she', 'also', 'do', 'this', 'as', 'a', 'memorial', 'for', 'her', 'unborn', 'daughter', 'who', 'be', 'due', 'march', '25', '', 'we', 'commend', 'her', 'for', 'her', 'boldness', 'and', 'we', 'hope', 'that', 'she', 'find', 'solace', 'in', 'these', 'photo', '', '', 'nicolebernett', '', 'maternityphotoswithlatehusband']\n",
            "['photo', 'struggle', 'photo', 'son', 'photo', 'march', 'photo']\n",
            "['god', 'bless', 'dixie', '', 'the', 'south', 'will', 'rise', 'again', '']\n",
            "['god', 'south']\n",
            "['the', 'head', 'of', 'chicago', 's', 'ipra', 'sharon', 'fairley', 'have', 'recommend', 'an', 'onduty', 'officer', 'to', 'be', 'fire', 'for', 'call', 'president', 'obama', 'a', 'nr', 'according', 'to', 'chicago', 'suntimes', 'the', 'racist', 'remark', 'be', 'make', 'during', 'a', 'meeting', 'to', 'decide', 'on', '', 'who', 'would', 'cover', 'the', 'president', 's', 'detail', 'for', 'a', 'bulls', 'game', '', '', 'the', 'independ', 'chicago', 'cop', 'to', 'be', 'fired', 'for', 'calling', 'obama', 'nword', 'i', 'black', 'matters', 'black', 'matters']\n",
            "['head', 'chicago', 'officer', 'president', 'obama', 'chicago', 'racist', 'president', 'chicago', 'cop', 'obama', 'matters', 'black', 'matters']\n"
          ],
          "name": "stdout"
        }
      ]
    },
    {
      "cell_type": "code",
      "metadata": {
        "id": "6R5KRRC1yVql",
        "colab_type": "code",
        "outputId": "c6c76685-4947-4a13-f2e1-590eb2d1c7fc",
        "colab": {
          "base_uri": "https://localhost:8080/",
          "height": 52
        }
      },
      "source": [
        "doc_labels = np.array(preproc.doc_labels)\n",
        "doc_labels[:10]"
      ],
      "execution_count": 0,
      "outputs": [
        {
          "output_type": "execute_result",
          "data": {
            "text/plain": [
              "array(['0', '1', '10', '100', '1000', '1001', '1002', '1003', '1004',\n",
              "       '1005'], dtype='<U4')"
            ]
          },
          "metadata": {
            "tags": []
          },
          "execution_count": 35
        }
      ]
    },
    {
      "cell_type": "code",
      "metadata": {
        "id": "hXk7pThDzb1T",
        "colab_type": "code",
        "colab": {}
      },
      "source": [
        "vocab_bg = np.array(preproc.vocabulary)\n",
        "vocab_sm = np.array(preproc_smaller.vocabulary)"
      ],
      "execution_count": 0,
      "outputs": []
    },
    {
      "cell_type": "code",
      "metadata": {
        "id": "-lGDyPDXzmhJ",
        "colab_type": "code",
        "outputId": "4d505e75-eb14-4840-c556-13622cdeaa17",
        "colab": {
          "base_uri": "https://localhost:8080/",
          "height": 86
        }
      },
      "source": [
        "dtm_bg = preproc.dtm\n",
        "dtm_sm = preproc_smaller.dtm\n",
        "\n",
        "dtm_bg,dtm_sm"
      ],
      "execution_count": 0,
      "outputs": [
        {
          "output_type": "execute_result",
          "data": {
            "text/plain": [
              "(<2604x8952 sparse matrix of type '<class 'numpy.int32'>'\n",
              " \twith 82123 stored elements in Compressed Sparse Row format>,\n",
              " <2604x461 sparse matrix of type '<class 'numpy.int32'>'\n",
              " \twith 17331 stored elements in Compressed Sparse Row format>)"
            ]
          },
          "metadata": {
            "tags": []
          },
          "execution_count": 37
        }
      ]
    },
    {
      "cell_type": "markdown",
      "metadata": {
        "id": "FQP6MDHmaSWi",
        "colab_type": "text"
      },
      "source": [
        "# Creating Models"
      ]
    },
    {
      "cell_type": "code",
      "metadata": {
        "id": "OB_Pc7vqaVV4",
        "colab_type": "code",
        "outputId": "49f39608-705f-4f1f-94c7-47ee552c3ca0",
        "colab": {
          "base_uri": "https://localhost:8080/",
          "height": 607
        }
      },
      "source": [
        "!pip install tmtoolkit['lda']\n",
        "\n",
        "import logging\n",
        "import warnings\n",
        "from tmtoolkit.topicmod.tm_lda import compute_models_parallel\n",
        "\n",
        "logger = logging.getLogger('lda')\n",
        "logger.addHandler(logging.NullHandler())\n",
        "logger.propagate = False\n",
        "\n",
        "warnings.filterwarnings('ignore')\n",
        "\n",
        "#set data to use\n",
        "dtms = {\n",
        "    'bigger': dtm_bg,\n",
        "    'smaller':dtm_sm\n",
        "}\n",
        "\n",
        "#and fixed hyperparameters\n",
        "lda_params = {\n",
        "    'n_topics': 10,\n",
        "    'eta': .01,\n",
        "    'n_iter': 1000,\n",
        "    'random_state': 20191122  #to make results reproducible\n",
        "}\n",
        "\n",
        "models = compute_models_parallel(dtms,constant_parameters = lda_params)\n",
        "models"
      ],
      "execution_count": 0,
      "outputs": [
        {
          "output_type": "stream",
          "text": [
            "Requirement already satisfied: tmtoolkit[lda] in /usr/local/lib/python3.6/dist-packages (0.9.0)\n",
            "Requirement already satisfied: germalemma>=0.1.3 in /usr/local/lib/python3.6/dist-packages (from tmtoolkit[lda]) (0.1.3)\n",
            "Requirement already satisfied: deprecation>=2.0.0 in /usr/local/lib/python3.6/dist-packages (from tmtoolkit[lda]) (2.0.7)\n",
            "Requirement already satisfied: matplotlib>=3.1.0 in /usr/local/lib/python3.6/dist-packages (from tmtoolkit[lda]) (3.1.2)\n",
            "Requirement already satisfied: scipy>=1.3.0 in /usr/local/lib/python3.6/dist-packages (from tmtoolkit[lda]) (1.4.1)\n",
            "Requirement already satisfied: nltk>=3.4.0 in /usr/local/lib/python3.6/dist-packages (from tmtoolkit[lda]) (3.4.5)\n",
            "Requirement already satisfied: numpy>=1.17.0 in /usr/local/lib/python3.6/dist-packages (from tmtoolkit[lda]) (1.17.5)\n",
            "Requirement already satisfied: xlrd>=1.2.0 in /usr/local/lib/python3.6/dist-packages (from tmtoolkit[lda]) (1.2.0)\n",
            "Requirement already satisfied: pandas>=0.25.0 in /usr/local/lib/python3.6/dist-packages (from tmtoolkit[lda]) (0.25.3)\n",
            "Requirement already satisfied: globre>=0.1.5 in /usr/local/lib/python3.6/dist-packages (from tmtoolkit[lda]) (0.1.5)\n",
            "Requirement already satisfied: lda>=1.1.0; extra == \"lda\" in /usr/local/lib/python3.6/dist-packages (from tmtoolkit[lda]) (1.1.0)\n",
            "Requirement already satisfied: Pyphen>=0.9.5 in /usr/local/lib/python3.6/dist-packages (from germalemma>=0.1.3->tmtoolkit[lda]) (0.9.5)\n",
            "Requirement already satisfied: PatternLite>=3.6 in /usr/local/lib/python3.6/dist-packages (from germalemma>=0.1.3->tmtoolkit[lda]) (3.6)\n",
            "Requirement already satisfied: packaging in /usr/local/lib/python3.6/dist-packages (from deprecation>=2.0.0->tmtoolkit[lda]) (20.0)\n",
            "Requirement already satisfied: kiwisolver>=1.0.1 in /usr/local/lib/python3.6/dist-packages (from matplotlib>=3.1.0->tmtoolkit[lda]) (1.1.0)\n",
            "Requirement already satisfied: python-dateutil>=2.1 in /usr/local/lib/python3.6/dist-packages (from matplotlib>=3.1.0->tmtoolkit[lda]) (2.6.1)\n",
            "Requirement already satisfied: cycler>=0.10 in /usr/local/lib/python3.6/dist-packages (from matplotlib>=3.1.0->tmtoolkit[lda]) (0.10.0)\n",
            "Requirement already satisfied: pyparsing!=2.0.4,!=2.1.2,!=2.1.6,>=2.0.1 in /usr/local/lib/python3.6/dist-packages (from matplotlib>=3.1.0->tmtoolkit[lda]) (2.4.6)\n",
            "Requirement already satisfied: six in /usr/local/lib/python3.6/dist-packages (from nltk>=3.4.0->tmtoolkit[lda]) (1.12.0)\n",
            "Requirement already satisfied: pytz>=2017.2 in /usr/local/lib/python3.6/dist-packages (from pandas>=0.25.0->tmtoolkit[lda]) (2018.9)\n",
            "Requirement already satisfied: pbr<4,>=0.6 in /usr/local/lib/python3.6/dist-packages (from lda>=1.1.0; extra == \"lda\"->tmtoolkit[lda]) (3.1.1)\n",
            "Requirement already satisfied: setuptools in /usr/local/lib/python3.6/dist-packages (from kiwisolver>=1.0.1->matplotlib>=3.1.0->tmtoolkit[lda]) (42.0.2)\n"
          ],
          "name": "stdout"
        },
        {
          "output_type": "execute_result",
          "data": {
            "text/plain": [
              "defaultdict(list,\n",
              "            {'bigger': [({'eta': 0.01,\n",
              "                'n_iter': 1000,\n",
              "                'n_topics': 10,\n",
              "                'random_state': 20191122},\n",
              "               <lda.lda.LDA at 0x7f17ee16f518>)],\n",
              "             'smaller': [({'eta': 0.01,\n",
              "                'n_iter': 1000,\n",
              "                'n_topics': 10,\n",
              "                'random_state': 20191122},\n",
              "               <lda.lda.LDA at 0x7f17ee16f438>)]})"
            ]
          },
          "metadata": {
            "tags": []
          },
          "execution_count": 52
        }
      ]
    },
    {
      "cell_type": "code",
      "metadata": {
        "id": "HEkHkjckef8N",
        "colab_type": "code",
        "outputId": "522ece40-a1bc-4ff6-f59c-4d2ff5dece6e",
        "colab": {
          "base_uri": "https://localhost:8080/",
          "height": 708
        }
      },
      "source": [
        "from tmtoolkit.topicmod.model_io import print_ldamodel_topic_words\n",
        "\n",
        "model_sm = models['smaller'][0][1]\n",
        "print_ldamodel_topic_words(model_sm.topic_word_,vocab_sm,top_n=3)\n"
      ],
      "execution_count": 0,
      "outputs": [
        {
          "output_type": "stream",
          "text": [
            "topic_1\n",
            "> #1. black (0.090226)\n",
            "> #2. blackmattersuscom (0.071531)\n",
            "> #3. school (0.060152)\n",
            "topic_2\n",
            "> #1. police (0.154914)\n",
            "> #2. officer (0.074458)\n",
            "> #3. cop (0.049913)\n",
            "topic_3\n",
            "> #1. black (0.183817)\n",
            "> #2. community (0.070625)\n",
            "> #3. matters (0.044080)\n",
            "topic_4\n",
            "> #1. black (0.053818)\n",
            "> #2. education (0.044972)\n",
            "> #3. african (0.042024)\n",
            "topic_5\n",
            "> #1. news (0.048623)\n",
            "> #2. join (0.045892)\n",
            "> #3. us (0.043160)\n",
            "topic_6\n",
            "> #1. friend (0.096478)\n",
            "> #2. event (0.093584)\n",
            "> #3. class (0.075255)\n",
            "topic_7\n",
            "> #1. follow (0.048309)\n",
            "> #2. gun (0.044955)\n",
            "> #3. facebook (0.041600)\n",
            "topic_8\n",
            "> #1. stop (0.121516)\n",
            "> #2. music (0.068863)\n",
            "> #3. facemusic (0.043550)\n",
            "topic_9\n",
            "> #1. america (0.041874)\n",
            "> #2. country (0.031124)\n",
            "> #3. us (0.027446)\n",
            "topic_10\n",
            "> #1. people (0.042159)\n",
            "> #2. right (0.023854)\n",
            "> #3. woman (0.020804)\n"
          ],
          "name": "stdout"
        }
      ]
    },
    {
      "cell_type": "code",
      "metadata": {
        "id": "N5AIlYYZguwr",
        "colab_type": "code",
        "outputId": "39f512bf-2eca-4184-cdd3-b713798a51c5",
        "colab": {
          "base_uri": "https://localhost:8080/",
          "height": 708
        }
      },
      "source": [
        "model_bg = models['bigger'][0][1]\n",
        "print_ldamodel_topic_words(model_bg.topic_word_,vocab_bg,top_n=3)"
      ],
      "execution_count": 0,
      "outputs": [
        {
          "output_type": "stream",
          "text": [
            "topic_1\n",
            "> #1.  (0.158703)\n",
            "> #2. the (0.040751)\n",
            "> #3. of (0.021191)\n",
            "topic_2\n",
            "> #1.  (0.106764)\n",
            "> #2. be (0.040688)\n",
            "> #3. to (0.034150)\n",
            "topic_3\n",
            "> #1.  (0.356497)\n",
            "> #2. black (0.021739)\n",
            "> #3. and (0.014026)\n",
            "topic_4\n",
            "> #1.  (0.119898)\n",
            "> #2. your (0.039702)\n",
            "> #3. the (0.031762)\n",
            "topic_5\n",
            "> #1. the (0.051518)\n",
            "> #2.  (0.049605)\n",
            "> #3. be (0.038735)\n",
            "topic_6\n",
            "> #1. the (0.072030)\n",
            "> #2.  (0.040412)\n",
            "> #3. of (0.032465)\n",
            "topic_7\n",
            "> #1.  (0.085825)\n",
            "> #2. the (0.052001)\n",
            "> #3. be (0.034214)\n",
            "topic_8\n",
            "> #1. black (0.074694)\n",
            "> #2.  (0.038259)\n",
            "> #3. of (0.034936)\n",
            "topic_9\n",
            "> #1.  (0.128887)\n",
            "> #2. she (0.043342)\n",
            "> #3. her (0.040583)\n",
            "topic_10\n",
            "> #1.  (0.063611)\n",
            "> #2. the (0.049448)\n",
            "> #3. a (0.036496)\n"
          ],
          "name": "stdout"
        }
      ]
    },
    {
      "cell_type": "markdown",
      "metadata": {
        "id": "KK-1qTippy7W",
        "colab_type": "text"
      },
      "source": [
        "# Eval"
      ]
    },
    {
      "cell_type": "code",
      "metadata": {
        "id": "bLHDy1fsp1cZ",
        "colab_type": "code",
        "outputId": "6cac1468-9ae5-43e1-8478-4f09a789a6c8",
        "colab": {
          "base_uri": "https://localhost:8080/",
          "height": 72
        }
      },
      "source": [
        "const_params = {'n_iter': 1000 , 'eta': 0.1, 'random_state':20191122}\n",
        "ks = list(range(1,302,20))\n",
        "print(ks)\n",
        "varying_params = [dict(n_topics = k, alpha = 1/k) for k in ks]\n",
        "print(varying_params)"
      ],
      "execution_count": 0,
      "outputs": [
        {
          "output_type": "stream",
          "text": [
            "[1, 21, 41, 61, 81, 101, 121, 141, 161, 181, 201, 221, 241, 261, 281, 301]\n",
            "[{'n_topics': 1, 'alpha': 1.0}, {'n_topics': 21, 'alpha': 0.047619047619047616}, {'n_topics': 41, 'alpha': 0.024390243902439025}, {'n_topics': 61, 'alpha': 0.01639344262295082}, {'n_topics': 81, 'alpha': 0.012345679012345678}, {'n_topics': 101, 'alpha': 0.009900990099009901}, {'n_topics': 121, 'alpha': 0.008264462809917356}, {'n_topics': 141, 'alpha': 0.0070921985815602835}, {'n_topics': 161, 'alpha': 0.006211180124223602}, {'n_topics': 181, 'alpha': 0.0055248618784530384}, {'n_topics': 201, 'alpha': 0.004975124378109453}, {'n_topics': 221, 'alpha': 0.004524886877828055}, {'n_topics': 241, 'alpha': 0.004149377593360996}, {'n_topics': 261, 'alpha': 0.0038314176245210726}, {'n_topics': 281, 'alpha': 0.0035587188612099642}, {'n_topics': 301, 'alpha': 0.0033222591362126247}]\n"
          ],
          "name": "stdout"
        }
      ]
    },
    {
      "cell_type": "code",
      "metadata": {
        "id": "d34nb6Oas2KD",
        "colab_type": "code",
        "colab": {}
      },
      "source": [
        "from tmtoolkit.topicmod import tm_lda\n",
        "eval_results = tm_lda.evaluate_topic_models(dtm_sm,\n",
        "    varying_params,\n",
        "    const_params)"
      ],
      "execution_count": 0,
      "outputs": []
    },
    {
      "cell_type": "code",
      "metadata": {
        "id": "FAu306xwvXoR",
        "colab_type": "code",
        "outputId": "f92175c8-84ab-4e49-8b21-b9ccaa73a782",
        "colab": {
          "base_uri": "https://localhost:8080/",
          "height": 54
        }
      },
      "source": [
        "from tmtoolkit.topicmod.evaluate import results_by_parameter\n",
        "from tmtoolkit.topicmod.visualize import plot_eval_results\n",
        "\n",
        "results_by_n_topics = results_by_parameter(eval_results, 'n_topics')\n",
        "print(results_by_n_topics)"
      ],
      "execution_count": 0,
      "outputs": [
        {
          "output_type": "stream",
          "text": [
            "[(1, {'cao_juan_2009': nan, 'arun_2010': 195.85571915038244, 'coherence_mimno_2011': -2.872070971523358}), (21, {'cao_juan_2009': 0.11532824096416645, 'arun_2010': 67.45204297151179, 'coherence_mimno_2011': -6.210479249509854}), (41, {'cao_juan_2009': 0.1003572731973669, 'arun_2010': 42.03365692915076, 'coherence_mimno_2011': -6.3592114464448475}), (61, {'cao_juan_2009': 0.09101002405001977, 'arun_2010': 26.647563141563378, 'coherence_mimno_2011': -7.359480057552424}), (81, {'cao_juan_2009': 0.09199980578118676, 'arun_2010': 24.09424091663515, 'coherence_mimno_2011': -7.49367998851708}), (101, {'cao_juan_2009': 0.09230789980387545, 'arun_2010': 21.17048442351652, 'coherence_mimno_2011': -8.030826146195196}), (121, {'cao_juan_2009': 0.08889703035396396, 'arun_2010': 18.751269278372106, 'coherence_mimno_2011': -8.564055765116303}), (141, {'cao_juan_2009': 0.09435894881519594, 'arun_2010': 21.90921240438085, 'coherence_mimno_2011': -8.750741795657552}), (161, {'cao_juan_2009': 0.09863161642991938, 'arun_2010': 21.92359054674086, 'coherence_mimno_2011': -8.643200045166406}), (181, {'cao_juan_2009': 0.10169045136991854, 'arun_2010': 27.01255086899491, 'coherence_mimno_2011': -9.865815944286956}), (201, {'cao_juan_2009': 0.10720206632517115, 'arun_2010': 29.246941697192632, 'coherence_mimno_2011': -10.147982021687888}), (221, {'cao_juan_2009': 0.11757467474139208, 'arun_2010': 32.736717759131814, 'coherence_mimno_2011': -10.574709285025904}), (241, {'cao_juan_2009': 0.12451814555604637, 'arun_2010': 36.4676109050782, 'coherence_mimno_2011': -11.060979971742395}), (261, {'cao_juan_2009': 0.13435287544609834, 'arun_2010': 39.85374858536805, 'coherence_mimno_2011': -11.622640427105255}), (281, {'cao_juan_2009': 0.1410210023184501, 'arun_2010': 41.17460947853748, 'coherence_mimno_2011': -11.699254562600354}), (301, {'cao_juan_2009': 0.15259953740697105, 'arun_2010': 54.3492726341373, 'coherence_mimno_2011': -12.354936684090712})]\n"
          ],
          "name": "stdout"
        }
      ]
    },
    {
      "cell_type": "code",
      "metadata": {
        "id": "T6P-sYxjwpB9",
        "colab_type": "code",
        "outputId": "bef0095a-1591-472e-9c01-fb9f06eefd82",
        "colab": {
          "base_uri": "https://localhost:8080/",
          "height": 476
        }
      },
      "source": [
        "plot_eval_results(results_by_n_topics)"
      ],
      "execution_count": 0,
      "outputs": [
        {
          "output_type": "execute_result",
          "data": {
            "text/plain": [
              "(<Figure size 576x432 with 3 Axes>,\n",
              " array([<matplotlib.axes._subplots.AxesSubplot object at 0x7f17edfc6438>,\n",
              "        <matplotlib.axes._subplots.AxesSubplot object at 0x7f17ede820b8>,\n",
              "        <matplotlib.axes._subplots.AxesSubplot object at 0x7f17e7770e80>],\n",
              "       dtype=object))"
            ]
          },
          "metadata": {
            "tags": []
          },
          "execution_count": 60
        },
        {
          "output_type": "display_data",
          "data": {
            "image/png": "[encoded data removed]",
            "text/plain": [
              "<Figure size 576x432 with 3 Axes>"
            ]
          },
          "metadata": {
            "tags": []
          }
        }
      ]
    },
    {
      "cell_type": "markdown",
      "metadata": {
        "colab_type": "text",
        "id": "_1QcPj1lzUbV"
      },
      "source": [
        "# Eval (lower beta)"
      ]
    },
    {
      "cell_type": "code",
      "metadata": {
        "colab_type": "code",
        "outputId": "baf44380-92c8-4d5b-a271-2e04f13bdcdd",
        "id": "AQ1QOKV2zUbc",
        "colab": {
          "base_uri": "https://localhost:8080/",
          "height": 72
        }
      },
      "source": [
        "const_params = {'n_iter': 1000 , 'eta': 0.05, 'random_state':20191122}\n",
        "ks = list(range(1,302,20))\n",
        "print(ks)\n",
        "varying_params = [dict(n_topics = k, alpha = 1/k) for k in ks]\n",
        "print(varying_params)"
      ],
      "execution_count": 0,
      "outputs": [
        {
          "output_type": "stream",
          "text": [
            "[1, 21, 41, 61, 81, 101, 121, 141, 161, 181, 201, 221, 241, 261, 281, 301]\n",
            "[{'n_topics': 1, 'alpha': 1.0}, {'n_topics': 21, 'alpha': 0.047619047619047616}, {'n_topics': 41, 'alpha': 0.024390243902439025}, {'n_topics': 61, 'alpha': 0.01639344262295082}, {'n_topics': 81, 'alpha': 0.012345679012345678}, {'n_topics': 101, 'alpha': 0.009900990099009901}, {'n_topics': 121, 'alpha': 0.008264462809917356}, {'n_topics': 141, 'alpha': 0.0070921985815602835}, {'n_topics': 161, 'alpha': 0.006211180124223602}, {'n_topics': 181, 'alpha': 0.0055248618784530384}, {'n_topics': 201, 'alpha': 0.004975124378109453}, {'n_topics': 221, 'alpha': 0.004524886877828055}, {'n_topics': 241, 'alpha': 0.004149377593360996}, {'n_topics': 261, 'alpha': 0.0038314176245210726}, {'n_topics': 281, 'alpha': 0.0035587188612099642}, {'n_topics': 301, 'alpha': 0.0033222591362126247}]\n"
          ],
          "name": "stdout"
        }
      ]
    },
    {
      "cell_type": "code",
      "metadata": {
        "colab_type": "code",
        "id": "S9p6GmCOzUbk",
        "colab": {}
      },
      "source": [
        "from tmtoolkit.topicmod import tm_lda\n",
        "eval_results = tm_lda.evaluate_topic_models(dtm_sm,\n",
        "    varying_params,\n",
        "    const_params)"
      ],
      "execution_count": 0,
      "outputs": []
    },
    {
      "cell_type": "code",
      "metadata": {
        "colab_type": "code",
        "outputId": "a486e009-5f98-48af-a3b5-82dfba83b8c5",
        "id": "Of5CUHJqzUbs",
        "colab": {
          "base_uri": "https://localhost:8080/",
          "height": 54
        }
      },
      "source": [
        "from tmtoolkit.topicmod.evaluate import results_by_parameter\n",
        "from tmtoolkit.topicmod.visualize import plot_eval_results\n",
        "\n",
        "results_by_n_topics = results_by_parameter(eval_results, 'n_topics')\n",
        "print(results_by_n_topics)"
      ],
      "execution_count": 0,
      "outputs": [
        {
          "output_type": "stream",
          "text": [
            "[(1, {'cao_juan_2009': nan, 'arun_2010': 195.83378655062901, 'coherence_mimno_2011': -2.872070971523358}), (21, {'cao_juan_2009': 0.10120229493783832, 'arun_2010': 65.52108719666386, 'coherence_mimno_2011': -6.150380165424589}), (41, {'cao_juan_2009': 0.08524068259727523, 'arun_2010': 36.54945168406013, 'coherence_mimno_2011': -6.708460826586492}), (61, {'cao_juan_2009': 0.08073547859851322, 'arun_2010': 23.720558440870008, 'coherence_mimno_2011': -7.204316574583625}), (81, {'cao_juan_2009': 0.07299788362635451, 'arun_2010': 18.84242088110578, 'coherence_mimno_2011': -7.472129405070475}), (101, {'cao_juan_2009': 0.07292425868221611, 'arun_2010': 18.01721123171569, 'coherence_mimno_2011': -8.062894617452846}), (121, {'cao_juan_2009': 0.06863939322391713, 'arun_2010': 17.179931656865264, 'coherence_mimno_2011': -8.451583005328109}), (141, {'cao_juan_2009': 0.06924991684076702, 'arun_2010': 18.461764706095984, 'coherence_mimno_2011': -8.904119098856217}), (161, {'cao_juan_2009': 0.07074458353981894, 'arun_2010': 21.401386796789804, 'coherence_mimno_2011': -9.129985825581016}), (181, {'cao_juan_2009': 0.06891939522593812, 'arun_2010': 21.48134424850417, 'coherence_mimno_2011': -9.445784134366766}), (201, {'cao_juan_2009': 0.06674020229622812, 'arun_2010': 27.186659743947995, 'coherence_mimno_2011': -9.89574362147968}), (221, {'cao_juan_2009': 0.06684398547655894, 'arun_2010': 27.66299748977898, 'coherence_mimno_2011': -10.46878416753298}), (241, {'cao_juan_2009': 0.06710104722673622, 'arun_2010': 40.843784456465514, 'coherence_mimno_2011': -10.85151065509913}), (261, {'cao_juan_2009': 0.06827124117400075, 'arun_2010': 47.40090990124106, 'coherence_mimno_2011': -11.046883500063412}), (281, {'cao_juan_2009': 0.07067133515024768, 'arun_2010': 48.97518185351397, 'coherence_mimno_2011': -11.369556935447623}), (301, {'cao_juan_2009': 0.07292936616324712, 'arun_2010': 58.96725221859985, 'coherence_mimno_2011': -11.853781932092637})]\n"
          ],
          "name": "stdout"
        }
      ]
    },
    {
      "cell_type": "code",
      "metadata": {
        "colab_type": "code",
        "outputId": "f5368135-1b15-4942-af7b-4d12ac34884d",
        "id": "5EUbhHzEzUbz",
        "colab": {
          "base_uri": "https://localhost:8080/",
          "height": 476
        }
      },
      "source": [
        "plot_eval_results(results_by_n_topics)"
      ],
      "execution_count": 0,
      "outputs": [
        {
          "output_type": "execute_result",
          "data": {
            "text/plain": [
              "(<Figure size 576x432 with 3 Axes>,\n",
              " array([<matplotlib.axes._subplots.AxesSubplot object at 0x7f17e85864e0>,\n",
              "        <matplotlib.axes._subplots.AxesSubplot object at 0x7f17e7729a58>,\n",
              "        <matplotlib.axes._subplots.AxesSubplot object at 0x7f17e7ef2c88>],\n",
              "       dtype=object))"
            ]
          },
          "metadata": {
            "tags": []
          },
          "execution_count": 64
        },
        {
          "output_type": "display_data",
          "data": {
            "image/png": "[encoded data removed]",
            "text/plain": [
              "<Figure size 576x432 with 3 Axes>"
            ]
          },
          "metadata": {
            "tags": []
          }
        }
      ]
    },
    {
      "cell_type": "markdown",
      "metadata": {
        "colab_type": "text",
        "id": "iLbEUPKoz6u2"
      },
      "source": [
        "# Eval (lower alpha)"
      ]
    },
    {
      "cell_type": "code",
      "metadata": {
        "colab_type": "code",
        "outputId": "37b6626f-8c4c-4e58-f950-7e6ac1f170d9",
        "id": "wlkBofm-z6u8",
        "colab": {
          "base_uri": "https://localhost:8080/",
          "height": 72
        }
      },
      "source": [
        "const_params = {'n_iter': 1000 , 'eta': 0.1, 'random_state':20191122}\n",
        "ks = list(range(1,302,20))\n",
        "print(ks)\n",
        "varying_params = [dict(n_topics = k, alpha = 1/(10*k)) for k in ks]\n",
        "print(varying_params)"
      ],
      "execution_count": 0,
      "outputs": [
        {
          "output_type": "stream",
          "text": [
            "[1, 21, 41, 61, 81, 101, 121, 141, 161, 181, 201, 221, 241, 261, 281, 301]\n",
            "[{'n_topics': 1, 'alpha': 0.1}, {'n_topics': 21, 'alpha': 0.004761904761904762}, {'n_topics': 41, 'alpha': 0.0024390243902439024}, {'n_topics': 61, 'alpha': 0.001639344262295082}, {'n_topics': 81, 'alpha': 0.0012345679012345679}, {'n_topics': 101, 'alpha': 0.0009900990099009901}, {'n_topics': 121, 'alpha': 0.0008264462809917355}, {'n_topics': 141, 'alpha': 0.0007092198581560284}, {'n_topics': 161, 'alpha': 0.0006211180124223603}, {'n_topics': 181, 'alpha': 0.0005524861878453039}, {'n_topics': 201, 'alpha': 0.0004975124378109452}, {'n_topics': 221, 'alpha': 0.00045248868778280545}, {'n_topics': 241, 'alpha': 0.0004149377593360996}, {'n_topics': 261, 'alpha': 0.0003831417624521073}, {'n_topics': 281, 'alpha': 0.00035587188612099647}, {'n_topics': 301, 'alpha': 0.0003322259136212625}]\n"
          ],
          "name": "stdout"
        }
      ]
    },
    {
      "cell_type": "code",
      "metadata": {
        "colab_type": "code",
        "id": "Gdf35v9Bz6vT",
        "colab": {}
      },
      "source": [
        "from tmtoolkit.topicmod import tm_lda\n",
        "eval_results = tm_lda.evaluate_topic_models(dtm_sm,\n",
        "    varying_params,\n",
        "    const_params)"
      ],
      "execution_count": 0,
      "outputs": []
    },
    {
      "cell_type": "code",
      "metadata": {
        "colab_type": "code",
        "outputId": "f6593ffd-9208-4080-d1b4-fe993de4f348",
        "id": "IrZPMHdkz6ve",
        "colab": {
          "base_uri": "https://localhost:8080/",
          "height": 54
        }
      },
      "source": [
        "from tmtoolkit.topicmod.evaluate import results_by_parameter\n",
        "from tmtoolkit.topicmod.visualize import plot_eval_results\n",
        "\n",
        "results_by_n_topics = results_by_parameter(eval_results, 'n_topics')\n",
        "print(results_by_n_topics)"
      ],
      "execution_count": 0,
      "outputs": [
        {
          "output_type": "stream",
          "text": [
            "[(1, {'cao_juan_2009': nan, 'arun_2010': 195.85571915038244, 'coherence_mimno_2011': -2.872070971523358}), (21, {'cao_juan_2009': 0.1723091000015026, 'arun_2010': 74.9652577294188, 'coherence_mimno_2011': -6.143109710654438}), (41, {'cao_juan_2009': 0.1504335043271538, 'arun_2010': 47.08798510633182, 'coherence_mimno_2011': -6.097165089038279}), (61, {'cao_juan_2009': 0.14718307973374414, 'arun_2010': 37.91970639170381, 'coherence_mimno_2011': -6.555004674168973}), (81, {'cao_juan_2009': 0.13858647256314102, 'arun_2010': 32.080978526227476, 'coherence_mimno_2011': -7.134059438619366}), (101, {'cao_juan_2009': 0.1314509802694541, 'arun_2010': 26.629846778068888, 'coherence_mimno_2011': -7.130216250034337}), (121, {'cao_juan_2009': 0.12755985577071868, 'arun_2010': 23.84594824967736, 'coherence_mimno_2011': -7.069572543784393}), (141, {'cao_juan_2009': 0.13069356958928063, 'arun_2010': 25.26071251636654, 'coherence_mimno_2011': -7.820150194743159}), (161, {'cao_juan_2009': 0.13196796177701026, 'arun_2010': 25.19941293583749, 'coherence_mimno_2011': -7.8281050210346015}), (181, {'cao_juan_2009': 0.13142303022966603, 'arun_2010': 31.616457999758115, 'coherence_mimno_2011': -8.777772733884074}), (201, {'cao_juan_2009': 0.13779051812619317, 'arun_2010': 29.5510780079484, 'coherence_mimno_2011': -8.579079887137077}), (221, {'cao_juan_2009': 0.13722747509478972, 'arun_2010': 32.481492099412506, 'coherence_mimno_2011': -9.066428933926945}), (241, {'cao_juan_2009': 0.1386538451731092, 'arun_2010': 30.430638855518445, 'coherence_mimno_2011': -9.124673925839623}), (261, {'cao_juan_2009': 0.15008461283692104, 'arun_2010': 41.92750532990257, 'coherence_mimno_2011': -10.092263916390412}), (281, {'cao_juan_2009': 0.16176212060880796, 'arun_2010': 63.12022124515602, 'coherence_mimno_2011': -10.175212713053343}), (301, {'cao_juan_2009': 0.16996384726389469, 'arun_2010': 51.71342891929088, 'coherence_mimno_2011': -10.710168510508653})]\n"
          ],
          "name": "stdout"
        }
      ]
    },
    {
      "cell_type": "code",
      "metadata": {
        "colab_type": "code",
        "outputId": "5c0e8084-903d-4b17-9961-4da14ac83456",
        "id": "LCAi3qRjz6vk",
        "colab": {
          "base_uri": "https://localhost:8080/",
          "height": 476
        }
      },
      "source": [
        "plot_eval_results(results_by_n_topics)"
      ],
      "execution_count": 0,
      "outputs": [
        {
          "output_type": "execute_result",
          "data": {
            "text/plain": [
              "(<Figure size 576x432 with 3 Axes>,\n",
              " array([<matplotlib.axes._subplots.AxesSubplot object at 0x7f17e7e83898>,\n",
              "        <matplotlib.axes._subplots.AxesSubplot object at 0x7f17ee25e278>,\n",
              "        <matplotlib.axes._subplots.AxesSubplot object at 0x7f17ee2b0eb8>],\n",
              "       dtype=object))"
            ]
          },
          "metadata": {
            "tags": []
          },
          "execution_count": 68
        },
        {
          "output_type": "display_data",
          "data": {
            "image/png": "[encoded data removed]",
            "text/plain": [
              "<Figure size 576x432 with 3 Axes>"
            ]
          },
          "metadata": {
            "tags": []
          }
        }
      ]
    }
  ]
}