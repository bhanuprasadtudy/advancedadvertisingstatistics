{
  "nbformat": 4,
  "nbformat_minor": 0,
  "metadata": {
    "colab": {
      "name": "Merging ad spend data & Google Trends data.ipynb",
      "provenance": [],
      "include_colab_link": true
    },
    "kernelspec": {
      "name": "python3",
      "display_name": "Python 3"
    }
  },
  "cells": [
    {
      "cell_type": "markdown",
      "metadata": {
        "id": "view-in-github",
        "colab_type": "text"
      },
      "source": [
        "<a href=\"https://colab.research.google.com/github/bhanuprasadtudy/advancedadvertisingstatistics/blob/master/Merging_ad_spend_data_%26_Google_Trends_data.ipynb\" target=\"_parent\"><img src=\"https://colab.research.google.com/assets/colab-badge.svg\" alt=\"Open In Colab\"/></a>"
      ]
    },
    {
      "cell_type": "markdown",
      "metadata": {
        "id": "7KvodzQv9Hi5",
        "colab_type": "text"
      },
      "source": [
        "# Loading and Resample data"
      ]
    },
    {
      "cell_type": "code",
      "metadata": {
        "id": "N75Qmda4ETYB",
        "colab_type": "code",
        "colab": {}
      },
      "source": [
        "import pandas as pd"
      ],
      "execution_count": 0,
      "outputs": []
    },
    {
      "cell_type": "code",
      "metadata": {
        "id": "otSi2mx47RcZ",
        "colab_type": "code",
        "outputId": "70097860-a306-4840-e2ff-2b44ccb96e0d",
        "colab": {
          "base_uri": "https://localhost:8080/",
          "height": 124
        }
      },
      "source": [
        "from google.colab import drive\n",
        "drive.mount('/content/drive')"
      ],
      "execution_count": 0,
      "outputs": [
        {
          "output_type": "stream",
          "text": [
            "Go to this URL in a browser: https://accounts.google.com/o/oauth2/auth?client_id=947318989803-6bn6qk8qdgf4n4g3pfee6491hc0brc4i.apps.googleusercontent.com&redirect_uri=urn%3aietf%3awg%3aoauth%3a2.0%3aoob&response_type=code&scope=email%20https%3a%2f%2fwww.googleapis.com%2fauth%2fdocs.test%20https%3a%2f%2fwww.googleapis.com%2fauth%2fdrive%20https%3a%2f%2fwww.googleapis.com%2fauth%2fdrive.photos.readonly%20https%3a%2f%2fwww.googleapis.com%2fauth%2fpeopleapi.readonly\n",
            "\n",
            "Enter your authorization code:\n",
            "··········\n",
            "Mounted at /content/drive\n"
          ],
          "name": "stdout"
        }
      ]
    },
    {
      "cell_type": "code",
      "metadata": {
        "id": "JRPSuYQsED_1",
        "colab_type": "code",
        "colab": {}
      },
      "source": [
        "mercedesbenzdata = pd.read_csv('/content/drive/My Drive/Colab Notebooks/mercedesbenz.googletrends.csv', parse_dates=['period'],index_col =\"period\" )\n"
      ],
      "execution_count": 0,
      "outputs": []
    },
    {
      "cell_type": "code",
      "metadata": {
        "id": "6d9CelVKEX7-",
        "colab_type": "code",
        "outputId": "222334ec-dbea-42ea-eb1b-a919e2fad0e6",
        "colab": {
          "base_uri": "https://localhost:8080/",
          "height": 228
        }
      },
      "source": [
        "mercedesbenzdata.head()"
      ],
      "execution_count": 0,
      "outputs": [
        {
          "output_type": "execute_result",
          "data": {
            "text/html": [
              "<div>\n",
              "<style scoped>\n",
              "    .dataframe tbody tr th:only-of-type {\n",
              "        vertical-align: middle;\n",
              "    }\n",
              "\n",
              "    .dataframe tbody tr th {\n",
              "        vertical-align: top;\n",
              "    }\n",
              "\n",
              "    .dataframe thead th {\n",
              "        text-align: right;\n",
              "    }\n",
              "</style>\n",
              "<table border=\"1\" class=\"dataframe\">\n",
              "  <thead>\n",
              "    <tr style=\"text-align: right;\">\n",
              "      <th></th>\n",
              "      <th>Unnamed: 0</th>\n",
              "      <th>date</th>\n",
              "      <th>value</th>\n",
              "      <th>onediffvalue</th>\n",
              "    </tr>\n",
              "    <tr>\n",
              "      <th>period</th>\n",
              "      <th></th>\n",
              "      <th></th>\n",
              "      <th></th>\n",
              "      <th></th>\n",
              "    </tr>\n",
              "  </thead>\n",
              "  <tbody>\n",
              "    <tr>\n",
              "      <th>2013-10-07</th>\n",
              "      <td>0</td>\n",
              "      <td>Oct 07 2013</td>\n",
              "      <td>3997.423359</td>\n",
              "      <td>NaN</td>\n",
              "    </tr>\n",
              "    <tr>\n",
              "      <th>2013-10-08</th>\n",
              "      <td>1</td>\n",
              "      <td>Oct 08 2013</td>\n",
              "      <td>4175.337771</td>\n",
              "      <td>177.914412</td>\n",
              "    </tr>\n",
              "    <tr>\n",
              "      <th>2013-10-09</th>\n",
              "      <td>2</td>\n",
              "      <td>Oct 09 2013</td>\n",
              "      <td>4024.925648</td>\n",
              "      <td>-150.412123</td>\n",
              "    </tr>\n",
              "    <tr>\n",
              "      <th>2013-10-10</th>\n",
              "      <td>3</td>\n",
              "      <td>Oct 10 2013</td>\n",
              "      <td>3887.818761</td>\n",
              "      <td>-137.106887</td>\n",
              "    </tr>\n",
              "    <tr>\n",
              "      <th>2013-10-11</th>\n",
              "      <td>4</td>\n",
              "      <td>Oct 11 2013</td>\n",
              "      <td>4111.597680</td>\n",
              "      <td>223.778919</td>\n",
              "    </tr>\n",
              "  </tbody>\n",
              "</table>\n",
              "</div>"
            ],
            "text/plain": [
              "            Unnamed: 0         date        value  onediffvalue\n",
              "period                                                        \n",
              "2013-10-07           0  Oct 07 2013  3997.423359           NaN\n",
              "2013-10-08           1  Oct 08 2013  4175.337771    177.914412\n",
              "2013-10-09           2  Oct 09 2013  4024.925648   -150.412123\n",
              "2013-10-10           3  Oct 10 2013  3887.818761   -137.106887\n",
              "2013-10-11           4  Oct 11 2013  4111.597680    223.778919"
            ]
          },
          "metadata": {
            "tags": []
          },
          "execution_count": 7
        }
      ]
    },
    {
      "cell_type": "code",
      "metadata": {
        "id": "NcDB1glvE2fU",
        "colab_type": "code",
        "outputId": "1302a74d-9e6f-48dd-e16e-4fc108852df4",
        "colab": {
          "base_uri": "https://localhost:8080/",
          "height": 228
        }
      },
      "source": [
        "weekly_summary = mercedesbenzdata.resample('W').mean()\n",
        "weekly_summary.head()"
      ],
      "execution_count": 0,
      "outputs": [
        {
          "output_type": "execute_result",
          "data": {
            "text/html": [
              "<div>\n",
              "<style scoped>\n",
              "    .dataframe tbody tr th:only-of-type {\n",
              "        vertical-align: middle;\n",
              "    }\n",
              "\n",
              "    .dataframe tbody tr th {\n",
              "        vertical-align: top;\n",
              "    }\n",
              "\n",
              "    .dataframe thead th {\n",
              "        text-align: right;\n",
              "    }\n",
              "</style>\n",
              "<table border=\"1\" class=\"dataframe\">\n",
              "  <thead>\n",
              "    <tr style=\"text-align: right;\">\n",
              "      <th></th>\n",
              "      <th>Unnamed: 0</th>\n",
              "      <th>value</th>\n",
              "      <th>onediffvalue</th>\n",
              "    </tr>\n",
              "    <tr>\n",
              "      <th>period</th>\n",
              "      <th></th>\n",
              "      <th></th>\n",
              "      <th></th>\n",
              "    </tr>\n",
              "  </thead>\n",
              "  <tbody>\n",
              "    <tr>\n",
              "      <th>2013-10-13</th>\n",
              "      <td>3</td>\n",
              "      <td>4122.608701</td>\n",
              "      <td>27.059775</td>\n",
              "    </tr>\n",
              "    <tr>\n",
              "      <th>2013-10-20</th>\n",
              "      <td>10</td>\n",
              "      <td>4073.020551</td>\n",
              "      <td>-8.473709</td>\n",
              "    </tr>\n",
              "    <tr>\n",
              "      <th>2013-10-27</th>\n",
              "      <td>17</td>\n",
              "      <td>4106.416964</td>\n",
              "      <td>14.768580</td>\n",
              "    </tr>\n",
              "    <tr>\n",
              "      <th>2013-11-03</th>\n",
              "      <td>24</td>\n",
              "      <td>3942.066792</td>\n",
              "      <td>-15.370406</td>\n",
              "    </tr>\n",
              "    <tr>\n",
              "      <th>2013-11-10</th>\n",
              "      <td>31</td>\n",
              "      <td>3643.773861</td>\n",
              "      <td>-46.529863</td>\n",
              "    </tr>\n",
              "  </tbody>\n",
              "</table>\n",
              "</div>"
            ],
            "text/plain": [
              "            Unnamed: 0        value  onediffvalue\n",
              "period                                           \n",
              "2013-10-13           3  4122.608701     27.059775\n",
              "2013-10-20          10  4073.020551     -8.473709\n",
              "2013-10-27          17  4106.416964     14.768580\n",
              "2013-11-03          24  3942.066792    -15.370406\n",
              "2013-11-10          31  3643.773861    -46.529863"
            ]
          },
          "metadata": {
            "tags": []
          },
          "execution_count": 8
        }
      ]
    },
    {
      "cell_type": "code",
      "metadata": {
        "id": "Z538sKdeRp0C",
        "colab_type": "code",
        "outputId": "c490097e-def9-4e75-da3f-4cc2b94376be",
        "colab": {
          "base_uri": "https://localhost:8080/",
          "height": 522
        }
      },
      "source": [
        "benz = pd.read_csv(\"/content/drive/My Drive/Colab Notebooks/mercedesbenz.adspend.csv\")\n",
        "benz['TIME PERIOD'] = benz['TIME PERIOD'].str.replace('WEEK OF ','')\n",
        "benz['TIME PERIOD'] = benz['TIME PERIOD'].str.replace(r\"\\(.*?\\)\", \"\")\n",
        "import datetime\n",
        "benz['TIME PERIOD'] = pd.to_datetime(benz['TIME PERIOD'], format='%b %d, %Y ')\n",
        "benz['TOTAL DOLS (000)'] = benz['TOTAL DOLS (000)'] * 1000\n",
        "benz['NETWORK TV DOLS (000)'] = benz['NETWORK TV DOLS (000)'] * 1000\n",
        "benz['CABLE TV DOLS (000)'] = benz['CABLE TV DOLS (000)'] * 1000\n",
        "benz['SYNDICATION DOLS (000)'] = benz['SYNDICATION DOLS (000)'] * 1000\n",
        "benz['SPOT TV DOLS (000)'] = benz['SPOT TV DOLS (000)'] * 1000\n",
        "benz['MAGAZINES DOLS (000)'] = benz['MAGAZINES DOLS (000)'] * 1000\n",
        "benz['SUNDAY MAGS DOLS (000)'] = benz['SPOT TV DOLS (000)'] * 1000\n",
        "benz['NATL NEWSP DOLS (000)'] = benz['NATL NEWSP DOLS (000)'] * 1000\n",
        "benz['NEWSPAPER DOLS (000)'] = benz['NEWSPAPER DOLS (000)'] * 1000\n",
        "benz['NETWORK RADIO DOLS (000)'] = benz['NETWORK RADIO DOLS (000)'] * 1000\n",
        "benz['NAT SPOT RADIO DOLS (000)'] = benz['NAT SPOT RADIO DOLS (000)'] * 1000\n",
        "benz['OUTDOOR DOLS (000)'] = benz['OUTDOOR DOLS (000)'] * 1000\n",
        "benz= benz.set_index('TIME PERIOD')\n",
        "benz.columns=benz.columns.str.replace(r\"\\(.*?\\)\",\"\")\n",
        "benz.columns=benz.columns.str.replace(\" DOLS\",\"\")\n",
        "benz.head()"
      ],
      "execution_count": 0,
      "outputs": [
        {
          "output_type": "execute_result",
          "data": {
            "text/html": [
              "<div>\n",
              "<style scoped>\n",
              "    .dataframe tbody tr th:only-of-type {\n",
              "        vertical-align: middle;\n",
              "    }\n",
              "\n",
              "    .dataframe tbody tr th {\n",
              "        vertical-align: top;\n",
              "    }\n",
              "\n",
              "    .dataframe thead th {\n",
              "        text-align: right;\n",
              "    }\n",
              "</style>\n",
              "<table border=\"1\" class=\"dataframe\">\n",
              "  <thead>\n",
              "    <tr style=\"text-align: right;\">\n",
              "      <th></th>\n",
              "      <th>PRODUCT</th>\n",
              "      <th>TOTAL</th>\n",
              "      <th>NETWORK TV</th>\n",
              "      <th>CABLE TV</th>\n",
              "      <th>SYNDICATION</th>\n",
              "      <th>SPOT TV</th>\n",
              "      <th>MAGAZINES</th>\n",
              "      <th>SUNDAY MAGS</th>\n",
              "      <th>NATL NEWSP</th>\n",
              "      <th>NEWSPAPER</th>\n",
              "      <th>NETWORK RADIO</th>\n",
              "      <th>NAT SPOT RADIO</th>\n",
              "      <th>OUTDOOR</th>\n",
              "    </tr>\n",
              "    <tr>\n",
              "      <th>TIME PERIOD</th>\n",
              "      <th></th>\n",
              "      <th></th>\n",
              "      <th></th>\n",
              "      <th></th>\n",
              "      <th></th>\n",
              "      <th></th>\n",
              "      <th></th>\n",
              "      <th></th>\n",
              "      <th></th>\n",
              "      <th></th>\n",
              "      <th></th>\n",
              "      <th></th>\n",
              "      <th></th>\n",
              "    </tr>\n",
              "  </thead>\n",
              "  <tbody>\n",
              "    <tr>\n",
              "      <th>2013-10-07</th>\n",
              "      <td>Mercedes Benz CLA : European Passenger Auto</td>\n",
              "      <td>4464100.0</td>\n",
              "      <td>887600.0</td>\n",
              "      <td>1161200.0</td>\n",
              "      <td>0.0</td>\n",
              "      <td>2129000.0</td>\n",
              "      <td>286400.0</td>\n",
              "      <td>2.129000e+09</td>\n",
              "      <td>0.0</td>\n",
              "      <td>0.0</td>\n",
              "      <td>0.0</td>\n",
              "      <td>0.0</td>\n",
              "      <td>0.0</td>\n",
              "    </tr>\n",
              "    <tr>\n",
              "      <th>2013-10-07</th>\n",
              "      <td>Mercedes Benz CLA250 : European Passenger Auto</td>\n",
              "      <td>1196500.0</td>\n",
              "      <td>426200.0</td>\n",
              "      <td>770300.0</td>\n",
              "      <td>0.0</td>\n",
              "      <td>0.0</td>\n",
              "      <td>0.0</td>\n",
              "      <td>0.000000e+00</td>\n",
              "      <td>0.0</td>\n",
              "      <td>0.0</td>\n",
              "      <td>0.0</td>\n",
              "      <td>0.0</td>\n",
              "      <td>0.0</td>\n",
              "    </tr>\n",
              "    <tr>\n",
              "      <th>2013-10-07</th>\n",
              "      <td>Mercedes Benz CLA250 Leasing : European Passen...</td>\n",
              "      <td>100.0</td>\n",
              "      <td>0.0</td>\n",
              "      <td>0.0</td>\n",
              "      <td>0.0</td>\n",
              "      <td>100.0</td>\n",
              "      <td>0.0</td>\n",
              "      <td>1.000000e+05</td>\n",
              "      <td>0.0</td>\n",
              "      <td>0.0</td>\n",
              "      <td>0.0</td>\n",
              "      <td>0.0</td>\n",
              "      <td>0.0</td>\n",
              "    </tr>\n",
              "    <tr>\n",
              "      <th>2013-10-07</th>\n",
              "      <td>Mercedes Benz Full Line : Various European Aut...</td>\n",
              "      <td>30200.0</td>\n",
              "      <td>0.0</td>\n",
              "      <td>0.0</td>\n",
              "      <td>0.0</td>\n",
              "      <td>1100.0</td>\n",
              "      <td>0.0</td>\n",
              "      <td>1.100000e+06</td>\n",
              "      <td>0.0</td>\n",
              "      <td>0.0</td>\n",
              "      <td>28800.0</td>\n",
              "      <td>200.0</td>\n",
              "      <td>0.0</td>\n",
              "    </tr>\n",
              "    <tr>\n",
              "      <th>2013-10-07</th>\n",
              "      <td>Mercedes Benz Full Line Pre-Owned : Various Eu...</td>\n",
              "      <td>37100.0</td>\n",
              "      <td>0.0</td>\n",
              "      <td>0.0</td>\n",
              "      <td>0.0</td>\n",
              "      <td>0.0</td>\n",
              "      <td>0.0</td>\n",
              "      <td>0.000000e+00</td>\n",
              "      <td>0.0</td>\n",
              "      <td>0.0</td>\n",
              "      <td>37100.0</td>\n",
              "      <td>0.0</td>\n",
              "      <td>0.0</td>\n",
              "    </tr>\n",
              "  </tbody>\n",
              "</table>\n",
              "</div>"
            ],
            "text/plain": [
              "                                                       PRODUCT  ...  OUTDOOR \n",
              "TIME PERIOD                                                     ...          \n",
              "2013-10-07         Mercedes Benz CLA : European Passenger Auto  ...       0.0\n",
              "2013-10-07      Mercedes Benz CLA250 : European Passenger Auto  ...       0.0\n",
              "2013-10-07   Mercedes Benz CLA250 Leasing : European Passen...  ...       0.0\n",
              "2013-10-07   Mercedes Benz Full Line : Various European Aut...  ...       0.0\n",
              "2013-10-07   Mercedes Benz Full Line Pre-Owned : Various Eu...  ...       0.0\n",
              "\n",
              "[5 rows x 13 columns]"
            ]
          },
          "metadata": {
            "tags": []
          },
          "execution_count": 10
        }
      ]
    },
    {
      "cell_type": "code",
      "metadata": {
        "id": "y0PowprNT2Sa",
        "colab_type": "code",
        "outputId": "5c647245-8f84-4419-f67c-e6192288c20e",
        "colab": {
          "base_uri": "https://localhost:8080/",
          "height": 369
        }
      },
      "source": [
        "weekly_ad = benz.resample('W').mean()\n",
        "weekly_ad.head()"
      ],
      "execution_count": 0,
      "outputs": [
        {
          "output_type": "execute_result",
          "data": {
            "text/html": [
              "<div>\n",
              "<style scoped>\n",
              "    .dataframe tbody tr th:only-of-type {\n",
              "        vertical-align: middle;\n",
              "    }\n",
              "\n",
              "    .dataframe tbody tr th {\n",
              "        vertical-align: top;\n",
              "    }\n",
              "\n",
              "    .dataframe thead th {\n",
              "        text-align: right;\n",
              "    }\n",
              "</style>\n",
              "<table border=\"1\" class=\"dataframe\">\n",
              "  <thead>\n",
              "    <tr style=\"text-align: right;\">\n",
              "      <th></th>\n",
              "      <th>TOTAL</th>\n",
              "      <th>NETWORK TV</th>\n",
              "      <th>CABLE TV</th>\n",
              "      <th>SYNDICATION</th>\n",
              "      <th>SPOT TV</th>\n",
              "      <th>MAGAZINES</th>\n",
              "      <th>SUNDAY MAGS</th>\n",
              "      <th>NATL NEWSP</th>\n",
              "      <th>NEWSPAPER</th>\n",
              "      <th>NETWORK RADIO</th>\n",
              "      <th>NAT SPOT RADIO</th>\n",
              "      <th>OUTDOOR</th>\n",
              "    </tr>\n",
              "    <tr>\n",
              "      <th>TIME PERIOD</th>\n",
              "      <th></th>\n",
              "      <th></th>\n",
              "      <th></th>\n",
              "      <th></th>\n",
              "      <th></th>\n",
              "      <th></th>\n",
              "      <th></th>\n",
              "      <th></th>\n",
              "      <th></th>\n",
              "      <th></th>\n",
              "      <th></th>\n",
              "      <th></th>\n",
              "    </tr>\n",
              "  </thead>\n",
              "  <tbody>\n",
              "    <tr>\n",
              "      <th>2013-10-13</th>\n",
              "      <td>1.085167e+06</td>\n",
              "      <td>218966.666667</td>\n",
              "      <td>323783.333333</td>\n",
              "      <td>0.000000</td>\n",
              "      <td>355033.333333</td>\n",
              "      <td>176366.666667</td>\n",
              "      <td>3.550333e+08</td>\n",
              "      <td>0.000000</td>\n",
              "      <td>0.000000</td>\n",
              "      <td>10983.333333</td>\n",
              "      <td>33.333333</td>\n",
              "      <td>0.000000</td>\n",
              "    </tr>\n",
              "    <tr>\n",
              "      <th>2013-10-20</th>\n",
              "      <td>1.115586e+06</td>\n",
              "      <td>550757.142857</td>\n",
              "      <td>307357.142857</td>\n",
              "      <td>0.000000</td>\n",
              "      <td>172985.714286</td>\n",
              "      <td>7114.285714</td>\n",
              "      <td>1.729857e+08</td>\n",
              "      <td>67928.571429</td>\n",
              "      <td>0.000000</td>\n",
              "      <td>9414.285714</td>\n",
              "      <td>28.571429</td>\n",
              "      <td>0.000000</td>\n",
              "    </tr>\n",
              "    <tr>\n",
              "      <th>2013-10-27</th>\n",
              "      <td>6.276000e+05</td>\n",
              "      <td>238366.666667</td>\n",
              "      <td>173041.666667</td>\n",
              "      <td>0.000000</td>\n",
              "      <td>151891.666667</td>\n",
              "      <td>58775.000000</td>\n",
              "      <td>1.518917e+08</td>\n",
              "      <td>0.000000</td>\n",
              "      <td>0.000000</td>\n",
              "      <td>5491.666667</td>\n",
              "      <td>16.666667</td>\n",
              "      <td>0.000000</td>\n",
              "    </tr>\n",
              "    <tr>\n",
              "      <th>2013-11-03</th>\n",
              "      <td>5.861714e+05</td>\n",
              "      <td>232933.333333</td>\n",
              "      <td>99519.047619</td>\n",
              "      <td>95.238095</td>\n",
              "      <td>79500.000000</td>\n",
              "      <td>161919.047619</td>\n",
              "      <td>7.950000e+07</td>\n",
              "      <td>0.000000</td>\n",
              "      <td>319.047619</td>\n",
              "      <td>3219.047619</td>\n",
              "      <td>19.047619</td>\n",
              "      <td>8647.619048</td>\n",
              "    </tr>\n",
              "    <tr>\n",
              "      <th>2013-11-10</th>\n",
              "      <td>4.486545e+05</td>\n",
              "      <td>364963.636364</td>\n",
              "      <td>44009.090909</td>\n",
              "      <td>0.000000</td>\n",
              "      <td>909.090909</td>\n",
              "      <td>32363.636364</td>\n",
              "      <td>9.090909e+05</td>\n",
              "      <td>0.000000</td>\n",
              "      <td>0.000000</td>\n",
              "      <td>6354.545455</td>\n",
              "      <td>54.545455</td>\n",
              "      <td>0.000000</td>\n",
              "    </tr>\n",
              "  </tbody>\n",
              "</table>\n",
              "</div>"
            ],
            "text/plain": [
              "                   TOTAL     NETWORK TV   ...  NAT SPOT RADIO      OUTDOOR \n",
              "TIME PERIOD                               ...                              \n",
              "2013-10-13   1.085167e+06  218966.666667  ...        33.333333     0.000000\n",
              "2013-10-20   1.115586e+06  550757.142857  ...        28.571429     0.000000\n",
              "2013-10-27   6.276000e+05  238366.666667  ...        16.666667     0.000000\n",
              "2013-11-03   5.861714e+05  232933.333333  ...        19.047619  8647.619048\n",
              "2013-11-10   4.486545e+05  364963.636364  ...        54.545455     0.000000\n",
              "\n",
              "[5 rows x 12 columns]"
            ]
          },
          "metadata": {
            "tags": []
          },
          "execution_count": 11
        }
      ]
    },
    {
      "cell_type": "markdown",
      "metadata": {
        "id": "F42G6_0G9ALi",
        "colab_type": "text"
      },
      "source": [
        "# Joining Datasets"
      ]
    },
    {
      "cell_type": "code",
      "metadata": {
        "id": "yp6_gVbfUZH2",
        "colab_type": "code",
        "outputId": "08b9b9ff-6463-479a-d6bd-f9a08cef4a0e",
        "colab": {
          "base_uri": "https://localhost:8080/",
          "height": 369
        }
      },
      "source": [
        "combined = pd.merge(weekly_ad, weekly_summary, left_index=True, right_index=True)\n",
        "combined.head()"
      ],
      "execution_count": 0,
      "outputs": [
        {
          "output_type": "execute_result",
          "data": {
            "text/html": [
              "<div>\n",
              "<style scoped>\n",
              "    .dataframe tbody tr th:only-of-type {\n",
              "        vertical-align: middle;\n",
              "    }\n",
              "\n",
              "    .dataframe tbody tr th {\n",
              "        vertical-align: top;\n",
              "    }\n",
              "\n",
              "    .dataframe thead th {\n",
              "        text-align: right;\n",
              "    }\n",
              "</style>\n",
              "<table border=\"1\" class=\"dataframe\">\n",
              "  <thead>\n",
              "    <tr style=\"text-align: right;\">\n",
              "      <th></th>\n",
              "      <th>TOTAL</th>\n",
              "      <th>NETWORK TV</th>\n",
              "      <th>CABLE TV</th>\n",
              "      <th>SYNDICATION</th>\n",
              "      <th>SPOT TV</th>\n",
              "      <th>MAGAZINES</th>\n",
              "      <th>SUNDAY MAGS</th>\n",
              "      <th>NATL NEWSP</th>\n",
              "      <th>NEWSPAPER</th>\n",
              "      <th>NETWORK RADIO</th>\n",
              "      <th>NAT SPOT RADIO</th>\n",
              "      <th>OUTDOOR</th>\n",
              "      <th>Unnamed: 0</th>\n",
              "      <th>value</th>\n",
              "      <th>onediffvalue</th>\n",
              "    </tr>\n",
              "    <tr>\n",
              "      <th>TIME PERIOD</th>\n",
              "      <th></th>\n",
              "      <th></th>\n",
              "      <th></th>\n",
              "      <th></th>\n",
              "      <th></th>\n",
              "      <th></th>\n",
              "      <th></th>\n",
              "      <th></th>\n",
              "      <th></th>\n",
              "      <th></th>\n",
              "      <th></th>\n",
              "      <th></th>\n",
              "      <th></th>\n",
              "      <th></th>\n",
              "      <th></th>\n",
              "    </tr>\n",
              "  </thead>\n",
              "  <tbody>\n",
              "    <tr>\n",
              "      <th>2013-10-13</th>\n",
              "      <td>1.085167e+06</td>\n",
              "      <td>218966.666667</td>\n",
              "      <td>323783.333333</td>\n",
              "      <td>0.000000</td>\n",
              "      <td>355033.333333</td>\n",
              "      <td>176366.666667</td>\n",
              "      <td>3.550333e+08</td>\n",
              "      <td>0.000000</td>\n",
              "      <td>0.000000</td>\n",
              "      <td>10983.333333</td>\n",
              "      <td>33.333333</td>\n",
              "      <td>0.000000</td>\n",
              "      <td>3</td>\n",
              "      <td>4122.608701</td>\n",
              "      <td>27.059775</td>\n",
              "    </tr>\n",
              "    <tr>\n",
              "      <th>2013-10-20</th>\n",
              "      <td>1.115586e+06</td>\n",
              "      <td>550757.142857</td>\n",
              "      <td>307357.142857</td>\n",
              "      <td>0.000000</td>\n",
              "      <td>172985.714286</td>\n",
              "      <td>7114.285714</td>\n",
              "      <td>1.729857e+08</td>\n",
              "      <td>67928.571429</td>\n",
              "      <td>0.000000</td>\n",
              "      <td>9414.285714</td>\n",
              "      <td>28.571429</td>\n",
              "      <td>0.000000</td>\n",
              "      <td>10</td>\n",
              "      <td>4073.020551</td>\n",
              "      <td>-8.473709</td>\n",
              "    </tr>\n",
              "    <tr>\n",
              "      <th>2013-10-27</th>\n",
              "      <td>6.276000e+05</td>\n",
              "      <td>238366.666667</td>\n",
              "      <td>173041.666667</td>\n",
              "      <td>0.000000</td>\n",
              "      <td>151891.666667</td>\n",
              "      <td>58775.000000</td>\n",
              "      <td>1.518917e+08</td>\n",
              "      <td>0.000000</td>\n",
              "      <td>0.000000</td>\n",
              "      <td>5491.666667</td>\n",
              "      <td>16.666667</td>\n",
              "      <td>0.000000</td>\n",
              "      <td>17</td>\n",
              "      <td>4106.416964</td>\n",
              "      <td>14.768580</td>\n",
              "    </tr>\n",
              "    <tr>\n",
              "      <th>2013-11-03</th>\n",
              "      <td>5.861714e+05</td>\n",
              "      <td>232933.333333</td>\n",
              "      <td>99519.047619</td>\n",
              "      <td>95.238095</td>\n",
              "      <td>79500.000000</td>\n",
              "      <td>161919.047619</td>\n",
              "      <td>7.950000e+07</td>\n",
              "      <td>0.000000</td>\n",
              "      <td>319.047619</td>\n",
              "      <td>3219.047619</td>\n",
              "      <td>19.047619</td>\n",
              "      <td>8647.619048</td>\n",
              "      <td>24</td>\n",
              "      <td>3942.066792</td>\n",
              "      <td>-15.370406</td>\n",
              "    </tr>\n",
              "    <tr>\n",
              "      <th>2013-11-10</th>\n",
              "      <td>4.486545e+05</td>\n",
              "      <td>364963.636364</td>\n",
              "      <td>44009.090909</td>\n",
              "      <td>0.000000</td>\n",
              "      <td>909.090909</td>\n",
              "      <td>32363.636364</td>\n",
              "      <td>9.090909e+05</td>\n",
              "      <td>0.000000</td>\n",
              "      <td>0.000000</td>\n",
              "      <td>6354.545455</td>\n",
              "      <td>54.545455</td>\n",
              "      <td>0.000000</td>\n",
              "      <td>31</td>\n",
              "      <td>3643.773861</td>\n",
              "      <td>-46.529863</td>\n",
              "    </tr>\n",
              "  </tbody>\n",
              "</table>\n",
              "</div>"
            ],
            "text/plain": [
              "                   TOTAL     NETWORK TV   ...        value  onediffvalue\n",
              "TIME PERIOD                               ...                           \n",
              "2013-10-13   1.085167e+06  218966.666667  ...  4122.608701     27.059775\n",
              "2013-10-20   1.115586e+06  550757.142857  ...  4073.020551     -8.473709\n",
              "2013-10-27   6.276000e+05  238366.666667  ...  4106.416964     14.768580\n",
              "2013-11-03   5.861714e+05  232933.333333  ...  3942.066792    -15.370406\n",
              "2013-11-10   4.486545e+05  364963.636364  ...  3643.773861    -46.529863\n",
              "\n",
              "[5 rows x 15 columns]"
            ]
          },
          "metadata": {
            "tags": []
          },
          "execution_count": 12
        }
      ]
    },
    {
      "cell_type": "markdown",
      "metadata": {
        "id": "kmYxR3OF82yg",
        "colab_type": "text"
      },
      "source": [
        "# Correlation\n"
      ]
    },
    {
      "cell_type": "code",
      "metadata": {
        "id": "7IvIQpVvVHpe",
        "colab_type": "code",
        "outputId": "7426ff2b-ab90-4040-b632-103387a3d709",
        "colab": {
          "base_uri": "https://localhost:8080/",
          "height": 645
        }
      },
      "source": [
        "from string import ascii_letters\n",
        "import seaborn as sns\n",
        "import matplotlib.pyplot as plt\n",
        "import numpy as np\n",
        "sns.set(style=\"white\")\n",
        "corr = combined.corr()\n",
        "mask = np.triu(np.ones_like(corr, dtype=np.bool))\n",
        "f, ax = plt.subplots(figsize=(11, 9))\n",
        "cmap = sns.diverging_palette(220, 10, as_cmap=True)\n",
        "sns.heatmap(corr, mask=mask, cmap=cmap, vmax=.3, center=0,\n",
        "            square=True, linewidths=.5, cbar_kws={\"shrink\": .5})"
      ],
      "execution_count": 0,
      "outputs": [
        {
          "output_type": "execute_result",
          "data": {
            "text/plain": [
              "<matplotlib.axes._subplots.AxesSubplot at 0x7fbcea084358>"
            ]
          },
          "metadata": {
            "tags": []
          },
          "execution_count": 13
        },
        {
          "output_type": "display_data",
          "data": {
            "image/png": "[encoded data removed]",
            "text/plain": [
              "<Figure size 792x648 with 2 Axes>"
            ]
          },
          "metadata": {
            "tags": []
          }
        }
      ]
    },
    {
      "cell_type": "markdown",
      "metadata": {
        "id": "Fx4eEs53e1J_",
        "colab_type": "text"
      },
      "source": [
        "Not looking at the Total column, based on the heatmap we see the strongest correlation between the following variables:\n",
        "  1. **Network TV  - Cable TV**\n",
        "  2. Cable TV - Spot TV, Sunday Magazines\n",
        "  3. Spot TV - Sunday magazines\n",
        "  4. **Magazines - Outdoors**\n",
        "  5. National Newspaper - Radio Network\n",
        "\n",
        "But if we look at the correlation matrix itself, the strongest relationship is between magazines and outdoors(0.68) followed by Network Tv and Cable TV(0.47)"
      ]
    },
    {
      "cell_type": "markdown",
      "metadata": {
        "id": "7TL3_a9U8uB_",
        "colab_type": "text"
      },
      "source": [
        "# Granger Causality"
      ]
    },
    {
      "cell_type": "code",
      "metadata": {
        "id": "1aR1mipBGSlN",
        "colab_type": "code",
        "colab": {}
      },
      "source": [
        "from statsmodels.tsa.stattools import grangercausalitytests"
      ],
      "execution_count": 0,
      "outputs": []
    },
    {
      "cell_type": "code",
      "metadata": {
        "id": "bCiPoQTLIQXm",
        "colab_type": "code",
        "outputId": "b100d5cd-759d-425f-dae5-14d5cfc5e128",
        "colab": {
          "base_uri": "https://localhost:8080/",
          "height": 501
        }
      },
      "source": [
        "grangerOutdoor = grangercausalitytests(combined[['value', 'OUTDOOR ']], 4)"
      ],
      "execution_count": 0,
      "outputs": [
        {
          "output_type": "stream",
          "text": [
            "\n",
            "Granger Causality\n",
            "number of lags (no zero) 1\n",
            "ssr based F test:         F=4.1883  , p=0.0417  , df_denom=257, df_num=1\n",
            "ssr based chi2 test:   chi2=4.2371  , p=0.0395  , df=1\n",
            "likelihood ratio test: chi2=4.2030  , p=0.0404  , df=1\n",
            "parameter F test:         F=4.1883  , p=0.0417  , df_denom=257, df_num=1\n",
            "\n",
            "Granger Causality\n",
            "number of lags (no zero) 2\n",
            "ssr based F test:         F=4.4839  , p=0.0122  , df_denom=254, df_num=2\n",
            "ssr based chi2 test:   chi2=9.1443  , p=0.0103  , df=2\n",
            "likelihood ratio test: chi2=8.9866  , p=0.0112  , df=2\n",
            "parameter F test:         F=4.4839  , p=0.0122  , df_denom=254, df_num=2\n",
            "\n",
            "Granger Causality\n",
            "number of lags (no zero) 3\n",
            "ssr based F test:         F=3.8106  , p=0.0107  , df_denom=251, df_num=3\n",
            "ssr based chi2 test:   chi2=11.7507 , p=0.0083  , df=3\n",
            "likelihood ratio test: chi2=11.4910 , p=0.0093  , df=3\n",
            "parameter F test:         F=3.8106  , p=0.0107  , df_denom=251, df_num=3\n",
            "\n",
            "Granger Causality\n",
            "number of lags (no zero) 4\n",
            "ssr based F test:         F=2.9526  , p=0.0207  , df_denom=248, df_num=4\n",
            "ssr based chi2 test:   chi2=12.2388 , p=0.0157  , df=4\n",
            "likelihood ratio test: chi2=11.9564 , p=0.0177  , df=4\n",
            "parameter F test:         F=2.9526  , p=0.0207  , df_denom=248, df_num=4\n"
          ],
          "name": "stdout"
        }
      ]
    },
    {
      "cell_type": "markdown",
      "metadata": {
        "id": "Cugr9pyWpvUW",
        "colab_type": "text"
      },
      "source": [
        "Looking at the result if F-test, we cannot reject the hypothesis that advertising spend predict Google Trends for outdoors as the p- value is less than 0.05 for all the weeks."
      ]
    },
    {
      "cell_type": "code",
      "metadata": {
        "id": "MrYzyKpnKLQg",
        "colab_type": "code",
        "outputId": "3022646b-b21b-48bb-f1c6-e336c5725fbc",
        "colab": {
          "base_uri": "https://localhost:8080/",
          "height": 501
        }
      },
      "source": [
        "grangerMagazines = grangercausalitytests(combined[['value', 'MAGAZINES ']], 4)"
      ],
      "execution_count": 0,
      "outputs": [
        {
          "output_type": "stream",
          "text": [
            "\n",
            "Granger Causality\n",
            "number of lags (no zero) 1\n",
            "ssr based F test:         F=3.4025  , p=0.0662  , df_denom=257, df_num=1\n",
            "ssr based chi2 test:   chi2=3.4422  , p=0.0635  , df=1\n",
            "likelihood ratio test: chi2=3.4197  , p=0.0644  , df=1\n",
            "parameter F test:         F=3.4025  , p=0.0662  , df_denom=257, df_num=1\n",
            "\n",
            "Granger Causality\n",
            "number of lags (no zero) 2\n",
            "ssr based F test:         F=3.4206  , p=0.0342  , df_denom=254, df_num=2\n",
            "ssr based chi2 test:   chi2=6.9759  , p=0.0306  , df=2\n",
            "likelihood ratio test: chi2=6.8836  , p=0.0320  , df=2\n",
            "parameter F test:         F=3.4206  , p=0.0342  , df_denom=254, df_num=2\n",
            "\n",
            "Granger Causality\n",
            "number of lags (no zero) 3\n",
            "ssr based F test:         F=3.2544  , p=0.0223  , df_denom=251, df_num=3\n",
            "ssr based chi2 test:   chi2=10.0354 , p=0.0183  , df=3\n",
            "likelihood ratio test: chi2=9.8451  , p=0.0199  , df=3\n",
            "parameter F test:         F=3.2544  , p=0.0223  , df_denom=251, df_num=3\n",
            "\n",
            "Granger Causality\n",
            "number of lags (no zero) 4\n",
            "ssr based F test:         F=4.0455  , p=0.0034  , df_denom=248, df_num=4\n",
            "ssr based chi2 test:   chi2=16.7693 , p=0.0021  , df=4\n",
            "likelihood ratio test: chi2=16.2449 , p=0.0027  , df=4\n",
            "parameter F test:         F=4.0455  , p=0.0034  , df_denom=248, df_num=4\n"
          ],
          "name": "stdout"
        }
      ]
    },
    {
      "cell_type": "markdown",
      "metadata": {
        "id": "X0_HmokQBU_P",
        "colab_type": "text"
      },
      "source": [
        "For magazines, we can reject the hypotheis that advertising spend predict Google Trends for one week as the p-value is greater than 0.05 for one week lag and for others we can't reject the null. "
      ]
    },
    {
      "cell_type": "markdown",
      "metadata": {
        "id": "ocVcWc3RBjvr",
        "colab_type": "text"
      },
      "source": [
        "# Granger Insights"
      ]
    },
    {
      "cell_type": "markdown",
      "metadata": {
        "id": "HrR_fudIBtld",
        "colab_type": "text"
      },
      "source": [
        "Does it appear possible that outdoor advertising has a delayed effect on Google Trends?\n",
        "Ans:There doesn't seem to be a major delayed effect as all the p values seem to be less that 0.05 and there is a trend.\n",
        "\n",
        "Does it appear possible that magazine advertising has a delayed effect on Google Trends?\n",
        "Ans:The is a delayed effect from week 1 to other weeeks as the trend of p values changes from over 0.05 to under 0.05."
      ]
    }
  ]
}